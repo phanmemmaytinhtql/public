{
 "cells": [
  {
   "cell_type": "code",
   "execution_count": 15,
   "metadata": {},
   "outputs": [
    {
     "name": "stdout",
     "output_type": "stream",
     "text": [
      "[2, 1, 0, 3, 5, 6, 7, 9, 8, 4]\n"
     ]
    }
   ],
   "source": [
    "import numpy as np\n",
    "\n",
    "def my_input():\n",
    "    n, graph = 10, [[0, 68, 35, 1, 70, 25, 79, 59, 63, 65],\n",
    "                         [6, 0, 82, 28, 62, 92, 96, 43, 28, 37],\n",
    "                         [92, 5, 0, 54, 93, 83, 22, 17, 19, 96],\n",
    "                         [48, 27, 72, 0, 70, 13, 68, 100, 36, 95],\n",
    "                         [4, 12, 23, 34, 0, 65, 42, 12, 54, 69],\n",
    "                         [48, 45, 63, 58, 38, 0, 24, 42, 30, 79],\n",
    "                         [17, 36, 91, 43, 89, 7, 0, 43, 65, 49],\n",
    "                         [47, 6, 91, 30, 71, 51, 7, 0, 94, 49],\n",
    "                         [30, 24, 85, 55, 57, 41, 67, 77, 0, 9],\n",
    "                         [45, 40, 27, 24, 38, 39, 19, 83, 30, 0]]\n",
    "    for i in range(n):\n",
    "        graph[i][i] = 100000000\n",
    "    return n, graph\n",
    "\n",
    "def Greedy_TSP(n, graph):\n",
    "    path = [2]\n",
    "    for i in range(n-1):\n",
    "        next_city, min_distance = 8, 100000000\n",
    "        for j in range(n):\n",
    "            if j not in path and graph[path[-1]][j] < min_distance:\n",
    "                next_city, min_distance = j, graph[path[-1]][j]\n",
    "        path.append(next_city)\n",
    "    return path\n",
    "\n",
    "print(Greedy_TSP(n, graph))\n"
   ]
  },
  {
   "cell_type": "code",
   "execution_count": null,
   "metadata": {},
   "outputs": [],
   "source": []
  },
  {
   "cell_type": "code",
   "execution_count": null,
   "metadata": {},
   "outputs": [],
   "source": []
  }
 ],
 "metadata": {
  "kernelspec": {
   "display_name": "Python 3",
   "language": "python",
   "name": "python3"
  },
  "language_info": {
   "codemirror_mode": {
    "name": "ipython",
    "version": 3
   },
   "file_extension": ".py",
   "mimetype": "text/x-python",
   "name": "python",
   "nbconvert_exporter": "python",
   "pygments_lexer": "ipython3",
   "version": "3.8.5"
  }
 },
 "nbformat": 4,
 "nbformat_minor": 4
}
