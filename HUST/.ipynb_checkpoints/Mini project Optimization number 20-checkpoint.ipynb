{
 "cells": [
  {
   "cell_type": "markdown",
   "metadata": {},
   "source": [
    "# Mini project 20\n",
    "\n",
    "There are $N$ articles $1, 2,…, N$ need assigning to $M$ scientists $1, 2, …, M$ for commenting.\n",
    "\n",
    "Each article $i$ can only be given to a certain list of scientists $L(i)$\n",
    "\n",
    "\n",
    "who have the expertise to comment on the article.  Every article must be given to at least $K$ scientists in order to guarantee reliability. Find a way of assigning so that the maximum of scientists' workload is minimized.\n"
   ]
  },
  {
   "cell_type": "markdown",
   "metadata": {},
   "source": [
    "## Group 6\n",
    "\n",
    "1. Nguyễn Duy Hưng\n",
    "2. Hoàng Thiện Tâm\n",
    "3. Trần Quốc Lập\n"
   ]
  },
  {
   "cell_type": "markdown",
   "metadata": {},
   "source": [
    "## Input\n",
    "\n",
    "Example:\n",
    "\n",
    "```\n",
    "10 7 3\n",
    "5 1 2 4 6 7\n",
    "6 1 3 7 2 4 5\n",
    "4 2 6 7 1\n",
    "5 4 5 2 1 7\n",
    "5 3 6 7 1 2\n",
    "5 4 1 5 3 6\n",
    "3 1 2 6\n",
    "4 2 4 7 5\n",
    "4 5 3 1 4\n",
    "5 5 4 2 1 3\n",
    "```\n",
    "\n",
    ">* The first line contains $N, M, K$ respectively corresponding to the number of articles, the number of scientists, the least number of scientists needed to take on an article.\n",
    ">* Each of $N$ next lines contains $q_i + 1$ numbers where the first is the number of scientists who can take on the article i and the rest are the list of them."
   ]
  },
  {
   "cell_type": "markdown",
   "metadata": {},
   "source": [
    "## Output\n",
    "\n",
    "Example:\n",
    "\n",
    "```\n",
    "5\n",
    "1 2 4 \n",
    "1 2 3 \n",
    "1 2 6 \n",
    "1 2 4 \n",
    "3 6 7 \n",
    "3 5 6 \n",
    "1 2 6 \n",
    "4 5 7 \n",
    "3 4 5 \n",
    "3 4 5\n",
    "```\n",
    "\n",
    "* The first line contains the minimized value of the maximum of scientists' workload.\n",
    "* Each of the next $N$ lines contains a sequence of $p_i$ number listing the scientists to be assgined the article i."
   ]
  },
  {
   "cell_type": "markdown",
   "metadata": {},
   "source": [
    "## Problem analysis\n",
    "\n",
    "1. **Variables**:\n",
    ">* $A$: nested array where $A_i$ contains the list of scientists who can take on $i$. E.g:\n",
    ">> ```\n",
    "[[1, 2, 4, 6, 7], \n",
    "[1, 2, 3, 4, 5, 7], \n",
    "[1, 2, 6, 7], \n",
    "[1, 2, 4, 5, 7], \n",
    "[1, 2, 3, 6, 7], \n",
    "[1, 3, 4, 5, 6], \n",
    "[1, 2, 6], \n",
    "[2, 4, 5, 7], \n",
    "[1, 3, 4, 5], \n",
    "[1, 2, 3, 4, 5]]\n",
    "```\n",
    ">* $L$: an $N \\times M$ matrix where $L_{ij} = 1$ if $j$ the scientist can take on the article $i$, $L_{ij} = 0$ otherwise. E.g:\n",
    ">> ```\n",
    "[[1 1 0 1 0 1 1]\n",
    "[1 1 1 1 1 0 1]\n",
    "[1 1 0 0 0 1 1]\n",
    "[1 1 0 1 1 0 1]\n",
    "[1 1 1 0 0 1 1]\n",
    "[1 0 1 1 1 1 0]\n",
    "[1 1 0 0 0 1 0]\n",
    "[0 1 0 1 1 0 1]\n",
    "[1 0 1 1 1 0 0]\n",
    "[1 1 1 1 1 0 0]]\n",
    "```\n",
    ">* $Objective\\text{_}value$: the minimized value of the maximum of scientists' workload. E.g:\n",
    ">> ```\n",
    "5\n",
    "```\n",
    ">* $Optimal\\text{_}solution$: nested array saving the optimal way of assignment. E.g:\n",
    ">> ```\n",
    "1 2 4 \n",
    "1 2 3 \n",
    "1 2 6 \n",
    "1 2 4 \n",
    "3 6 7 \n",
    "3 5 6 \n",
    "1 2 6 \n",
    "4 5 7 \n",
    "3 4 5 \n",
    "3 4 5\n",
    "```\n",
    ">* $X$: an $N \\times M$ matrix where $X_{ij}= 1$ if the scientist $j$ will take on the article $i$, $X_{ij} = 0$ otherwise. E.g:\n",
    ">> ```\n",
    "[[1 1 0 1 0 0 0]\n",
    "[1 1 1 0 0 0 0]\n",
    "[1 1 0 0 0 1 0]\n",
    "[1 1 0 1 0 0 0]\n",
    "[0 0 1 0 0 1 1]\n",
    "[0 0 1 0 1 1 0]\n",
    "[1 1 0 0 0 1 0]\n",
    "[0 0 1 0 1 0 1]\n",
    "[0 0 1 1 1 0 0]\n",
    "[0 0 1 1 1 0 0]\n",
    "```\n",
    ">* $workload$: and array where `workload[j]` saving the workload of the scientist $j$. E.g: `workload = [5, 5, 5, 5, 4, 4, 2]`\n",
    "\n",
    "2. **Mathematical model**:\n",
    "> In a certain way of assignment, the article $i$ will be taken by $\\displaystyle \\sum_{j = 1}^{M}{x_{ij}l_{ij}}$ scientists. <br>\n",
    "> and the scientist $j$ will take $\\displaystyle \\sum_{i = 1}^{N}{x_{ij}l_{ij}}$ articles.\n",
    ">\n",
    "> So that:\n",
    ">> Minimize: $$\\displaystyle \\max_{j = \\overline{1,M}}{\\sum_{i = 1}^{N}}{x_{ij}l_{ij}}$$\n",
    ">> \n",
    ">> S.t: $$\\displaystyle \\sum_{j = 1}^{M}{x_{ij}l_{ij}} \\ge K \\text{ } \\forall i = \\overline{1, N}$$\n",
    "\n",
    "Dễ thấy: if there exists at least $1$ solution for the assigning then there also exists at least an optimal solution. In any of the optimal solutions, every article has **exactly** $K$ scientists to take.\n",
    "\n",
    "> **Proof**: Giả sử có một cách phân công mà ở đó tồn tại ít nhất $1$ bài báo có $K' > K$ nhà khoa học đảm nhận. <br>\n",
    "Khi đó chọn ngẫu nhiên $1$ nhà khoa học $T$ trong số  $K'$ nhà khoa học đó và loại ông ta ra khỏi việc đảm nhận bài báo này. <br>\n",
    "Khi đó, $K' - 1 \\ge K$ vẫn thỏa mãn yêu cầu \"$1$ bài báo có ít nhất $K$ nhà khoa học đảm nhận\", trong khi số bài báo nhà khoa học $T$ đảm nhận sẽ ít đi $1$. Nếu nhà khoa học $T$ này lúc đầu là người duy nhất làm nhiều bài báo nhất, thì sau khi loại ông ta ra, ta sẽ được lời giải tối ưu hơn. "
   ]
  },
  {
   "cell_type": "code",
   "execution_count": 31,
   "metadata": {
    "id": "KwDVVrLzWuJ2"
   },
   "outputs": [],
   "source": [
    "import numpy as np\n",
    "from ortools.linear_solver import pywraplp\n",
    "import random as rd\n",
    "from time import time\n",
    "import sys\n",
    "\n",
    "sys.setrecursionlimit(1000000000)\n",
    "FILENAME = \"/home/ubuntu/Downloads/data_samples_mini_projects/miniproject-20/data.txt\""
   ]
  },
  {
   "cell_type": "markdown",
   "metadata": {},
   "source": [
    "## Data generazation"
   ]
  },
  {
   "cell_type": "code",
   "execution_count": 32,
   "metadata": {
    "scrolled": true
   },
   "outputs": [],
   "source": [
    "def gen_data(N, M, K):\n",
    "    infile = open(FILENAME, 'w')\n",
    "\n",
    "    print(N, M, K, end=' ', file=infile)\n",
    "    for i in range(N):\n",
    "        print(file=infile)\n",
    "        T = rd.randrange(K, M + 1)\n",
    "        print(T, end=' ', file=infile)\n",
    "        for j in rd.sample(range(1, M + 1), T):\n",
    "            print(j, end=' ', file=infile)\n",
    "    infile.close()"
   ]
  },
  {
   "cell_type": "markdown",
   "metadata": {},
   "source": [
    "## I/O"
   ]
  },
  {
   "cell_type": "code",
   "execution_count": 33,
   "metadata": {
    "id": "JQqAOGzpWuKF"
   },
   "outputs": [],
   "source": [
    "def input_from(filename, special=\"False\"):\n",
    "    infile = open(filename, 'r')\n",
    "    \n",
    "    N, M, K = [int(i) for i in infile.readline().split()]\n",
    "    \n",
    "    A = []\n",
    "    if not special:\n",
    "        L = np.zeros((N,M), dtype = 'int')\n",
    "        for i in range(N):\n",
    "            A.append(sorted([int(k) for k in infile.readline().split()[1:]]))\n",
    "            if len(A) < K:\n",
    "                objective_value = \"INFEASIBLE\"\n",
    "            for j in A[i]:\n",
    "                L[i, j - 1] = 1\n",
    "    else:\n",
    "        L = np.zeros((N+1,M+1), dtype = 'int')\n",
    "        # Create N+1 and M+1 so that get the numbers of scientist and article \n",
    "        # The additional collumn M+1 and row N+1 give me information of \n",
    "        # the number of scientist take an article and the number of article \n",
    "        # taken by a scientist in order by get the sum of each collumn and row\n",
    "\n",
    "        for i in range(1,N+1):\n",
    "            A.append(sorted([int(k) for k in infile.readline().split()[1:]]))\n",
    "            for j in A[i - 1]:\n",
    "                L[i,j] = 1\n",
    "                L[0,j] += L[i,j]\n",
    "        for j in range(1,M+1):\n",
    "            for i in range(1,N+1):\n",
    "                L[i,0] += L[i,j]\n",
    "    infile.close()\n",
    "    return A, L\n",
    "\n",
    "def output():\n",
    "    print(objective_value)\n",
    "    '''\n",
    "    if objective_value != \"INFEASIBLE\":\n",
    "        for i in range(N):\n",
    "            print()\n",
    "            for j in range(K):\n",
    "                print(optimal_solution[i][j], end=' ')'''"
   ]
  },
  {
   "cell_type": "markdown",
   "metadata": {},
   "source": [
    "## Different approaches to solve the problem"
   ]
  },
  {
   "cell_type": "markdown",
   "metadata": {
    "id": "hhWN__kKWuKG"
   },
   "source": [
    "### OR-tools"
   ]
  },
  {
   "cell_type": "markdown",
   "metadata": {},
   "source": [
    "#### Source code"
   ]
  },
  {
   "cell_type": "code",
   "execution_count": 34,
   "metadata": {
    "id": "jD9NmCpLWuKH"
   },
   "outputs": [],
   "source": [
    "def ortools():\n",
    "    \"\"\"Minimize the maximal number of articles that a scientist can take on using OR-tools.\n",
    "    \n",
    "    solver   solver using Mixed-Integer Programmin with SCIP\n",
    "    Y        variable mataining the objective function of the SCIP solver    \n",
    "    \"\"\"\n",
    "    global objective_value, optimal_solution\n",
    "    \n",
    "    solver = pywraplp.Solver.CreateSolver('SCIP')\n",
    "    \n",
    "    INF = solver.infinity()\n",
    "\n",
    "    X = np.array([[None]*M for i in range(N)])\n",
    "    Y = solver.IntVar(-INF, INF, 'Y')\n",
    "\n",
    "    for i in range(N):\n",
    "        for j in range(M):\n",
    "            X[i, j] = solver.IntVar(0, int(L[i, j]), 'X[{}, {}]'.format(i, j))\n",
    "\n",
    "    for i in range(N):\n",
    "        solver.Add(K == sum(L[i, j]*X[i, j] for j in range(M)))\n",
    "        \n",
    "    for j in range(M):\n",
    "        solver.Add(Y >= sum(L[i, j]*X[i, j] for i in range(N)))\n",
    "\n",
    "    solver.Minimize(Y)\n",
    "    status = solver.Solve()\n",
    "    \n",
    "    if status == pywraplp.Solver.OPTIMAL:\n",
    "        objective_value = solver.Objective().Value()\n",
    "        optimal_solution = [[j + 1 for j in range(M) if X[i, j].solution_value() == 1] for i in range(N)]\n",
    "    else:\n",
    "        objective_value = \"INFEASIBLE\""
   ]
  },
  {
   "cell_type": "markdown",
   "metadata": {
    "id": "CGxHY4EaWuKJ"
   },
   "source": [
    "### Heuristics"
   ]
  },
  {
   "cell_type": "markdown",
   "metadata": {},
   "source": [
    "#### Algorithm description\n",
    "\n",
    ">* Consider the article $i$ that has not been taken by any scientists yet:\n",
    ">>* Pick out of $A_i$ a list of $K$ scientists who are taking the lightest workload as possible. Assign the article $i$ for them.\n",
    ">>* Increase the workload of these scientists by $1$.\n",
    ">* Consider the article $i + 1$.\n",
    ">* ..."
   ]
  },
  {
   "cell_type": "markdown",
   "metadata": {},
   "source": [
    "#### Pseudo code\n",
    "\n",
    "```\n",
    "Heuristics:    \n",
    "    if FEASIBLE:\n",
    "    \n",
    "        workload[j] <- 0 initialize for each scientist j\n",
    "        \n",
    "        for each article i:\n",
    "        \n",
    "            list <- sorted( [workload[j], j] for j in A[i] )\n",
    "            optimal_solution[i] <- list[:K]\n",
    "            \n",
    "            for each scientist j in optimal_solution[i]:\n",
    "                increase workload[j] by 1\n",
    "\n",
    "        objective_value = max(workload)\n",
    "```"
   ]
  },
  {
   "cell_type": "markdown",
   "metadata": {},
   "source": [
    "#### Source code"
   ]
  },
  {
   "cell_type": "code",
   "execution_count": 35,
   "metadata": {
    "id": "HssVTg8bWuKK"
   },
   "outputs": [],
   "source": [
    "def heuristics():\n",
    "    \"\"\"Minimize the maximal number of articles that a scientist can take on using heuristics.\n",
    "    \n",
    "    workload            workload[j] will maintains the number of articles that the scientist j is currently taking\n",
    "    optimal_solution    optimal_solution[i] maintains the scientists that is currenty taking the article i. After execution, it will be optimal\n",
    "    \"\"\"\n",
    "    global objective_value, optimal_solution\n",
    "    \n",
    "    if objective_value != \"INFEASIBLE\":\n",
    "        workload = [0]*M                                             # workload a scientist is currently taking, initially 0\n",
    "        optimal_solution = [[] for i in range(N)]\n",
    "        for i in range(N):                                           # for each article i\n",
    "            list = sorted([(workload[j - 1], j) for j in A[i]])      # sort all scientists who CAN take the artcile i in the order of inceasing currently-taking workload\n",
    "            optimal_solution[i] = [_[1] for _ in list[:K]]           # select in that list K scientists who is currently taking smallest workload\n",
    "            for j in optimal_solution[i]:                            # then increase the workload of\n",
    "                workload[j - 1] += 1                                 # each of these scientists by 1\n",
    "\n",
    "        objective_value = max(workload)"
   ]
  },
  {
   "cell_type": "markdown",
   "metadata": {
    "id": "7k6STf5ZWuKL"
   },
   "source": [
    "### Heuristics"
   ]
  },
  {
   "cell_type": "markdown",
   "metadata": {},
   "source": [
    "#### Algorithm description\n",
    "\n",
    "Claim: In the optimal solution, each article is taken by exactly $K$ scientists.\n",
    "So we create a 2-dimention array of size $N \\times 3$ to save a way of assigning where `solution[i]` is a list of ***indexes*** *of scientist in A[i]*.\n",
    "Example:\n",
    "```\n",
    "A = [[1, 2, 4, 6, 7],        solution = [[1, 2, 3],    ->   optimal_solution = [[1, 2, 4],  workload = [5,\n",
    "     [1, 2, 3, 4, 5, 7],                 [1, 2, 3],                             [1, 2, 3],              5,\n",
    "     [1, 2, 6, 7],                       [1, 2, 3],                             [1, 2, 6],              5,\n",
    "     [1, 2, 4, 5, 7],                    [1, 2, 3],                             [1, 2, 4],              5,\n",
    "     [1, 2, 3, 6, 7],                    [3, 4, 5],                             [3, 6, 7],              4,\n",
    "     [1, 3, 4, 5, 6],                    [2, 4, 5],                             [3, 5, 6],              4,\n",
    "     [1, 2, 6],                          [1, 2, 3],                             [1, 2, 6],              2]\n",
    "     [2, 4, 5, 7],                       [2, 3, 4],                             [4, 5, 7],\n",
    "     [1, 3, 4, 5],                       [2, 3, 4],                             [3, 4, 5],\n",
    "     [1, 2, 3, 4, 5]]                    [3, 4, 5]]                             [3, 4, 5]]\n",
    "```\n",
    "With an article `i`:\n",
    ">* Consider a $K$-subset of $A_i$ corresponding to a way of choosing $K$ scientists who can take on the article $i$. There are totally $C^{K}_{|A[i]|}$ subsets of that way.\n",
    ">> we assing the article $i$ to these $K$ scientists by saving that subset to `solution[i]`, and simultaneously increase `workload[j]` by $1$.\n",
    ">>\n",
    ">> Next, we move to considering the article $i + 1$. <br>\n",
    ">>> ...\n",
    ">>>> Ultimately, if the maximum of workload in this way of assignment is less than the smallest `objective_value` that has been recored so far.\n",
    ">* Roll back to considering another $K$-subset of $A_i$.\n",
    ">> ..."
   ]
  },
  {
   "cell_type": "markdown",
   "metadata": {},
   "source": [
    "#### Pseudo code\n",
    "\n",
    "```\n",
    "Backtracking:\n",
    "    initialize workload[j] <- 0 for each scientist j\n",
    "    \n",
    "    if the problem is feasible:\n",
    "        Try(1, 1)     i.e finding the 1st scientist to take the article 1\n",
    "        \n",
    "Try(i, t):\n",
    "    for each scientist j in A[i] that hasn't been assigned i yet:\n",
    "    \n",
    "        solution[i][t] <- j            i.e set him as the (t)th scientist who takes the article i\n",
    "        increase workload[j] by 1\n",
    "        \n",
    "        if i = N and t = K:\n",
    "            then Update\n",
    "        else if t < K:\n",
    "            Try(i, t + 1)              i.e find (t + 1)th scientist for the article i\n",
    "        else if i = N: \n",
    "            Try(i + 1, 1)              i.e move to the next article\n",
    "        \n",
    "        solution[i][t] <- NULL         i.e omit j in order to try other scientists\n",
    "        decrease workload[j] by 1\n",
    "        \n",
    "Update:\n",
    "    if max(workload) < objective_value:\n",
    "        objective_value <- max(workload)\n",
    "        optimal_solution <- solution\n",
    "```\n",
    "\n",
    "In addition, we can apply Branch and bound to discard unnecessary cases: At the beginning of each `for` loop:\n",
    "\n",
    "```\n",
    "for each scientist j in A[i] that hasn't been assigned i yet:\n",
    "       ...\n",
    "```\n",
    "\n",
    "we check `workload[j] + 1 < objective_value`. if `True`, we proceed. \n",
    "\n",
    "Why? Because `workload[j] + 1 < objective_value` returning `False` means the workload of the scientist `j` after taking on the article `i` will be larger than or equal to the optimal value, so even if we proceed, we will not achieve a better solution for sure."
   ]
  },
  {
   "cell_type": "markdown",
   "metadata": {},
   "source": [
    "#### Source code"
   ]
  },
  {
   "cell_type": "code",
   "execution_count": 36,
   "metadata": {
    "id": "Dnyv8Y6LWuKL"
   },
   "outputs": [],
   "source": [
    "def backtracking():\n",
    "    \"\"\"\n",
    "    Find the t th scientist for the article i.\n",
    "\n",
    "    index              the INDEX in A[i] of a scientist\n",
    "    available_range    the range in which index varies. This ensures eliminating repetition.\n",
    "    workload           workload[j] will maintains the number of articles that the scientist j is currently taking\n",
    "    solution           a Nx3 nested list maintaining a way of assignment. Note that ...[i][t] indicates INDEX in A[i], not the name of a scientist.\n",
    "    \"\"\"\n",
    "    solution = [[-1]*K for _ in range(N)]\n",
    "    workload = [0]*M\n",
    "    \n",
    "    def Try(i, t):\n",
    "        global objective_value\n",
    "        \n",
    "        available_range = range(solution[i][t - 1] + 1, len(A[i]) - K + t + 1)\n",
    "        for index in available_range:\n",
    "            if workload[A[i][index] - 1] + 1  < objective_value:    # branch and bound\n",
    "                solution[i][t] = index                              # choose a scientist in A[i]\n",
    "                workload[A[i][index] - 1] += 1                      # increase the workload of that scientist by 1\n",
    "                if i == N - 1 and t == K - 1: Update()              # if sufficient scientists are chosen, then Update\n",
    "                else:\n",
    "                    if t < K - 1: Try(i, t + 1)                     # find scientists for the article i until enough K are chosen\n",
    "                    else: Try(i + 1, 0)                             # then move to the next article\n",
    "                workload[A[i][index] - 1] -= 1                      # After completing Try with that scientist, abandons him\n",
    "                solution[i][t] = -1                                 # in order to try another candidate\n",
    "\n",
    "    def Update():\n",
    "        global objective_value, optimal_solution\n",
    "        if max(workload) < objective_value:                # if the maximal workload of the current solution is the minimal recorded\n",
    "            objective_value = max(workload)                # then we will save it\n",
    "            optimal_solution = [[A[i][j] for j in solution[i]] for i in range(N)]\n",
    "        \n",
    "    if objective_value != \"INFEASIBLE\":\n",
    "        Try(0, 0)"
   ]
  },
  {
   "cell_type": "markdown",
   "metadata": {
    "id": "OGtOcukvWuKN"
   },
   "source": [
    "### Another approach"
   ]
  },
  {
   "cell_type": "markdown",
   "metadata": {},
   "source": [
    "#### Mô tả thuật toán"
   ]
  },
  {
   "cell_type": "markdown",
   "metadata": {},
   "source": [
    "#### Mã giả\n",
    "```\n",
    "Def arrange(L):\n",
    "\tArrange_L_by_the_first_collumn(L[:,0])\n",
    "\tArrange_L_by_the_first_row(L[0])\n",
    "\tReturn L\n",
    "\t\n",
    "Def predecessor(L):\n",
    "\tif find the predecessor:\n",
    "\t\tReturn [predecessor_value, number_of_max_value]\n",
    "\t\tBreak\n",
    "\t\t\n",
    "Def stopCDT(): \n",
    "\t# if all the number of scientists take an article = K(the minimum scientist need to take each article)\n",
    "\t # if we can't reduce the_max_number of article taken by a scientist any more OR the_max_number after reduce is not equal to the predecessor(of max).\n",
    "\t\n",
    "Def reduce(L,N,M,K,i,j):\n",
    "\tif L[N-i,M-j] == 1 and L[N-I,0] != K:   \n",
    "      L[N-i,M-j] = 0\n",
    "      L[0,M-j] -= 1\n",
    "      L[N-i,0] -= 1\n",
    "\tReturn L\n",
    "\t\n",
    "Def main():\n",
    "\tL = Arrange(L)\n",
    "\tP = find_predecessor(L[0])\n",
    "\ti , t = 0\n",
    "\tt1 = float('INF')\n",
    "\tCheck = true\n",
    "\tstop = max(np.where(L[:,0][1:] == K)[0])  #address where we stop reduce (cant reduce article has K scientists)\n",
    "\t\n",
    "\tIf L[N,0] == K: #one of the stopCDT()\n",
    "\t\tReturn False\n",
    "\t\t\n",
    "\tElse: \n",
    "\t\tIf predecessor != max(L[0]): #mean that this sequence has predecessor\n",
    "\t\t\tFor j in range(predecessor[1] #number of max value):\n",
    "\t\t\t\tWhile L[0,M-j] != predecessor[0]:\n",
    "\t\t\t\t\tIf N-i = stop: \n",
    "\t\t\t\t\t\tBreak \n",
    "\t\t\t\t\tIf L[N-i,0] != K: #we can reduce\n",
    "\t\t\t\t\t\tReduce(L,M,N,K,i,j)\n",
    "\t\t\t\t\t\tt +=1\n",
    "\t\t\t\t\t\tUpdate_stop() \n",
    "\t\t\t\t\ti+=1\n",
    "\t\t\t\tIf t1 > t: \n",
    "\t\t\t\t\tt1 = t \n",
    "\t\t\tif (t1 < max - value_predecessor): #one of the stopCDT\n",
    "\t\t\t                return L\n",
    "\t\t\t                check = False\n",
    "\t\t\ti, t = 0\n",
    "\t\tElse: #sequence doesnt have predecessor\n",
    "\t\t\t#reduce all elements of the sequence by 1. After reduce, if there's any value cant reduce then we get the solution\n",
    "\t\t\tfor j in range(p[1]):\n",
    "\t\t\t     while N-i != st:op\n",
    "\t\t\t\t\tIf L[N-i,0] != K:\n",
    "\t\t\t\t\t\tReduce() \n",
    "\t\t\t\t\t\tt+=1\n",
    "\t\t\t\t\t\tUpdate_stop()\n",
    "\t\t\t\t\t\tBreak\n",
    "\t\t\t\t\ti+=1\n",
    "\t\t\t\tIf t1>t:\n",
    "\t\t\t\t t1 = t\n",
    "\t\t\t\tIf t1 == 0:\n",
    "\t\t\t\t\tReturn L\n",
    "\t\t\t\t\tCheck = False\n",
    "\tReturn L\n",
    "```"
   ]
  },
  {
   "cell_type": "markdown",
   "metadata": {},
   "source": [
    "#### Mã nguồn"
   ]
  },
  {
   "cell_type": "markdown",
   "metadata": {
    "id": "Mnbim5KNWuKN"
   },
   "source": [
    "Ideal: \n",
    "We aim to minimize the_max_the_article_taken_among_scientists\n",
    "So, I decided to reduce the max of the article till I can’t reduce it any more.\n",
    "It’s not mean that I can reduce the max to any value arbitrarily\n",
    "I decided to reduce the max to the predecessor(the number that has the value just only less than the max number. Ex:...)\n",
    "If after reduction, we can’t not reach the predecessor, so we find the solution…\n",
    "Else we continue reduce them :)))\n",
    "\n",
    "Another case: If we don’t have predecessor(ex: a sequence numbers have the same value) \n",
    "So, we reduce ‘slowly’: each value reduce only 1\n",
    "If after reduce, which value doesn’t change is our solution\n",
    "\n",
    "Cách này thủ công vl nhưng mà nó ra được kết quả tối ưu. Nên tôi nghĩ là từ những constraint tôi đưa #check = False, mọi người có thể dựa vào nó để mà Backtracking\n",
    "Constrain :\n",
    "K = the minimum scientist must take a article:\n",
    "The number of articles can’t not reduce over K\n",
    "After reduce there are the value can’t not reduce to the predecessor, stable(in case no predecessor) so solution is the max_value_after_reduce"
   ]
  },
  {
   "cell_type": "code",
   "execution_count": 37,
   "metadata": {
    "id": "51U0t1WyWuKO",
    "scrolled": false
   },
   "outputs": [],
   "source": [
    "def arrange(L):\n",
    "    L = L[L[:,0].argsort()]\n",
    "    L = L.T\n",
    "    L = L[L[:,0].argsort()]\n",
    "    L = L.T\n",
    "    return L\n",
    "def predecessor(L):\n",
    "    #find the predecessor of max(article taken by the scientist)\n",
    "    i = 0\n",
    "    while max(L) - L[len(L)-1-i] == 0 and i != len(L) :\n",
    "        i += 1\n",
    "    return [L[len(L)-1-i],i]\n",
    "\n",
    "'''\n",
    "    Stop condition for this algorithm:\n",
    "    - if all the number of scientists take an article = K(the minimum scientist need to take each article)\n",
    "    - if we can't reduce the_max_number of article taken by a scientist\n",
    "    any more OR the_max_number after reduce is not equal to the\n",
    "    predecessor(of max).\n",
    "    #Note\n",
    "        #trong qua trinh tru thi se co hang bang K.\n",
    "        #nhung nhung hang o duoi thi co hang > K\n",
    "        #tao dieu kien dung(tai mot hang) khi ma ta\n",
    "        #tru den gia tri toi thieu(o day la K) \n",
    "        => stopCDT()\n",
    "'''\n",
    "def stopCDT(L,K):\n",
    "    address = np.where(L[:,0][1:] == K)[0]\n",
    "    if address.size > 0:\n",
    "        return max(address)\n",
    "    else:\n",
    "        return 0\n",
    "def solver(L):\n",
    "    L = arrange(L)\n",
    "    print(L)\n",
    "    global check\n",
    "    p = predecessor(L[0][1:])\n",
    "    t = 0  \n",
    "    i = 0\n",
    "    t1 = float('inf')\n",
    "    st = stopCDT(L, K) \n",
    "    if L[N,0] == K:\n",
    "        check = False    \n",
    "    else:\n",
    "        if p[0] != max(L[0]): #this sequence has predecessor\n",
    "            for j in range(p[1]): #interate till find the predecessor\n",
    "                while (L[0,M-j] != p[0]): #check when to stop reduce\n",
    "                    if N-i == st:\n",
    "                        break    \n",
    "                    if (L[N-i,0]!= K) :    \n",
    "                        if L[N-i,M-j] == 1:   \n",
    "                            L[N-i,M-j] = 0\n",
    "                            L[0,M-j] -= 1\n",
    "                            L[N-i,0] -= 1\n",
    "                            t += 1  #check if we can reduce the_max_article_taken by a scientist \n",
    "                                    #equal to predecessor\n",
    "                                    #if not, break and then solution = max(after reduce)\n",
    "                            if st != 0 and st != N:#update stop\n",
    "                                k = st \n",
    "                                while (L[k,0] == K) and k!=N: \n",
    "                                    k+=1\n",
    "                                st = k                            \n",
    "                    i += 1\n",
    "                if t1 > t:\n",
    "                    t1 = t\n",
    "                i = 0\n",
    "                t = 0\n",
    "            if t1 == 0:\n",
    "                check = False\n",
    "            elif (t1 < max(L[0]) - predecessor(L[0])[0]):\n",
    "                return L\n",
    "                check = False\n",
    "        else:   # this sequence has no predecessor\n",
    "            for j in range(p[1]):\n",
    "                while N-i != st:\n",
    "                    if L[N-i,0] != K:\n",
    "                        if L[N-i,M-j] == 1:   \n",
    "                            L[N-i,M-j] = 0\n",
    "                            L[0,M-j] -= 1\n",
    "                            L[N-i,0] -= 1\n",
    "                            t += 1\n",
    "                            if st != 0 and st != N:#update stop\n",
    "                                k = st \n",
    "                                while (L[k,0] == K) and k!=N: \n",
    "                                    k+=1\n",
    "                                st = k   \n",
    "                        break\n",
    "                    i += 1\n",
    "                if t1 > t:\n",
    "                    t1 = t\n",
    "                t = 0\n",
    "                i = 0\n",
    "            if t1 == 0:\n",
    "                return L\n",
    "                check = False\n",
    "    return L\n",
    "\n",
    "check = True\n",
    "def special_algorithm():\n",
    "    global objective_value, optimal_solution, L\n",
    "    while check:\n",
    "        L = solver(L)\n",
    "    objective_value = max(L[0])\n",
    "    optimal_solution = [[j for j in range(1, M + 1) if L[i, j] == 1] for i in range(1, N + 1)]\n",
    "    "
   ]
  },
  {
   "cell_type": "markdown",
   "metadata": {
    "id": "GN5-IcO_WuKQ"
   },
   "source": [
    "## Chạy chương trình"
   ]
  },
  {
   "cell_type": "code",
   "execution_count": null,
   "metadata": {
    "id": "fFfIoKj6WuKR",
    "outputId": "91d2ca2d-e940-4242-981d-b0bd44eb9337",
    "scrolled": true
   },
   "outputs": [],
   "source": [
    "data_sizes = [(5, 4, 2), (10, 7, 3), (20, 15, 6), (30, 25, 10), (500, 350, 150), (1000, 700, 300)]\n",
    "\n",
    "for (N, M, K) in data_sizes:\n",
    "    gen_data(N, M, K)\n",
    "    \n",
    "    for algorithm in (\"ortools\", \"heuristics\", \"special_algorithm\"):\n",
    "        print(algorithm)\n",
    "\n",
    "        A, L = input_from(FILENAME, algorithm == \"special_algorithm\")\n",
    "        objective_value, optimal_solution = float('inf'), []\n",
    "\n",
    "        start_time = time()\n",
    "        eval(algorithm + \"()\")\n",
    "        end_time = time()\n",
    "        \n",
    "        print(end_time - start_time)\n",
    "        \n",
    "        output()"
   ]
  },
  {
   "cell_type": "markdown",
   "metadata": {},
   "source": [
    "#### Thời gian chạy và Độ phức tạp\n",
    "\n",
    "\n",
    "Data|Size|MIP|Heuristics|Backtracking|4th approach\n",
    ":--|--:|--:|--:|--:|--:\n",
    "Complexity||Unknown|$O(N\\cdot M \\log{M})$||$M N \\log{M} \\log{N}$\n",
    "Data 1|10||0.00012\n",
    "Data 2|50||0.00073\n",
    "Data 3|100||0.01220\n",
    "Data 4|500||0.06282\n",
    "Data 5|1000||0.26164"
   ]
  },
  {
   "cell_type": "code",
   "execution_count": null,
   "metadata": {},
   "outputs": [],
   "source": []
  }
 ],
 "metadata": {
  "colab": {
   "name": "Mini project Optimization number 20.ipynb",
   "provenance": []
  },
  "kernelspec": {
   "display_name": "Python 3",
   "language": "python",
   "name": "python3"
  },
  "language_info": {
   "codemirror_mode": {
    "name": "ipython",
    "version": 3
   },
   "file_extension": ".py",
   "mimetype": "text/x-python",
   "name": "python",
   "nbconvert_exporter": "python",
   "pygments_lexer": "ipython3",
   "version": "3.8.5"
  }
 },
 "nbformat": 4,
 "nbformat_minor": 1
}
