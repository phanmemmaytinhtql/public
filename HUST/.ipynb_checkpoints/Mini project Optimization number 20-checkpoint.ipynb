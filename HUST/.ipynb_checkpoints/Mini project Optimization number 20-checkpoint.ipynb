{
  "nbformat": 4,
  "nbformat_minor": 0,
  "metadata": {
    "kernelspec": {
      "display_name": "Python 3",
      "language": "python",
      "name": "python3"
    },
    "language_info": {
      "codemirror_mode": {
        "name": "ipython",
        "version": 3
      },
      "file_extension": ".py",
      "mimetype": "text/x-python",
      "name": "python",
      "nbconvert_exporter": "python",
      "pygments_lexer": "ipython3",
      "version": "3.8.5"
    },
    "colab": {
      "name": "Mini project Optimization number 20-checkpoint.ipynb",
      "provenance": []
    }
  },
  "cells": [
    {
      "cell_type": "code",
      "metadata": {
        "id": "FNDJrwvmR6Yx"
      },
      "source": [
        "import numpy as np\n",
        "from ortools.linear_solver import pywraplp\n",
        "import random as rd\n",
        "\n",
        "FILENAME = \"/home/ubuntu/Downloads/data_samples_mini_projects/miniproject-20/data.txt\""
      ],
      "execution_count": null,
      "outputs": []
    },
    {
      "cell_type": "markdown",
      "metadata": {
        "id": "2zAOhSW5R6ZD"
      },
      "source": [
        "## I/O functions"
      ]
    },
    {
      "cell_type": "code",
      "metadata": {
        "id": "wXzHikNIR6ZE"
      },
      "source": [
        "def input_from(filename):\n",
        "    \"\"\"\n",
        "    Process user's input data.\n",
        "    \n",
        "    N    number of articles\n",
        "    M    number of scientists\n",
        "    K    minimal number of scientists working on each article\n",
        "    A    nested list where A[i] maintains list of scientists that CAN take on the article i\n",
        "    L    binary matrix representation of A. L[i, j] = 1 indicates that the scientist j CAN take on the article i\n",
        "    \"\"\"\n",
        "    infile = open(filename, 'r')\n",
        "    \n",
        "    N, M, K = [int(i) for i in infile.readline().split()]\n",
        "    \n",
        "    A = []\n",
        "    L = np.zeros((N,M), dtype = 'int')\n",
        "    for i in range(N):\n",
        "        A.append(sorted([int(k) for k in infile.readline().split()[1:]]))\n",
        "        for j in A[i]:\n",
        "            L[i, j - 1] = 1\n",
        "    return N, M, K, A, L\n",
        "\n",
        "def output():\n",
        "    \"\"\"\n",
        "    Print the solution for the problem.\n",
        "    \n",
        "    objective_value    the minimized value of the maximal load.\n",
        "    optimal_solution   a way of assignment to gain objective value\n",
        "    \"\"\"\n",
        "    print(objective_value, end='')\n",
        "    if objective_value != \"INFEASIBLE\":\n",
        "        for i in range(N):\n",
        "            print()\n",
        "            for j in range(K):\n",
        "                print(optimal_solution[i][j], end=' ')"
      ],
      "execution_count": null,
      "outputs": []
    },
    {
      "cell_type": "markdown",
      "metadata": {
        "id": "-wMaxq52R6ZG"
      },
      "source": [
        "## Solve the problem with OR-tools"
      ]
    },
    {
      "cell_type": "code",
      "metadata": {
        "id": "nXOjZXgER6ZH"
      },
      "source": [
        "def ortools():\n",
        "    \"\"\"Minimize the maximal number of articles that a scientist can take on using OR-tools.\n",
        "    \n",
        "    solver   solver using Mixed-Integer Programmin with SCIP\n",
        "    X        binary matrix representation of a solution. X[i, j] = 1 indicates that the scientist j TAKES the articles i\n",
        "    Y        variable mataining the objective function of the SCIP solver    \n",
        "    \"\"\"\n",
        "    global objective_value, optimal_solution\n",
        "    \n",
        "    solver = pywraplp.Solver.CreateSolver('SCIP')\n",
        "    \n",
        "    INF = solver.infinity()\n",
        "\n",
        "    X = np.array([[None]*M for i in range(N)])\n",
        "    Y = solver.IntVar(-INF, INF, 'Y')\n",
        "\n",
        "    for i in range(N):\n",
        "        for j in range(M):\n",
        "            X[i, j] = solver.IntVar(0, int(L[i, j]), 'X[{}, {}]'.format(i, j))\n",
        "\n",
        "    for i in range(N):\n",
        "        solver.Add(K == sum(L[i, j]*X[i, j] for j in range(M)))\n",
        "        \n",
        "    for j in range(M):\n",
        "        solver.Add(Y >= sum(L[i, j]*X[i, j] for i in range(N)))\n",
        "\n",
        "    solver.Minimize(Y)\n",
        "    status = solver.Solve()\n",
        "    \n",
        "    if status == pywraplp.Solver.OPTIMAL:\n",
        "        objective_value = solver.Objective().Value()\n",
        "        optimal_solution = [[j + 1 for j in range(M) if X[i, j].solution_value() == 1] for i in range(N)]\n",
        "    else:\n",
        "        objective_value = \"INFEASIBLE\""
      ],
      "execution_count": null,
      "outputs": []
    },
    {
      "cell_type": "markdown",
      "metadata": {
        "id": "invxX7jlR6ZJ"
      },
      "source": [
        "## Solve the problem with Heuristics"
      ]
    },
    {
      "cell_type": "code",
      "metadata": {
        "id": "pdQeo_GNR6ZJ"
      },
      "source": [
        "def heuristics():\n",
        "    N, M, K, A, L= get_data(FILENAME)\n",
        "\n",
        "    current = [0]*M\n",
        "    X = [[]for i in range(N)]\n",
        "    for i in range(N):\n",
        "        list = []\n",
        "        d = 0\n",
        "        while len(list) < K:\n",
        "            for j in A[i]:\n",
        "                if current[j-1] == min([current[a-1] for a in A[i]]) + d:\n",
        "                    list.append(j)\n",
        "            d += 1\n",
        "        result = rd.sample(list,K)\n",
        "        X[i] = result\n",
        "        for j in result:\n",
        "            current[j - 1] += 1\n",
        " \n",
        "    for i in range(N):\n",
        "        X[i].sort()\n",
        "    for i in range(N):\n",
        "        for j in range(K):\n",
        "            print(X[i][j], end=' ')\n",
        "        print()\n"
      ],
      "execution_count": null,
      "outputs": []
    },
    {
      "cell_type": "markdown",
      "metadata": {
        "id": "qLyLNJZPR6ZL"
      },
      "source": [
        "## Solve the problem with Backtracking"
      ]
    },
    {
      "cell_type": "code",
      "metadata": {
        "id": "Ygx6trgCR6ZM"
      },
      "source": [
        "def backtracking():\n",
        "    sci_index_in_A_taking = [[-1]*K for _ in range(N)]\n",
        "    workload = [0]*M\n",
        "    \n",
        "    def Try(i, t):\n",
        "        global objective_value\n",
        "        available_range = range(sci_index_in_A_taking[i][t - 1] + 1, len(A[i]) - K + t + 1)\n",
        "        if len(available_range) == 0:\n",
        "            objective_value = \"INFEASIBLE\"\n",
        "        else:\n",
        "            for sci_index_in_A in available_range:\n",
        "                if objective_value != \"INFEASIBLE\" and workload[A[i][sci_index_in_A] - 1] + 1  < objective_value:\n",
        "                    sci_index_in_A_taking[i][t] = sci_index_in_A\n",
        "                    workload[A[i][sci_index_in_A] - 1] += 1\n",
        "                    if i == N - 1 and t == K - 1:\n",
        "                        Update()\n",
        "                    else:\n",
        "                        if t < K - 1: Try(i, t + 1)\n",
        "                        else: Try(i + 1, 0)\n",
        "                    workload[A[i][sci_index_in_A] - 1] -= 1\n",
        "                    sci_index_in_A_taking[i][t] = -1\n",
        "\n",
        "    def Update():\n",
        "        global objective_value, optimal_solution\n",
        "        if max(workload) < objective_value:\n",
        "            objective_value = max(workload)\n",
        "            optimal_solution = [[A[i][j] for j in sci_index_in_A_taking[i]] for i in range(N)]\n",
        "        \n",
        "    Try(0, 0)\n"
      ],
      "execution_count": null,
      "outputs": []
    },
    {
      "cell_type": "markdown",
      "metadata": {
        "id": "L3VxbBYaR6ZN"
      },
      "source": [
        "# Another approach"
      ]
    },
    {
      "cell_type": "markdown",
      "metadata": {
        "id": "zF2NksCMR6ZO"
      },
      "source": [
        "Ideal: \n",
        "We aim to minimize the_max_the_article_taken_among_scientists\n",
        "So, I decided to reduce the max of the article till I can’t reduce it any more.\n",
        "It’s not mean that I can reduce the max to any value arbitrarily\n",
        "I decided to reduce the max to the predecessor(the number that has the value just only less than the max number. Ex:...)\n",
        "If after reduction, we can’t not reach the predecessor, so we find the solution…\n",
        "Else we continue reduce them :)))\n",
        "\n",
        "Another case: If we don’t have predecessor(ex: a sequence numbers have the same value) \n",
        "So, we reduce ‘slowly’: each value reduce only 1\n",
        "If after reduce, which value doesn’t change is our solution\n",
        "\n",
        "Cách này thủ công vl nhưng mà nó ra được kết quả tối ưu. Nên tôi nghĩ là từ những constraint tôi đưa #check = False, mọi người có thể dựa vào nó để mà Backtracking\n",
        "Constrain :\n",
        "K = the minimum scientist must take a article:\n",
        "The number of articles can’t not reduce over K\n",
        "After reduce there are the value can’t not reduce to the predecessor, stable(in case no predecessor) so solution is the max_value_after_reduce"
      ]
    },
    {
      "cell_type": "code",
      "metadata": {
        "id": "FVGjlmRzR6ZQ"
      },
      "source": [
        "'''\n",
        "an arrange function that we can 'easily' reduce the number of article\n",
        "among 'the_scientist_take_the_max_article'\n",
        "'''     \n",
        "def arrange(L):\n",
        "    L = L[L[:,0].argsort()]\n",
        "    L = L.T\n",
        "    L = L[L[:,0].argsort()]\n",
        "    L = L.T\n",
        "    return L\n",
        "\n",
        "#find the predecessor of max(article taken by the scientist)\n",
        "def predecessor(L):\n",
        "    i = 0\n",
        "    while max(L) - L[len(L)-1-i] == 0 and i!=len(L) :\n",
        "        i += 1\n",
        "    return [L[len(L)-1-i],i]\n",
        "\n",
        "'''\n",
        "    Stop condition for this algorithm:\n",
        "    - if all the number of scientists take an article = K(the minimum scientist need to take each article)\n",
        "    - if we can't reduce the_max_number of article taken by a scientist\n",
        "    any more OR the_max_number after reduce is not equal to the\n",
        "    predecessor(of max).\n",
        "    #Note\n",
        "        #trong qua trinh tru thi se co hang bang K.\n",
        "        #nhung nhung hang o duoi thi co hang > K\n",
        "        #tao dieu kien dung(tai mot hang) khi ma ta\n",
        "        #tru den gia tri toi thieu(o day la K)\n",
        "'''\n",
        "def stopCDT(L,K):\n",
        "    return max(np.where(L[:,0] == K)[0])\n",
        "'''\n",
        "#boi vi cai phan cong tru nay toi thay no ton nhieu dien tich nen dinh dat\n",
        "#no vao trong mot cai ham. Tuy nhien toi so no khong tra ve cac tham so\n",
        "def congtru(L,N,M,K,i,j):\n",
        "    global t ,st\n",
        "    t = 0\n",
        "    st = stopCDT(L, K)\n",
        "    if L[N-i,M-j] == 1:   \n",
        "        L[N-i,M-j] = 0\n",
        "        L[0,M-j] -= 1\n",
        "        L[N-i,0] -= 1\n",
        "        t += 1 #check if we can reduce the_max_article_taken by a scientist \n",
        "                #equal to predecessor\n",
        "                #if not, break and then solution = max(after reduce)\n",
        "        k = st #update stop\n",
        "        while L[0,k] == k: \n",
        "            k+=1\n",
        "            st = k \n",
        "'''\n",
        "def solver(L,N,M,K):\n",
        "    L = arrange(L)\n",
        "    global check\n",
        "    p = predecessor(L[0][1:])\n",
        "    t = 0  \n",
        "    i = 0\n",
        "    st = stopCDT(L, K) \n",
        "    if L[N,0] == K:\n",
        "        check = False    \n",
        "    else:\n",
        "        if p[0] != max(L[0]): #this sequence has predecessor\n",
        "            t1 = 0\n",
        "            for j in range(p[1]): #interate till find the predecessor\n",
        "                while (L[0,M-j] != p[0]): #check when to stop reduce\n",
        "                    if N-i == st:\n",
        "                        break    \n",
        "                    if (L[N-i,0]!= K) :    \n",
        "                        if L[N-i,M-j] == 1:   \n",
        "                                L[N-i,M-j] = 0\n",
        "                                L[0,M-j] -= 1\n",
        "                                L[N-i,0] -= 1\n",
        "                                t += 1 #check if we can reduce the_max_article_taken by a scientist \n",
        "                                       #equal to predecessor\n",
        "                                       #if not, break and then solution = max(after reduce)\n",
        "                                k = st #update stop\n",
        "                                while L[0,k] == K: \n",
        "                                    k+=1\n",
        "                                st = k            \n",
        "                    i += 1\n",
        "                if t1 <= t:\n",
        "                    t1 = t\n",
        "                i = 0\n",
        "                t = 0\n",
        "            if t1 < max(L[0]) - predecessor(L[0])[0]:\n",
        "                return L\n",
        "                check = False\n",
        "        else:   # this sequence has no predecessor\n",
        "            t1 = float('inf')\n",
        "            for j in range(p[1]):\n",
        "                while N-i != st:\n",
        "                    if L[N-i,0] != 3:\n",
        "                        if L[N-i,M-j] == 1:\n",
        "                            L[N-i,M-j] = 0\n",
        "                            L[0,M-j] -= 1\n",
        "                            L[N-i,0] -= 1\n",
        "                            t += 1\n",
        "                            k = st #update stop\n",
        "                            while L[0,k] == K: \n",
        "                                k+=1\n",
        "                            st = k  \n",
        "                        break\n",
        "                    i += 1\n",
        "                if t1 > t:\n",
        "                    t1 = t\n",
        "                t = 0\n",
        "                i = 0\n",
        "            if t1 == 0:\n",
        "                return L\n",
        "                check = False\n",
        "    return L\n",
        "\n",
        "def printmt(L,N,M):\n",
        "    a = []\n",
        "    for i in range(1,N+1):\n",
        "        for j in range(1,M+1):\n",
        "            if L[i,j] != 0:\n",
        "                a.append(j)\n",
        "        print(a)\n",
        "        a = []\n",
        "\n",
        "check = True\n",
        "\n",
        "def main_f():\n",
        "    N, M, K, A, L = get_data(FILENAME) \n",
        "    while check:\n",
        "        L = solver(L,N,M,K)\n",
        "    print(L)\n",
        "    printmt(L,N,M)\n",
        "    print('solution is: ', max(L[0]))"
      ],
      "execution_count": null,
      "outputs": []
    },
    {
      "cell_type": "markdown",
      "metadata": {
        "id": "CHlbxCgMR6ZU"
      },
      "source": [
        "## Main function"
      ]
    },
    {
      "cell_type": "code",
      "metadata": {
        "scrolled": false,
        "id": "VrciD8VcR6ZV",
        "outputId": "32bc9b2d-abc7-4aff-cd44-c5f8e59b1732"
      },
      "source": [
        "N, M, K, A, L = input_from(FILENAME)\n",
        "objective_value, optimal_solution = float('inf'), []\n",
        "ortools()\n",
        "output()\n",
        "       \n"
      ],
      "execution_count": null,
      "outputs": [
        {
          "output_type": "stream",
          "text": [
            "5.0\n",
            "1 6 7 \n",
            "3 5 7 \n",
            "1 2 6 \n",
            "4 5 7 \n",
            "2 3 6 \n",
            "1 3 4 \n",
            "1 2 6 \n",
            "2 4 5 \n",
            "1 3 4 \n",
            "2 3 4 "
          ],
          "name": "stdout"
        }
      ]
    },
    {
      "cell_type": "code",
      "metadata": {
        "id": "2RYsR-TtR6ZY"
      },
      "source": [
        ""
      ],
      "execution_count": null,
      "outputs": []
    }
  ]
}