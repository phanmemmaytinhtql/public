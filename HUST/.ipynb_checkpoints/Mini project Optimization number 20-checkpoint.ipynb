{
 "cells": [
  {
   "cell_type": "markdown",
   "metadata": {},
   "source": [
    "# Mini project 20\n"
   ]
  },
  {
   "cell_type": "markdown",
   "metadata": {},
   "source": [
    "## Input\n",
    "\n",
    "Example:\n",
    "\n",
    "```\n",
    "10 7 3\n",
    "5 1 2 4 6 7\n",
    "6 1 3 7 2 4 5\n",
    "4 2 6 7 1\n",
    "5 4 5 2 1 7\n",
    "5 3 6 7 1 2\n",
    "5 4 1 5 3 6\n",
    "3 1 2 6\n",
    "4 2 4 7 5\n",
    "4 5 3 1 4\n",
    "5 5 4 2 1 3\n",
    "```\n",
    "\n",
    ">* The first line contains $N, M, K$ respectively corresponding to the number of articles, the number of scientists, the least number of scientists needed to take on an article.\n",
    ">* Each of $N$ next lines contains $q_i + 1$ numbers where the first is the number of scientists who can take on the article i and the rest are the list of them."
   ]
  },
  {
   "cell_type": "markdown",
   "metadata": {},
   "source": [
    "## Output\n",
    "\n",
    "Example:\n",
    "\n",
    "```\n",
    "5\n",
    "1 2 4 \n",
    "1 2 3 \n",
    "1 2 6 \n",
    "1 2 4 \n",
    "3 6 7 \n",
    "3 5 6 \n",
    "1 2 6 \n",
    "4 5 7 \n",
    "3 4 5 \n",
    "3 4 5\n",
    "```\n",
    "\n",
    "* The first line contains the minimized value of the maximum of scientists' workload.\n",
    "* Each of the next $N$ lines contains a sequence of $p_i$ number listing the scientists to be assgined the article i."
   ]
  },
  {
   "cell_type": "code",
   "execution_count": 31,
   "metadata": {
    "id": "KwDVVrLzWuJ2"
   },
   "outputs": [],
   "source": [
    "import numpy as np\n",
    "from ortools.linear_solver import pywraplp\n",
    "import random as rd\n",
    "from time import time\n",
    "import sys\n",
    "\n",
    "sys.setrecursionlimit(1000000000)\n",
    "FILENAME = \"/home/ubuntu/Downloads/data_samples_mini_projects/miniproject-20/data.txt\""
   ]
  },
  {
   "cell_type": "markdown",
   "metadata": {},
   "source": [
    "## Data generazation"
   ]
  },
  {
   "cell_type": "code",
   "execution_count": 32,
   "metadata": {
    "scrolled": true
   },
   "outputs": [],
   "source": [
    "def gen_data(N, M, K):\n",
    "    infile = open(FILENAME, 'w')\n",
    "\n",
    "    print(N, M, K, end=' ', file=infile)\n",
    "    for i in range(N):\n",
    "        print(file=infile)\n",
    "        T = rd.randrange(K, M + 1)\n",
    "        print(T, end=' ', file=infile)\n",
    "        for j in rd.sample(range(1, M + 1), T):\n",
    "            print(j, end=' ', file=infile)\n",
    "    infile.close()"
   ]
  },
  {
   "cell_type": "markdown",
   "metadata": {},
   "source": [
    "## I/O"
   ]
  },
  {
   "cell_type": "code",
   "execution_count": 33,
   "metadata": {
    "id": "JQqAOGzpWuKF"
   },
   "outputs": [],
   "source": [
    "def input_from(filename):\n",
    "    infile = open(filename, 'r')\n",
    "    \n",
    "    N, M, K = [int(i) for i in infile.readline().split()]\n",
    "    \n",
    "    A = []\n",
    "    L = np.zeros((N,M), dtype = 'int')\n",
    "    for i in range(N):\n",
    "        A.append(sorted([int(k) for k in infile.readline().split()[1:]]))\n",
    "        if len(A) < K:\n",
    "            objective_value = \"INFEASIBLE\"\n",
    "        for j in A[i]:\n",
    "            L[i, j - 1] = 1\n",
    "    infile.close()\n",
    "    return A, L\n",
    "\n",
    "def output():\n",
    "    print(objective_value)\n",
    "    if objective_value != \"INFEASIBLE\":\n",
    "        for i in range(N):\n",
    "            print()\n",
    "            for j in range(K):\n",
    "                print(optimal_solution[i][j], end=' ')"
   ]
  },
  {
   "cell_type": "markdown",
   "metadata": {
    "id": "hhWN__kKWuKG"
   },
   "source": [
    "### OR-tools"
   ]
  },
  {
   "cell_type": "code",
   "execution_count": 34,
   "metadata": {
    "id": "jD9NmCpLWuKH"
   },
   "outputs": [],
   "source": [
    "def ortools():\n",
    "    \"\"\"Minimize the maximal number of articles that a scientist can take on using OR-tools.\n",
    "    \n",
    "    solver   solver using Mixed-Integer Programmin with SCIP\n",
    "    Y        variable mataining the objective function of the SCIP solver    \n",
    "    \"\"\"\n",
    "    global objective_value, optimal_solution\n",
    "    \n",
    "    solver = pywraplp.Solver.CreateSolver('SCIP')\n",
    "    \n",
    "    INF = solver.infinity()\n",
    "\n",
    "    X = np.array([[None]*M for i in range(N)])\n",
    "    Y = solver.IntVar(-INF, INF, 'Y')\n",
    "\n",
    "    for i in range(N):\n",
    "        for j in range(M):\n",
    "            X[i, j] = solver.IntVar(0, int(L[i, j]), 'X[{}, {}]'.format(i, j))\n",
    "\n",
    "    for i in range(N):\n",
    "        solver.Add(K == sum(L[i, j]*X[i, j] for j in range(M)))\n",
    "        \n",
    "    for j in range(M):\n",
    "        solver.Add(Y >= sum(L[i, j]*X[i, j] for i in range(N)))\n",
    "\n",
    "    solver.Minimize(Y)\n",
    "    status = solver.Solve()\n",
    "    \n",
    "    if status == pywraplp.Solver.OPTIMAL:\n",
    "        objective_value = solver.Objective().Value()\n",
    "        optimal_solution = [[j + 1 for j in range(M) if X[i, j].solution_value() == 1] for i in range(N)]\n",
    "    else:\n",
    "        objective_value = \"INFEASIBLE\""
   ]
  },
  {
   "cell_type": "markdown",
   "metadata": {
    "id": "CGxHY4EaWuKJ"
   },
   "source": [
    "### Heuristics"
   ]
  },
  {
   "cell_type": "code",
   "execution_count": 35,
   "metadata": {
    "id": "HssVTg8bWuKK"
   },
   "outputs": [],
   "source": [
    "def heuristics():\n",
    "    \"\"\"Minimize the maximal number of articles that a scientist can take on using heuristics.\n",
    "    \n",
    "    workload            workload[j] will maintains the number of articles that the scientist j is currently taking\n",
    "    optimal_solution    optimal_solution[i] maintains the scientists that is currenty taking the article i. After execution, it will be optimal\n",
    "    \"\"\"\n",
    "    global objective_value, optimal_solution\n",
    "    \n",
    "    if objective_value != \"INFEASIBLE\":\n",
    "        workload = [0]*M                                             # workload a scientist is currently taking, initially 0\n",
    "        optimal_solution = [[] for i in range(N)]\n",
    "        for i in range(N):                                           # for each article i\n",
    "            list = sorted([(workload[j - 1], j) for j in A[i]])      # sort all scientists who CAN take the artcile i in the order of inceasing currently-taking workload\n",
    "            optimal_solution[i] = [_[1] for _ in list[:K]]           # select in that list K scientists who is currently taking smallest workload\n",
    "            for j in optimal_solution[i]:                            # then increase the workload of\n",
    "                workload[j - 1] += 1                                 # each of these scientists by 1\n",
    "\n",
    "        objective_value = max(workload)"
   ]
  },
  {
   "cell_type": "markdown",
   "metadata": {
    "id": "7k6STf5ZWuKL"
   },
   "source": [
    "### Backtracking"
   ]
  },
  {
   "cell_type": "code",
   "execution_count": 36,
   "metadata": {
    "id": "Dnyv8Y6LWuKL"
   },
   "outputs": [],
   "source": [
    "def backtracking():\n",
    "    \"\"\"\n",
    "    Find the t th scientist for the article i.\n",
    "\n",
    "    index              the INDEX in A[i] of a scientist\n",
    "    available_range    the range in which index varies. This ensures eliminating repetition.\n",
    "    workload           workload[j] will maintains the number of articles that the scientist j is currently taking\n",
    "    solution           a Nx3 nested list maintaining a way of assignment. Note that ...[i][t] indicates INDEX in A[i], not the name of a scientist.\n",
    "    \"\"\"\n",
    "    solution = [[-1]*K for _ in range(N)]\n",
    "    workload = [0]*M\n",
    "    \n",
    "    def Try(i, t):\n",
    "        global objective_value\n",
    "        \n",
    "        available_range = range(solution[i][t - 1] + 1, len(A[i]) - K + t + 1)\n",
    "        for index in available_range:\n",
    "            if workload[A[i][index] - 1] + 1  < objective_value:    # branch and bound\n",
    "                solution[i][t] = index                              # choose a scientist in A[i]\n",
    "                workload[A[i][index] - 1] += 1                      # increase the workload of that scientist by 1\n",
    "                if i == N - 1 and t == K - 1: Update()              # if sufficient scientists are chosen, then Update\n",
    "                else:\n",
    "                    if t < K - 1: Try(i, t + 1)                     # find scientists for the article i until enough K are chosen\n",
    "                    else: Try(i + 1, 0)                             # then move to the next article\n",
    "                workload[A[i][index] - 1] -= 1                      # After completing Try with that scientist, abandons him\n",
    "                solution[i][t] = -1                                 # in order to try another candidate\n",
    "\n",
    "    def Update():\n",
    "        global objective_value, optimal_solution\n",
    "        if max(workload) < objective_value:                # if the maximal workload of the current solution is the minimal recorded\n",
    "            objective_value = max(workload)                # then we will save it\n",
    "            optimal_solution = [[A[i][j] for j in solution[i]] for i in range(N)]\n",
    "        \n",
    "    if objective_value != \"INFEASIBLE\":\n",
    "        Try(0, 0)"
   ]
  },
  {
   "cell_type": "markdown",
   "metadata": {
    "id": "GN5-IcO_WuKQ"
   },
   "source": [
    "## Execution"
   ]
  },
  {
   "cell_type": "code",
   "execution_count": null,
   "metadata": {
    "id": "fFfIoKj6WuKR",
    "outputId": "91d2ca2d-e940-4242-981d-b0bd44eb9337",
    "scrolled": true
   },
   "outputs": [],
   "source": [
    "data_sizes = [(5, 4, 2), (10, 7, 3), (20, 15, 6), (50, 35, 15), (100, 70, 30), (300, 210, 90)]\n",
    "\n",
    "for (N, M, K) in data_sizes:\n",
    "    gen_data(N, M, K)\n",
    "    \n",
    "    for algorithm in (\"ortools\", \"heuristics\", \"backtracking\"):\n",
    "        print(algorithm)\n",
    "\n",
    "        A, L = input_from(FILENAME)\n",
    "        objective_value, optimal_solution = float('inf'), []\n",
    "\n",
    "        start_time = time()\n",
    "        eval(algorithm + \"()\")\n",
    "        end_time = time()\n",
    "        \n",
    "        print(end_time - start_time)\n",
    "        \n",
    "        output()"
   ]
  },
  {
   "cell_type": "markdown",
   "metadata": {
    "id": "OGtOcukvWuKN"
   },
   "source": [
    "### Another approach"
   ]
  },
  {
   "cell_type": "code",
   "execution_count": 37,
   "metadata": {
    "id": "51U0t1WyWuKO",
    "scrolled": false
   },
   "outputs": [],
   "source": [
    "FILENAME = r\"C:\\Users\\Duy Hung\\Desktop\\data5000.txt\"\n",
    "def get_data(filename):\n",
    "    \"\"\"\n",
    "    Process user's input and generate data.\n",
    "    \n",
    "    N    number of articles\n",
    "    M    number of scientists\n",
    "    K    minimal number of scientists working on each article\n",
    "    L    matrix representation of data. L[i, j] = 1 means scientist j can take on article i\n",
    "    \"\"\"\n",
    "    infile = open(filename, 'r')\n",
    "    \n",
    "    N, M, K = [int(i) for i in infile.readline().split()]\n",
    "    \n",
    "    L = np.zeros((N+1,M+1), dtype = 'int')\n",
    "    # Create N+1 and M+1 so that get the numbers of scientist and article \n",
    "    # The additional collumn M+1 and row N+1 give me information of \n",
    "    # the number of scientist take an article and the number of article \n",
    "    # taken by a scientist in order by get the sum of each collumn and row\n",
    "\n",
    "    for i in range(1,N+1):\n",
    "        a = [int(k) for k in infile.readline().split()][1:]\n",
    "        for j in a:\n",
    "            L[i,j] = 1\n",
    "            L[0,j] += L[i,j]\n",
    "    for j in range(1,M+1):\n",
    "        for i in range(1,N+1):\n",
    "            L[i,0] += L[i,j]\n",
    "    return N, M, K, L\n",
    "\n",
    "'''\n",
    "an arrange function that we can 'easily' reduce the number of article\n",
    "among 'the_scientist_take_the_max_article'\n",
    "'''     \n",
    "def arrange(L):\n",
    "    L = L[L[:,0].argsort()]\n",
    "    L = L.T\n",
    "    L = L[L[:,0].argsort()]\n",
    "    L = L.T\n",
    "    return L\n",
    "def predecessor(L):\n",
    "    #find the predecessor of max(article taken by the scientist)\n",
    "    i = 0\n",
    "    while max(L) - L[len(L)-1-i] == 0 and i != len(L) :\n",
    "        i += 1\n",
    "    return [L[len(L)-1-i],i]\n",
    "\n",
    "'''\n",
    "    Stop condition for this algorithm:\n",
    "    - if all the number of scientists take an article = K(the minimum scientist need to take each article)\n",
    "    - if we can't reduce the_max_number of article taken by a scientist\n",
    "    any more OR the_max_number after reduce is not equal to the\n",
    "    predecessor(of max).\n",
    "    #Note\n",
    "        #trong qua trinh tru thi se co hang bang K.\n",
    "        #nhung nhung hang o duoi thi co hang > K\n",
    "        #tao dieu kien dung(tai mot hang) khi ma ta\n",
    "        #tru den gia tri toi thieu(o day la K) \n",
    "        => stopCDT()\n",
    "'''\n",
    "def stopCDT(L,K):\n",
    "    address = np.where(L[:,0][1:] == K)[0]\n",
    "    if address.size > 0:\n",
    "        return max(address)\n",
    "    else:\n",
    "        return 0\n",
    "def solver(L,N,M,K):\n",
    "    L = arrange(L)\n",
    "    global check\n",
    "    p = predecessor(L[0][1:])\n",
    "    t = 0  \n",
    "    i = 0\n",
    "    t1 = float('inf')\n",
    "    st = stopCDT(L, K) \n",
    "    if L[N,0] == K:\n",
    "        check = False    \n",
    "    else:\n",
    "        if p[0] != max(L[0]): #this sequence has predecessor\n",
    "            for j in range(p[1]): #interate till find the predecessor\n",
    "                while (L[0,M-j] != p[0]): #check when to stop reduce\n",
    "                    if N-i == st:\n",
    "                        break    \n",
    "                    if (L[N-i,0]!= K) :    \n",
    "                        if L[N-i,M-j] == 1:   \n",
    "                            L[N-i,M-j] = 0\n",
    "                            L[0,M-j] -= 1\n",
    "                            L[N-i,0] -= 1\n",
    "                            t += 1  #check if we can reduce the_max_article_taken by a scientist \n",
    "                                    #equal to predecessor\n",
    "                                    #if not, break and then solution = max(after reduce)\n",
    "                            if st != 0 and st != N:#update stop\n",
    "                                k = st \n",
    "                                while (L[k,0] == K) and k!=N: \n",
    "                                    k+=1\n",
    "                                st = k                            \n",
    "                    i += 1\n",
    "                if t1 > t:\n",
    "                    t1 = t\n",
    "                i = 0\n",
    "                t = 0\n",
    "            if t1 == 0:\n",
    "                check = False\n",
    "            elif (t1 < max(L[0]) - predecessor(L[0])[0]):\n",
    "                return L\n",
    "                check = False\n",
    "        else:   # this sequence has no predecessor\n",
    "            for j in range(p[1]):\n",
    "                while N-i != st:\n",
    "                    if L[N-i,0] != K:\n",
    "                        if L[N-i,M-j] == 1:   \n",
    "                            L[N-i,M-j] = 0\n",
    "                            L[0,M-j] -= 1\n",
    "                            L[N-i,0] -= 1\n",
    "                            t += 1\n",
    "                            if st != 0 and st != N:#update stop\n",
    "                                k = st \n",
    "                                while (L[k,0] == K) and k!=N: \n",
    "                                    k+=1\n",
    "                                st = k   \n",
    "                        break\n",
    "                    i += 1\n",
    "                if t1 > t:\n",
    "                    t1 = t\n",
    "                t = 0\n",
    "                i = 0\n",
    "            if t1 == 0:\n",
    "                return L\n",
    "                check = False\n",
    "    return L\n",
    "def printmt(L,N,M):\n",
    "    a = []\n",
    "    for i in range(1,N+1):\n",
    "        for j in range(1,M+1):\n",
    "            if L[i,j] != 0:\n",
    "                a.append(j)\n",
    "        print(a)\n",
    "        a = []\n",
    "\n",
    "check = True\n",
    "def special_algorithm():\n",
    "    N, M, K, L = get_data(FILENAME) \n",
    "    while check:\n",
    "        L = solver(L,N,M,K)\n",
    "    print(L)\n",
    "    printmt(L,N,M)\n",
    "    print('solution is: ', max(L[0]))\n",
    "\n",
    "special_algorithm()"
   ]
  }
 ],
 "metadata": {
  "colab": {
   "name": "Mini project Optimization number 20.ipynb",
   "provenance": []
  },
  "kernelspec": {
   "display_name": "Python 3",
   "language": "python",
   "name": "python3"
  },
  "language_info": {
   "codemirror_mode": {
    "name": "ipython",
    "version": 3
   },
   "file_extension": ".py",
   "mimetype": "text/x-python",
   "name": "python",
   "nbconvert_exporter": "python",
   "pygments_lexer": "ipython3",
   "version": "3.8.5"
  }
 },
 "nbformat": 4,
 "nbformat_minor": 1
}
