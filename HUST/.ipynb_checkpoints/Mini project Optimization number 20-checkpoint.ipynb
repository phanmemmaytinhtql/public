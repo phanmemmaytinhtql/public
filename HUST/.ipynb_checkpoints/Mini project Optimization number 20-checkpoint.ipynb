{
 "cells": [
  {
   "cell_type": "markdown",
   "metadata": {},
   "source": [
    "# Mini project 20\n",
    "\n",
    "Nội dung: Có $N$ bài báo $1, 2,…, N$ khoa học cần được phân cho $M$ nhà khoa học $1, 2, …, M$ để nhận xét phản biện. Tùy thuộc vào lĩnh vực chuyên môn của bài báo và của nhà khoa học mà mỗi bài báo $i$ sẽ tương ứng với $1$ danh sách $L(i)$ các nhà khoa học có thể tham gia phản biện. Mỗi bài báo cần được phân công cho ít nhất $K$ nhà khoa học phản biện để đảm bảo tính tin cậy. Hãy xây dựng phương án phân công phản biện sao cho số lượng bài báo nhiều nhất phân cho một nhà khoa học nào đó phải ít nhất.\n"
   ]
  },
  {
   "cell_type": "markdown",
   "metadata": {},
   "source": [
    "## Group 6\n",
    "\n",
    "1. Nguyễn Duy Hưng\n",
    "2. Hoàng Thiện Tâm\n",
    "3. Trần Quốc Lập\n"
   ]
  },
  {
   "cell_type": "markdown",
   "metadata": {},
   "source": [
    "## Input\n",
    "\n",
    "Example:\n",
    "\n",
    "```\n",
    "10 7 3\n",
    "5 1 2 4 6 7\n",
    "6 1 3 7 2 4 5\n",
    "4 2 6 7 1\n",
    "5 4 5 2 1 7\n",
    "5 3 6 7 1 2\n",
    "5 4 1 5 3 6\n",
    "3 1 2 6\n",
    "4 2 4 7 5\n",
    "4 5 3 1 4\n",
    "5 5 4 2 1 3\n",
    "```\n",
    "\n",
    ">* Dòng thứ nhất: Nhập vào thứ tự $3$ số $N, M, K$ tương ứng với số bài báo, số nhà khoa học, số nhà khoa học ít nhất cần được phân công cho $1$ bài báo.\n",
    ">* $N$ dòng tiếp theo, mỗi dòng nhập $q_i + 1$ số ngăn cách bởi dấu cách, số đầu tiên ghi số nhà khoa học có thể phản biện bài báo $i$, $q_i$ sô tiếp theo ghi danh sách các nhà khoa học đó."
   ]
  },
  {
   "cell_type": "markdown",
   "metadata": {},
   "source": [
    "## Output\n",
    "\n",
    "Example:\n",
    "\n",
    "```\n",
    "5\n",
    "1 2 4 \n",
    "1 2 3 \n",
    "1 2 6 \n",
    "1 2 4 \n",
    "3 6 7 \n",
    "3 5 6 \n",
    "1 2 6 \n",
    "4 5 7 \n",
    "3 4 5 \n",
    "3 4 5\n",
    "```\n",
    "\n",
    "* the first line: minimized number of articles that can be assigned to the scientist who take the largest workload.\n",
    "* Next $N$ lines, each line has a sequence of $p_i$ number separated by space that represents the optimal way of assigning."
   ]
  },
  {
   "cell_type": "markdown",
   "metadata": {},
   "source": [
    "## Phân tích bài toán\n",
    "\n",
    "1. **Kí hiệu**:\n",
    ">* $N$: với số bài báo.\n",
    ">* $M$: số nhà khoa học.\n",
    ">* $K$: số nhà khoa học ít nhất được phân công cho $1$ bài báo.\n",
    ">* $A$: mảng mà ở đó $A_i$ liệt kê danh sách các nhà khoa học có thể đảm nhận bài báo $i$. Ví dụ\n",
    ">> ```\n",
    "[[1, 2, 4, 6, 7], \n",
    "[1, 2, 3, 4, 5, 7], \n",
    "[1, 2, 6, 7], \n",
    "[1, 2, 4, 5, 7], \n",
    "[1, 2, 3, 6, 7], \n",
    "[1, 3, 4, 5, 6], \n",
    "[1, 2, 6], \n",
    "[2, 4, 5, 7], \n",
    "[1, 3, 4, 5], \n",
    "[1, 2, 3, 4, 5]]\n",
    "```\n",
    ">* $L$: ma trận kích thước $N \\times M$, trong đó $L_{ij} = 1$ nếu nhà khoa học $j$ có thể đảm nhận bài báo $i$, hoặc $L_{ij} = 0$ nếu không đảm nhận được. Ví dụ:\n",
    ">> ```\n",
    "[[1 1 0 1 0 1 1]\n",
    "[1 1 1 1 1 0 1]\n",
    "[1 1 0 0 0 1 1]\n",
    "[1 1 0 1 1 0 1]\n",
    "[1 1 1 0 0 1 1]\n",
    "[1 0 1 1 1 1 0]\n",
    "[1 1 0 0 0 1 0]\n",
    "[0 1 0 1 1 0 1]\n",
    "[1 0 1 1 1 0 0]\n",
    "[1 1 1 1 1 0 0]]\n",
    "```\n",
    ">* $Objective\\text{_}value$: số lượng bài báo ít nhất có thể  được phân cho nhà khoa học đảm nhận nhiều bài báo nhất. Ví dụ:\n",
    ">> ```\n",
    "5\n",
    "```\n",
    ">* $Optimal\\text{_}solution$: mảng lưu cách phân công tối ưu. Ví dụ:\n",
    ">> ```\n",
    "1 2 4 \n",
    "1 2 3 \n",
    "1 2 6 \n",
    "1 2 4 \n",
    "3 6 7 \n",
    "3 5 6 \n",
    "1 2 6 \n",
    "4 5 7 \n",
    "3 4 5 \n",
    "3 4 5\n",
    "```\n",
    ">* $X$: ma trận kích thước $N \\times M$, trong đó $X_{ij}= 1$ nếu nhà khoa học $j$ sẽ đảm nhận bài báo $i$, hoặc $X_{ij} = 0$ nếu không đảm nhận. Ví dụ:\n",
    ">> ```\n",
    "[[1 1 0 1 0 0 0]\n",
    "[1 1 1 0 0 0 0]\n",
    "[1 1 0 0 0 1 0]\n",
    "[1 1 0 1 0 0 0]\n",
    "[0 0 1 0 0 1 1]\n",
    "[0 0 1 0 1 1 0]\n",
    "[1 1 0 0 0 1 0]\n",
    "[0 0 1 0 1 0 1]\n",
    "[0 0 1 1 1 0 0]\n",
    "[0 0 1 1 1 0 0]\n",
    "```\n",
    ">* $workload$: mảng mà ở đó `workload[j]` lưu khối lượng bài báo mà nhà khoa học $j$ đã nhận. Ví dụ: `workload = [5, 5, 5, 5, 4, 4, 2]`\n",
    "\n",
    "2. **Mô hình hóa**:\n",
    "> Khi đó, với mỗi một cách phân công, bài báo $i$ sẽ có số giám khảo đảm nhận là $\\displaystyle \\sum_{j = 1}^{M}{x_{ij}l_{ij}}$. <br>\n",
    "> Và với mỗi một nhà khoa học $j$, số bài báo người đó đảm nhận sẽ là $\\displaystyle \\sum_{i = 1}^{N}{x_{ij}l_{ij}}$.\n",
    ">\n",
    "> Do đó ta có mô hình:\n",
    ">> Minimize: $$\\displaystyle \\max_{j = \\overline{1,M}}{\\sum_{i = 1}^{N}}{x_{ij}l_{ij}}$$\n",
    ">> \n",
    ">> S.t: $$\\displaystyle \\sum_{j = 1}^{M}{x_{ij}l_{ij}} \\ge K \\text{ } \\forall i = \\overline{1, N}$$\n",
    "\n",
    "Dễ thấy: nếu tồn tại ít nhất một cách phân công thì cũng tồn tại ít nhất một cách phân công tối ưu. Trong cách phân công tối ưu, tất cả các bài báo đều có **đúng** $K$ nhà khoa học đảm nhận.\n",
    "\n",
    "> **Chứng minh**: Giả sử có một cách phân công mà ở đó tồn tại ít nhất $1$ bài báo có $K' > K$ nhà khoa học đảm nhận. <br>\n",
    "Khi đó chọn ngẫu nhiên $1$ nhà khoa học $T$ trong số  $K'$ nhà khoa học đó và loại ông ta ra khỏi việc đảm nhận bài báo này. <br>\n",
    "Khi đó, $K' - 1 \\ge K$ vẫn thỏa mãn yêu cầu \"$1$ bài báo có ít nhất $K$ nhà khoa học đảm nhận\", trong khi số bài báo nhà khoa học $T$ đảm nhận sẽ ít đi $1$. Nếu nhà khoa học $T$ này lúc đầu là người duy nhất làm nhiều bài báo nhất, thì sau khi loại ông ta ra, ta sẽ được lời giải tối ưu hơn. "
   ]
  },
  {
   "cell_type": "code",
   "execution_count": 17,
   "metadata": {
    "id": "KwDVVrLzWuJ2"
   },
   "outputs": [],
   "source": [
    "import numpy as np\n",
    "from ortools.linear_solver import pywraplp\n",
    "import random as rd\n",
    "from time import time\n",
    "import sys\n",
    "\n",
    "sys.setrecursionlimit(10000000)\n",
    "FILENAME = \"/home/ubuntu/Downloads/data_samples_mini_projects/miniproject-20/data.txt\""
   ]
  },
  {
   "cell_type": "markdown",
   "metadata": {},
   "source": [
    "## Data generazation"
   ]
  },
  {
   "cell_type": "code",
   "execution_count": 18,
   "metadata": {
    "scrolled": true
   },
   "outputs": [],
   "source": [
    "def gen_data(N, M, K):\n",
    "    infile = open(FILENAME, 'w')\n",
    "\n",
    "    print(N, M, K, end=' ', file=infile)\n",
    "    for i in range(N):\n",
    "        print(file=infile)\n",
    "        T = rd.randrange(K, M + 1)\n",
    "        print(T, end=' ', file=infile)\n",
    "        for j in rd.sample(range(1, M + 1), T):\n",
    "            print(j, end=' ', file=infile)\n",
    "    infile.close()"
   ]
  },
  {
   "cell_type": "markdown",
   "metadata": {},
   "source": [
    "## I/O"
   ]
  },
  {
   "cell_type": "code",
   "execution_count": 19,
   "metadata": {
    "id": "JQqAOGzpWuKF"
   },
   "outputs": [],
   "source": [
    "def input_from(filename):\n",
    "    infile = open(filename, 'r')\n",
    "    \n",
    "    N, M, K = [int(i) for i in infile.readline().split()]\n",
    "    \n",
    "    A = []\n",
    "    L = np.zeros((N,M), dtype = 'int')\n",
    "    for i in range(N):\n",
    "        A.append(sorted([int(k) for k in infile.readline().split()[1:]]))\n",
    "        if len(A) < K:\n",
    "            objective_value = \"INFEASIBLE\"\n",
    "        for j in A[i]:\n",
    "            L[i, j - 1] = 1\n",
    "    infile.close()\n",
    "    return A, L\n",
    "\n",
    "def output():\n",
    "    print(objective_value, end='')\n",
    "    if objective_value != \"INFEASIBLE\":\n",
    "        for i in range(N):\n",
    "            print()\n",
    "            for j in range(K):\n",
    "                print(optimal_solution[i][j], end=' ')"
   ]
  },
  {
   "cell_type": "markdown",
   "metadata": {},
   "source": [
    "## Different approaches to solve the problem"
   ]
  },
  {
   "cell_type": "markdown",
   "metadata": {
    "id": "hhWN__kKWuKG"
   },
   "source": [
    "### OR-tools"
   ]
  },
  {
   "cell_type": "markdown",
   "metadata": {},
   "source": [
    "#### Source code"
   ]
  },
  {
   "cell_type": "code",
   "execution_count": 20,
   "metadata": {
    "id": "jD9NmCpLWuKH"
   },
   "outputs": [],
   "source": [
    "def ortools():\n",
    "    \"\"\"Minimize the maximal number of articles that a scientist can take on using OR-tools.\n",
    "    \n",
    "    solver   solver using Mixed-Integer Programmin with SCIP\n",
    "    Y        variable mataining the objective function of the SCIP solver    \n",
    "    \"\"\"\n",
    "    global objective_value, optimal_solution\n",
    "    \n",
    "    solver = pywraplp.Solver.CreateSolver('SCIP')\n",
    "    \n",
    "    INF = solver.infinity()\n",
    "\n",
    "    X = np.array([[None]*M for i in range(N)])\n",
    "    Y = solver.IntVar(-INF, INF, 'Y')\n",
    "\n",
    "    for i in range(N):\n",
    "        for j in range(M):\n",
    "            X[i, j] = solver.IntVar(0, int(L[i, j]), 'X[{}, {}]'.format(i, j))\n",
    "\n",
    "    for i in range(N):\n",
    "        solver.Add(K == sum(L[i, j]*X[i, j] for j in range(M)))\n",
    "        \n",
    "    for j in range(M):\n",
    "        solver.Add(Y >= sum(L[i, j]*X[i, j] for i in range(N)))\n",
    "\n",
    "    solver.Minimize(Y)\n",
    "    status = solver.Solve()\n",
    "    \n",
    "    if status == pywraplp.Solver.OPTIMAL:\n",
    "        objective_value = solver.Objective().Value()\n",
    "        optimal_solution = [[j + 1 for j in range(M) if X[i, j].solution_value() == 1] for i in range(N)]\n",
    "    else:\n",
    "        objective_value = \"INFEASIBLE\""
   ]
  },
  {
   "cell_type": "markdown",
   "metadata": {
    "id": "CGxHY4EaWuKJ"
   },
   "source": [
    "### Heuristics"
   ]
  },
  {
   "cell_type": "markdown",
   "metadata": {},
   "source": [
    "#### Algorithm description\n",
    "\n",
    ">* Consider the article $i$ that has not been taken by any scientists yet:\n",
    ">>* Pick out of $A_i$ a list of $K$ scientists who are taking the lightest workload as possible. Assign the article $i$ for them.\n",
    ">>* Increase the workload of these scientists by $1$.\n",
    ">* Consider the article $i + 1$.\n",
    ">* ..."
   ]
  },
  {
   "cell_type": "markdown",
   "metadata": {},
   "source": [
    "#### Pseudo code\n",
    "\n",
    "```\n",
    "Heuristics:    \n",
    "    if FEASIBLE:\n",
    "    \n",
    "        workload[j] <- 0 initialize for each scientist j\n",
    "        \n",
    "        for each article i:\n",
    "        \n",
    "            list <- sorted( [workload[j], j] for j in A[i] )\n",
    "            optimal_solution[i] <- list[:K]\n",
    "            \n",
    "            for each scientist j in optimal_solution[i]:\n",
    "                increase workload[j] by 1\n",
    "\n",
    "        objective_value = max(workload)\n",
    "```"
   ]
  },
  {
   "cell_type": "markdown",
   "metadata": {},
   "source": [
    "#### Source code"
   ]
  },
  {
   "cell_type": "code",
   "execution_count": 21,
   "metadata": {
    "id": "HssVTg8bWuKK"
   },
   "outputs": [],
   "source": [
    "def heuristics():\n",
    "    \"\"\"Minimize the maximal number of articles that a scientist can take on using heuristics.\n",
    "    \n",
    "    workload            workload[j] will maintains the number of articles that the scientist j is currently taking\n",
    "    optimal_solution    optimal_solution[i] maintains the scientists that is currenty taking the article i. After execution, it will be optimal\n",
    "    \"\"\"\n",
    "    global objective_value, optimal_solution\n",
    "    \n",
    "    if objective_value != \"INFEASIBLE\":\n",
    "        workload = [0]*M                                             # workload a scientist is currently taking, initially 0\n",
    "        optimal_solution = [[] for i in range(N)]\n",
    "        for i in range(N):                                           # for each article i\n",
    "            list = sorted([(workload[j - 1], j) for j in A[i]])      # sort all scientists who CAN take the artcile i in the order of inceasing currently-taking workload\n",
    "            optimal_solution[i] = [_[1] for _ in list[:K]]           # select in that list K scientists who is currently taking smallest workload\n",
    "            for j in optimal_solution[i]:                            # then increase the workload of\n",
    "                workload[j - 1] += 1                                 # each of these scientists by 1\n",
    "\n",
    "        objective_value = max(workload)"
   ]
  },
  {
   "cell_type": "markdown",
   "metadata": {
    "id": "7k6STf5ZWuKL"
   },
   "source": [
    "### Heuristics"
   ]
  },
  {
   "cell_type": "markdown",
   "metadata": {},
   "source": [
    "#### Algorithm description\n",
    "\n",
    "Claim: In the optimal solution, each article is taken by exactly $K$ scientists.\n",
    "So we create a 2-dimention array of size $N \\times 3$ to save a way of assigning where `solution[i]` is a list of ***indexes*** *of scientist in A[i]*.\n",
    "Example:\n",
    "```\n",
    "A = [[1, 2, 4, 6, 7],        solution = [[1, 2, 3],    ->   optimal_solution = [[1, 2, 4],  workload = [5,\n",
    "     [1, 2, 3, 4, 5, 7],                 [1, 2, 3],                             [1, 2, 3],              5,\n",
    "     [1, 2, 6, 7],                       [1, 2, 3],                             [1, 2, 6],              5,\n",
    "     [1, 2, 4, 5, 7],                    [1, 2, 3],                             [1, 2, 4],              5,\n",
    "     [1, 2, 3, 6, 7],                    [3, 4, 5],                             [3, 6, 7],              4,\n",
    "     [1, 3, 4, 5, 6],                    [2, 4, 5],                             [3, 5, 6],              4,\n",
    "     [1, 2, 6],                          [1, 2, 3],                             [1, 2, 6],              2]\n",
    "     [2, 4, 5, 7],                       [2, 3, 4],                             [4, 5, 7],\n",
    "     [1, 3, 4, 5],                       [2, 3, 4],                             [3, 4, 5],\n",
    "     [1, 2, 3, 4, 5]]                    [3, 4, 5]]                             [3, 4, 5]]\n",
    "```\n",
    "With an article `i`:\n",
    ">* Consider a $K$-subset of $A_i$ corresponding to a way of choosing $K$ scientists who can take on the article $i$. There are totally $C^{K}_{|A[i]|}$ subsets of that way.\n",
    ">> we assing the article $i$ to these $K$ scientists by saving that subset to `solution[i]`, and simultaneously increase `workload[j]` by $1$.\n",
    ">>\n",
    ">> Next, we move to considering the article $i + 1$. <br>\n",
    ">>> ...\n",
    ">>>> Ultimately, if the maximum of workload in this way of assignment is less than the smallest `objective_value` that has been recored so far.\n",
    ">* Roll back to considering another $K$-subset of $A_i$.\n",
    ">> ..."
   ]
  },
  {
   "cell_type": "markdown",
   "metadata": {},
   "source": [
    "#### Pseudo code\n",
    "\n",
    "```\n",
    "Backtracking:\n",
    "    initialize workload[j] <- 0 for each scientist j\n",
    "    \n",
    "    if the problem is feasible:\n",
    "        Try(1, 1)     i.e finding the 1st scientist to take the article 1\n",
    "        \n",
    "Try(i, t):\n",
    "    for each scientist j in A[i] that hasn't been assigned i yet:\n",
    "    \n",
    "        solution[i][t] <- j            i.e set him as the (t)th scientist who takes the article i\n",
    "        increase workload[j] by 1\n",
    "        \n",
    "        if i = N and t = K:\n",
    "            then Update\n",
    "        else if t < K:\n",
    "            Try(i, t + 1)              i.e find (t + 1)th scientist for the article i\n",
    "        else if i = N: \n",
    "            Try(i + 1, 1)              i.e move to the next article\n",
    "        \n",
    "        solution[i][t] <- NULL         i.e omit j in order to try other scientists\n",
    "        decrease workload[j] by 1\n",
    "        \n",
    "Update:\n",
    "    if max(workload) < objective_value:\n",
    "        objective_value <- max(workload)\n",
    "        optimal_solution <- solution\n",
    "```\n",
    "\n",
    "In addition, we can apply Branch and bound to discard unnecessary cases: At the beginning of each `for` loop:\n",
    "\n",
    "```\n",
    "for each scientist j in A[i] that hasn't been assigned i yet:\n",
    "       ...\n",
    "```\n",
    "\n",
    "we check `workload[j] + 1 < objective_value`. if `True`, we proceed. \n",
    "\n",
    "Why? Because `workload[j] + 1 < objective_value` returning `False` means the workload of the scientist `j` after taking on the article `i` will be larger than or equal to the optimal value, so even if we proceed, we will not achieve a better solution for sure."
   ]
  },
  {
   "cell_type": "markdown",
   "metadata": {},
   "source": [
    "#### Source code"
   ]
  },
  {
   "cell_type": "code",
   "execution_count": 22,
   "metadata": {
    "id": "Dnyv8Y6LWuKL"
   },
   "outputs": [],
   "source": [
    "def backtracking():\n",
    "    \"\"\"\n",
    "    Find the t th scientist for the article i.\n",
    "\n",
    "    index              the INDEX in A[i] of a scientist\n",
    "    available_range    the range in which index varies. This ensures eliminating repetition.\n",
    "    workload           workload[j] will maintains the number of articles that the scientist j is currently taking\n",
    "    solution           a Nx3 nested list maintaining a way of assignment. Note that ...[i][t] indicates INDEX in A[i], not the name of a scientist.\n",
    "    \"\"\"\n",
    "    solution = [[-1]*K for _ in range(N)]\n",
    "    workload = [0]*M\n",
    "    \n",
    "    def Try(i, t):\n",
    "        global objective_value\n",
    "        \n",
    "        available_range = range(solution[i][t - 1] + 1, len(A[i]) - K + t + 1)\n",
    "        for index in available_range:\n",
    "            if workload[A[i][index] - 1] + 1  < objective_value:    # branch and bound\n",
    "                solution[i][t] = index                              # choose a scientist in A[i]\n",
    "                workload[A[i][index] - 1] += 1                      # increase the workload of that scientist by 1\n",
    "                if i == N - 1 and t == K - 1: Update()              # if sufficient scientists are chosen, then Update\n",
    "                else:\n",
    "                    if t < K - 1: Try(i, t + 1)                     # find scientists for the article i until enough K are chosen\n",
    "                    else: Try(i + 1, 0)                             # then move to the next article\n",
    "                workload[A[i][index] - 1] -= 1                      # After completing Try with that scientist, abandons him\n",
    "                solution[i][t] = -1                                 # in order to try another candidate\n",
    "\n",
    "    def Update():\n",
    "        global objective_value, optimal_solution\n",
    "        if max(workload) < objective_value:                # if the maximal workload of the current solution is the minimal recorded\n",
    "            objective_value = max(workload)                # then we will save it\n",
    "            optimal_solution = [[A[i][j] for j in solution[i]] for i in range(N)]\n",
    "        \n",
    "    if objective_value != \"INFEASIBLE\":\n",
    "        Try(0, 0)"
   ]
  },
  {
   "cell_type": "markdown",
   "metadata": {
    "id": "OGtOcukvWuKN"
   },
   "source": [
    "### Another approach"
   ]
  },
  {
   "cell_type": "markdown",
   "metadata": {},
   "source": [
    "#### Mô tả thuật toán"
   ]
  },
  {
   "cell_type": "markdown",
   "metadata": {},
   "source": [
    "#### Mã giả"
   ]
  },
  {
   "cell_type": "markdown",
   "metadata": {},
   "source": [
    "#### Mã nguồn"
   ]
  },
  {
   "cell_type": "markdown",
   "metadata": {
    "id": "Mnbim5KNWuKN"
   },
   "source": [
    "Ideal: \n",
    "We aim to minimize the_max_the_article_taken_among_scientists\n",
    "So, I decided to reduce the max of the article till I can’t reduce it any more.\n",
    "It’s not mean that I can reduce the max to any value arbitrarily\n",
    "I decided to reduce the max to the predecessor(the number that has the value just only less than the max number. Ex:...)\n",
    "If after reduction, we can’t not reach the predecessor, so we find the solution…\n",
    "Else we continue reduce them :)))\n",
    "\n",
    "Another case: If we don’t have predecessor(ex: a sequence numbers have the same value) \n",
    "So, we reduce ‘slowly’: each value reduce only 1\n",
    "If after reduce, which value doesn’t change is our solution\n",
    "\n",
    "Cách này thủ công vl nhưng mà nó ra được kết quả tối ưu. Nên tôi nghĩ là từ những constraint tôi đưa #check = False, mọi người có thể dựa vào nó để mà Backtracking\n",
    "Constrain :\n",
    "K = the minimum scientist must take a article:\n",
    "The number of articles can’t not reduce over K\n",
    "After reduce there are the value can’t not reduce to the predecessor, stable(in case no predecessor) so solution is the max_value_after_reduce"
   ]
  },
  {
   "cell_type": "code",
   "execution_count": 23,
   "metadata": {
    "id": "51U0t1WyWuKO",
    "scrolled": false
   },
   "outputs": [],
   "source": [
    "def get_data(filename):\n",
    "    \"\"\"\n",
    "    Process user's input and generate data.\n",
    "    \n",
    "    N    number of articles\n",
    "    M    number of scientists\n",
    "    K    minimal number of scientists working on each article\n",
    "    L    matrix representation of data. L[i, j] = 1 means scientist j can take on article i\n",
    "    \"\"\"\n",
    "    infile = open(filename, 'r')\n",
    "    \n",
    "    N, M, K = [int(i) for i in infile.readline().split()]\n",
    "    \n",
    "    L = np.zeros((N+1,M+1), dtype = 'int')\n",
    "    # Create N+1 and M+1 so that get the numbers of scientist and article \n",
    "    # The additional collumn M+1 and row N+1 give me information of \n",
    "    # the number of scientist take an article and the number of article \n",
    "    # taken by a scientist in order by get the sum of each collumn and row\n",
    "\n",
    "    for i in range(1,N+1):\n",
    "        a = [int(k) for k in infile.readline().split()][1:]\n",
    "        for j in a:\n",
    "            L[i,j] = 1\n",
    "            L[0,j] += L[i,j]\n",
    "    for j in range(1,M+1):\n",
    "        for i in range(1,N+1):\n",
    "            L[i,0] += L[i,j]\n",
    "    return N, M, K, L\n",
    "\n",
    "'''\n",
    "an arrange function that we can 'easily' reduce the number of article\n",
    "among 'the_scientist_take_the_max_article'\n",
    "'''     \n",
    "def arrange(L):\n",
    "    L = L[L[:,0].argsort()]\n",
    "    L = L.T\n",
    "    L = L[L[:,0].argsort()]\n",
    "    L = L.T\n",
    "    return L\n",
    "def predecessor(L):\n",
    "    #find the predecessor of max(article taken by the scientist)\n",
    "    i = 0\n",
    "    while max(L) - L[len(L)-1-i] == 0 and i != len(L) :\n",
    "        i += 1\n",
    "    return [L[len(L)-1-i],i]\n",
    "\n",
    "'''\n",
    "    Stop condition for this algorithm:\n",
    "    - if all the number of scientists take an article = K(the minimum scientist need to take each article)\n",
    "    - if we can't reduce the_max_number of article taken by a scientist\n",
    "    any more OR the_max_number after reduce is not equal to the\n",
    "    predecessor(of max).\n",
    "    #Note\n",
    "        #trong qua trinh tru thi se co hang bang K.\n",
    "        #nhung nhung hang o duoi thi co hang > K\n",
    "        #tao dieu kien dung(tai mot hang) khi ma ta\n",
    "        #tru den gia tri toi thieu(o day la K) \n",
    "        => stopCDT()\n",
    "'''\n",
    "def stopCDT(L,K):\n",
    "    address = np.where(L[:,0][1:] == K)[0]\n",
    "    if address.size > 0:\n",
    "        return max(address)\n",
    "    else:\n",
    "        return 0\n",
    "def solver(L,N,M,K):\n",
    "    L = arrange(L)\n",
    "    global check\n",
    "    p = predecessor(L[0][1:])\n",
    "    t = 0  \n",
    "    i = 0\n",
    "    t1 = float('inf')\n",
    "    st = stopCDT(L, K) \n",
    "    if L[N,0] == K:\n",
    "        check = False    \n",
    "    else:\n",
    "        if p[0] != max(L[0]): #this sequence has predecessor\n",
    "            for j in range(p[1]): #interate till find the predecessor\n",
    "                while (L[0,M-j] != p[0]): #check when to stop reduce\n",
    "                    if N-i == st:\n",
    "                        break    \n",
    "                    if (L[N-i,0]!= K) :    \n",
    "                        if L[N-i,M-j] == 1:   \n",
    "                            L[N-i,M-j] = 0\n",
    "                            L[0,M-j] -= 1\n",
    "                            L[N-i,0] -= 1\n",
    "                            t += 1  #check if we can reduce the_max_article_taken by a scientist \n",
    "                                    #equal to predecessor\n",
    "                                    #if not, break and then solution = max(after reduce)\n",
    "                            if st != 0 and st != N:#update stop\n",
    "                                k = st \n",
    "                                while (L[k,0] == K) and k!=N: \n",
    "                                    k+=1\n",
    "                                st = k                            \n",
    "                    i += 1\n",
    "                if t1 > t:\n",
    "                    t1 = t\n",
    "                i = 0\n",
    "                t = 0\n",
    "            if t1 == 0:\n",
    "                check = False\n",
    "            elif (t1 < max(L[0]) - predecessor(L[0])[0]):\n",
    "                return L\n",
    "                check = False\n",
    "        else:   # this sequence has no predecessor\n",
    "            for j in range(p[1]):\n",
    "                while N-i != st:\n",
    "                    if L[N-i,0] != K:\n",
    "                        if L[N-i,M-j] == 1:   \n",
    "                            L[N-i,M-j] = 0\n",
    "                            L[0,M-j] -= 1\n",
    "                            L[N-i,0] -= 1\n",
    "                            t += 1\n",
    "                            if st != 0 and st != N:#update stop\n",
    "                                k = st \n",
    "                                while (L[k,0] == K) and k!=N: \n",
    "                                    k+=1\n",
    "                                st = k   \n",
    "                        break\n",
    "                    i += 1\n",
    "                if t1 > t:\n",
    "                    t1 = t\n",
    "                t = 0\n",
    "                i = 0\n",
    "            if t1 == 0:\n",
    "                return L\n",
    "                check = False\n",
    "    return L\n",
    "def printmt(L,N,M):\n",
    "    a = []\n",
    "    for i in range(1,N+1):\n",
    "        for j in range(1,M+1):\n",
    "            if L[i,j] != 0:\n",
    "                a.append(j)\n",
    "        print(a)\n",
    "        a = []\n",
    "\n",
    "check = True\n",
    "def main():\n",
    "    N, M, K, L = get_data(FILENAME)\n",
    "    start_time = time()\n",
    "    while check:\n",
    "        L = solver(L,N,M,K)\n",
    "    end_time = time()\n",
    "    print(end_time - start_time)\n",
    "    #print(L)\n",
    "    #printmt(L,N,M)\n",
    "    #print('solution is: ', max(L[0]))\n",
    "# main()"
   ]
  },
  {
   "cell_type": "markdown",
   "metadata": {
    "id": "GN5-IcO_WuKQ"
   },
   "source": [
    "## Chạy chương trình"
   ]
  },
  {
   "cell_type": "code",
   "execution_count": null,
   "metadata": {
    "id": "fFfIoKj6WuKR",
    "outputId": "91d2ca2d-e940-4242-981d-b0bd44eb9337",
    "scrolled": false
   },
   "outputs": [],
   "source": [
    "data_sizes = [(10, 7, 3), (50, 35, 15), (100, 70, 30), (500, 350, 150), (1000, 700, 300)]\n",
    "\n",
    "for (N, M, K) in data_sizes:\n",
    "    gen_data(N, M, K)\n",
    "\n",
    "    start_time = time()\n",
    "\n",
    "    A, L = input_from(FILENAME)\n",
    "    objective_value, optimal_solution = float('inf'), []\n",
    "    backtracking()\n",
    "\n",
    "    end_time = time()\n",
    "    print(end_time - start_time)\n",
    "\n",
    "    output()"
   ]
  },
  {
   "cell_type": "markdown",
   "metadata": {},
   "source": [
    "#### Thời gian chạy và Độ phức tạp\n",
    "\n",
    "\n",
    "Data|Size|MIP|Heuristics|Backtracking|4th approach\n",
    ":--|--:|--:|--:|--:|--:\n",
    "Complexity||Unknown|$O(N\\cdot M \\log{M})$|\n",
    "Data 1|10||0.00012\n",
    "Data 2|50||0.00073\n",
    "Data 3|100||0.01220\n",
    "Data 4|500||0.06282\n",
    "Data 5|1000||0.26164"
   ]
  },
  {
   "cell_type": "code",
   "execution_count": null,
   "metadata": {},
   "outputs": [],
   "source": []
  }
 ],
 "metadata": {
  "colab": {
   "name": "Mini project Optimization number 20.ipynb",
   "provenance": []
  },
  "kernelspec": {
   "display_name": "Python 3",
   "language": "python",
   "name": "python3"
  },
  "language_info": {
   "codemirror_mode": {
    "name": "ipython",
    "version": 3
   },
   "file_extension": ".py",
   "mimetype": "text/x-python",
   "name": "python",
   "nbconvert_exporter": "python",
   "pygments_lexer": "ipython3",
   "version": "3.8.5"
  }
 },
 "nbformat": 4,
 "nbformat_minor": 1
}
