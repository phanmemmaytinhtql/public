{
 "cells": [
  {
   "cell_type": "code",
   "execution_count": 79,
   "metadata": {},
   "outputs": [],
   "source": [
    "import numpy as np\n",
    "from ortools.linear_solver import pywraplp\n",
    "import random as rd\n",
    "\n",
    "FILENAME = \"/home/ubuntu/Downloads/data_samples_mini_projects/miniproject-20/data.txt\""
   ]
  },
  {
   "cell_type": "markdown",
   "metadata": {},
   "source": [
    "## Get data from user's input"
   ]
  },
  {
   "cell_type": "code",
   "execution_count": 80,
   "metadata": {},
   "outputs": [],
   "source": [
    "def get_data(filename):\n",
    "    \"\"\"\n",
    "    Process user's input and generate data.\n",
    "    \n",
    "    N    number of articles\n",
    "    M    number of scientists\n",
    "    K    minimal number of scientists working on each article\n",
    "    L    matrix representation of data. L[i, j] = 1 means scientist j can take on article i\n",
    "    \"\"\"\n",
    "    infile = open(filename, 'r')\n",
    "    \n",
    "    N, M, K = [int(i) for i in infile.readline().split()]\n",
    "    \n",
    "    A = []\n",
    "    L = np.zeros((N,M), dtype = 'int')\n",
    "    for i in range(N):\n",
    "        A.append(sorted([int(k) for k in infile.readline().split()[1:]]))\n",
    "        for j in A[i]:\n",
    "            L[i, j - 1] = 1\n",
    "    return N, M, K, A, L"
   ]
  },
  {
   "cell_type": "markdown",
   "metadata": {},
   "source": [
    "## Solve the problem with OR-tools"
   ]
  },
  {
   "cell_type": "code",
   "execution_count": 81,
   "metadata": {},
   "outputs": [],
   "source": [
    "def ortools():\n",
    "    \"\"\"Minimize the maximal number of articles that a scientist can take on and print the assignment.\"\"\"\n",
    "    \n",
    "    solver = pywraplp.Solver.CreateSolver('SCIP')\n",
    "    INF = solver.infinity()\n",
    "\n",
    "    X = np.array([[None]*M for _ in range(N)])\n",
    "    Y = solver.IntVar(-INF, INF, 'Y')\n",
    "\n",
    "    for i in range(N):\n",
    "        for j in range(M):\n",
    "            X[i, j] = solver.IntVar(0, int(L[i, j]), 'X[{}, {}]'.format(i, j))\n",
    "\n",
    "    for i in range(N):\n",
    "        solver.Add(K == sum(L[i, j]*X[i, j] for j in range(M)))\n",
    "\n",
    "    for j in range(M):\n",
    "        solver.Add(Y >= sum(L[i, j]*X[i, j] for i in range(N)))\n",
    "\n",
    "    solver.Minimize(Y)\n",
    "    status = solver.Solve()\n",
    "    \n",
    "\n",
    "    if status == pywraplp.Solver.OPTIMAL:\n",
    "        for i in range(N):\n",
    "            for j in range(M):\n",
    "                if X[i, j].solution_value() == 1:\n",
    "                    print(j + 1, end=' ')\n",
    "            print()\n",
    "    else:\n",
    "        print(\"No feasible solution\")"
   ]
  },
  {
   "cell_type": "markdown",
   "metadata": {},
   "source": [
    "## Solve the problem with Heuristics"
   ]
  },
  {
   "cell_type": "code",
   "execution_count": 82,
   "metadata": {},
   "outputs": [],
   "source": [
    "def heuristics():\n",
    "    L = [[] for i in range(N)]\n",
    "    for i in range(N):\n",
    "        for j in range(M):\n",
    "            if l[i,j] == 1:\n",
    "                L[i].append(j+1)\n",
    "\n",
    "\n",
    "    current = [[a + 1, 0] for a in range(M)]\n",
    "    X= [[]for i in range(N)]\n",
    "    for i in range(N):\n",
    "        list = []\n",
    "        d = 0\n",
    "        while len(list) < K:\n",
    "            for j in L[i]:\n",
    "                if current[j-1][1] == min([current[a-1][1] for a in L[i]]) + d:\n",
    "                    list.append(j)\n",
    "            d += 1\n",
    "        result = rd.sample(list,K)\n",
    "        X[i] = result\n",
    "        for j in result:\n",
    "            current[j - 1][1] += 1\n",
    "\n",
    "    for i in range(N):\n",
    "        X[i].sort()\n",
    "    for i in range(N):\n",
    "        for j in range(K):\n",
    "            print(X[i][j], end=' ')\n",
    "        print()"
   ]
  },
  {
   "cell_type": "markdown",
   "metadata": {},
   "source": [
    "## Solve the problem with Backtracking"
   ]
  },
  {
   "cell_type": "code",
   "execution_count": 83,
   "metadata": {},
   "outputs": [],
   "source": [
    "\n",
    "\n",
    "def backtracking():\n",
    "    \n",
    "    \n",
    "    def Try(i, t):\n",
    "        for sci_index_in_A in range(sci_index_in_A_taking[i][t - 1] + 1, len(A[i]) - K + t + 1):\n",
    "            print(\"Artical:\", i + 1, \"Index:\", sci_index_in_A + 1, \"of range\", sci_index_in_A_taking[i][t - 1] + 2, \"to\", len(A[i]) - K + t + 1)\n",
    "            sci_index_in_A_taking[i][t] = sci_index_in_A\n",
    "            queue.append((i, t, sci_index_in_A_taking[i]))\n",
    "            print(queue)\n",
    "            #print(A[i], sci_index_in_A)\n",
    "            number_taked[A[i][sci_index_in_A] - 1] += 1\n",
    "            #print(sci_index_in_A_taking)\n",
    "            if i == N - 1 and t == K - 1:\n",
    "                print(\"Updating\")\n",
    "                Update()\n",
    "            else:\n",
    "                if t < K - 1:\n",
    "                    Try(i, t + 1)\n",
    "                else:\n",
    "                    Try(i + 1, 0)\n",
    "            number_taked[A[i][sci_index_in_A] - 1] -= 1\n",
    "            queue.pop()\n",
    "                \n",
    "    def Update():\n",
    "        global obj_val, opt_sol\n",
    "        if max(number_taked) < obj_val:\n",
    "            obj_val = max(number_taked)\n",
    "            opt_sol = sci_index_in_A_taking[:][:]\n",
    "        #print(number_taked, [[A[i][j] for j in opt_sol[i]] for i in range(N)])\n",
    "        \n",
    "\n",
    "            \n",
    "    Try(0, 0)\n",
    "\n"
   ]
  },
  {
   "cell_type": "markdown",
   "metadata": {},
   "source": [
    "## Main function"
   ]
  },
  {
   "cell_type": "code",
   "execution_count": 84,
   "metadata": {},
   "outputs": [
    {
     "name": "stdout",
     "output_type": "stream",
     "text": [
      "Artical: 1 Index: 1 of range 1 to 1\n",
      "[(0, 0, [0, -1])]\n",
      "Artical: 1 Index: 2 of range 2 to 2\n",
      "[(0, 0, [0, 1]), (0, 1, [0, 1])]\n",
      "Artical: 2 Index: 1 of range 1 to 2\n",
      "[(0, 0, [0, 1]), (0, 1, [0, 1]), (1, 0, [0, -1])]\n",
      "Artical: 2 Index: 2 of range 2 to 3\n",
      "[(0, 0, [0, 1]), (0, 1, [0, 1]), (1, 0, [0, 1]), (1, 1, [0, 1])]\n",
      "Artical: 3 Index: 1 of range 1 to 1\n",
      "[(0, 0, [0, 1]), (0, 1, [0, 1]), (1, 0, [0, 1]), (1, 1, [0, 1]), (2, 0, [0, -1])]\n",
      "Artical: 3 Index: 2 of range 2 to 2\n",
      "[(0, 0, [0, 1]), (0, 1, [0, 1]), (1, 0, [0, 1]), (1, 1, [0, 1]), (2, 0, [0, 1]), (2, 1, [0, 1])]\n",
      "Updating\n",
      "Artical: 2 Index: 3 of range 2 to 3\n",
      "[(0, 0, [0, 1]), (0, 1, [0, 1]), (1, 0, [0, 2]), (1, 1, [0, 2])]\n",
      "Artical: 2 Index: 2 of range 4 to 2\n",
      "[(0, 0, [0, 1]), (0, 1, [0, 1]), (1, 0, [1, 2])]\n",
      "Artical: 2 Index: 3 of range 3 to 3\n",
      "[(0, 0, [0, 1]), (0, 1, [0, 1]), (1, 0, [1, 2]), (1, 1, [1, 2])]\n",
      "3 [[1, 3], [2, 3], [1, 2]]\n"
     ]
    }
   ],
   "source": [
    "N, M, K, A, L = get_data(FILENAME)\n",
    "\n",
    "print(L)\n",
    "\n",
    "obj_val, opt_sol = float('inf'), None\n",
    "sci_index_in_A_taking = [[-1]*K for _ in range(N)]\n",
    "number_taked = [0]*M\n",
    "queue = []\n",
    "\n",
    "backtracking()\n",
    "final_sol = [[A[i][j] for j in opt_sol[i]] for i in range(N)]\n",
    "print(obj_val, final_sol, end='\\n')\n",
    "        \n"
   ]
  },
  {
   "cell_type": "code",
   "execution_count": null,
   "metadata": {},
   "outputs": [],
   "source": []
  }
 ],
 "metadata": {
  "kernelspec": {
   "display_name": "Python 3",
   "language": "python",
   "name": "python3"
  },
  "language_info": {
   "codemirror_mode": {
    "name": "ipython",
    "version": 3
   },
   "file_extension": ".py",
   "mimetype": "text/x-python",
   "name": "python",
   "nbconvert_exporter": "python",
   "pygments_lexer": "ipython3",
   "version": "3.8.5"
  }
 },
 "nbformat": 4,
 "nbformat_minor": 4
}
