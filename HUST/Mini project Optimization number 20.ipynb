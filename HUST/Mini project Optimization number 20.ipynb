{
 "cells": [
  {
   "cell_type": "code",
   "execution_count": 1,
   "metadata": {
    "id": "KwDVVrLzWuJ2"
   },
   "outputs": [],
   "source": [
    "import numpy as np\n",
    "from ortools.linear_solver import pywraplp\n",
    "import random as rd\n",
    "\n",
    "FILENAME = \"/home/ubuntu/Downloads/data_samples_mini_projects/miniproject-20/data.txt\""
   ]
  },
  {
   "cell_type": "markdown",
   "metadata": {
    "id": "jGuOOp1HWuKD"
   },
   "source": [
    "## I/O functions"
   ]
  },
  {
   "cell_type": "code",
   "execution_count": 2,
   "metadata": {
    "id": "JQqAOGzpWuKF"
   },
   "outputs": [],
   "source": [
    "def input_from(filename):\n",
    "    \"\"\"\n",
    "    Process user's input data.\n",
    "    \n",
    "    N    number of articles\n",
    "    M    number of scientists\n",
    "    K    minimal number of scientists working on each article\n",
    "    A    nested list where A[i] maintains list of scientists that CAN take on the article i\n",
    "    L    binary matrix representation of A. L[i, j] = 1 indicates that the scientist j CAN take on the article i\n",
    "    \"\"\"\n",
    "    infile = open(filename, 'r')\n",
    "    \n",
    "    N, M, K = [int(i) for i in infile.readline().split()]\n",
    "    \n",
    "    A = []\n",
    "    L = np.zeros((N,M), dtype = 'int')\n",
    "    for i in range(N):\n",
    "        A.append(sorted([int(k) for k in infile.readline().split()[1:]]))\n",
    "        for j in A[i]:\n",
    "            L[i, j - 1] = 1\n",
    "    return N, M, K, A, L\n",
    "\n",
    "def output():\n",
    "    \"\"\"\n",
    "    Print the solution for the problem.\n",
    "    \n",
    "    objective_value    the minimized value of the maximal load.\n",
    "    optimal_solution   a way of assignment to gain objective value\n",
    "    \"\"\"\n",
    "    print(objective_value, end='')\n",
    "    if objective_value != \"INFEASIBLE\":\n",
    "        for i in range(N):\n",
    "            print()\n",
    "            for j in range(K):\n",
    "                print(optimal_solution[i][j], end=' ')"
   ]
  },
  {
   "cell_type": "markdown",
   "metadata": {
    "id": "hhWN__kKWuKG"
   },
   "source": [
    "## Solve the problem with OR-tools"
   ]
  },
  {
   "cell_type": "code",
   "execution_count": 3,
   "metadata": {
    "id": "jD9NmCpLWuKH"
   },
   "outputs": [],
   "source": [
    "def ortools():\n",
    "    \"\"\"Minimize the maximal number of articles that a scientist can take on using OR-tools.\n",
    "    \n",
    "    solver   solver using Mixed-Integer Programmin with SCIP\n",
    "    X        binary matrix representation of a solution. X[i, j] = 1 indicates that the scientist j TAKES the articles i\n",
    "    Y        variable mataining the objective function of the SCIP solver    \n",
    "    \"\"\"\n",
    "    global objective_value, optimal_solution\n",
    "    \n",
    "    solver = pywraplp.Solver.CreateSolver('SCIP')\n",
    "    \n",
    "    INF = solver.infinity()\n",
    "\n",
    "    X = np.array([[None]*M for i in range(N)])\n",
    "    Y = solver.IntVar(-INF, INF, 'Y')\n",
    "\n",
    "    for i in range(N):\n",
    "        for j in range(M):\n",
    "            X[i, j] = solver.IntVar(0, int(L[i, j]), 'X[{}, {}]'.format(i, j))\n",
    "\n",
    "    for i in range(N):\n",
    "        solver.Add(K == sum(L[i, j]*X[i, j] for j in range(M)))\n",
    "        \n",
    "    for j in range(M):\n",
    "        solver.Add(Y >= sum(L[i, j]*X[i, j] for i in range(N)))\n",
    "\n",
    "    solver.Minimize(Y)\n",
    "    status = solver.Solve()\n",
    "    \n",
    "    if status == pywraplp.Solver.OPTIMAL:\n",
    "        objective_value = solver.Objective().Value()\n",
    "        optimal_solution = [[j + 1 for j in range(M) if X[i, j].solution_value() == 1] for i in range(N)]\n",
    "    else:\n",
    "        objective_value = \"INFEASIBLE\""
   ]
  },
  {
   "cell_type": "markdown",
   "metadata": {
    "id": "CGxHY4EaWuKJ"
   },
   "source": [
    "## Solve the problem with Heuristics"
   ]
  },
  {
   "cell_type": "code",
   "execution_count": 4,
   "metadata": {
    "id": "HssVTg8bWuKK"
   },
   "outputs": [],
   "source": [
    "def heuristics():\n",
    "    N, M, K, A, L= get_data(FILENAME)\n",
    "\n",
    "    current = [0]*M\n",
    "    X = [[]for i in range(N)]\n",
    "    for i in range(N):\n",
    "        list = []\n",
    "        d = 0\n",
    "        while len(list) < K:\n",
    "            for j in A[i]:\n",
    "                if current[j-1] == min([current[a-1] for a in A[i]]) + d:\n",
    "                    list.append(j)\n",
    "            d += 1\n",
    "        result = rd.sample(list,K)\n",
    "        X[i] = result\n",
    "        for j in result:\n",
    "            current[j - 1] += 1\n",
    " \n",
    "    for i in range(N):\n",
    "        X[i].sort()\n",
    "    for i in range(N):\n",
    "        for j in range(K):\n",
    "            print(X[i][j], end=' ')\n",
    "        print()\n"
   ]
  },
  {
   "cell_type": "markdown",
   "metadata": {
    "id": "7k6STf5ZWuKL"
   },
   "source": [
    "## Solve the problem with Backtracking"
   ]
  },
  {
   "cell_type": "code",
   "execution_count": 5,
   "metadata": {
    "id": "Dnyv8Y6LWuKL"
   },
   "outputs": [],
   "source": [
    "def backtracking():\n",
    "    solution = [[-1]*K for _ in range(N)]\n",
    "    workload = [0]*M\n",
    "    \n",
    "    def Try(i, t):\n",
    "        \"\"\"\n",
    "        Find the t th scientist for the article i.\n",
    "        \n",
    "        index              the INDEX in A[i] of a scientist\n",
    "        available_range    the range in which index varies. This ensures eliminating repetition.\n",
    "        solution           a Nx3 nested list maintaining a way of assignment. Note that ...[i][t] indicates INDEX in A[i], not the name of a scientist.\n",
    "        \"\"\"\n",
    "        global objective_value\n",
    "        \n",
    "        available_range = range(solution[i][t - 1] + 1, len(A[i]) - K + t + 1)\n",
    "        if len(available_range) == 0:                          # if there is an article that has less than K scientists can take on\n",
    "            objective_value = \"INFEASIBLE\"                     # the problem is infeasible\n",
    "        else:\n",
    "            for index in available_range:\n",
    "                if objective_value != \"INFEASIBLE\" and workload[A[i][index] - 1] + 1  < objective_value:    # branch and cut\n",
    "                    solution[i][t] = index                     # choose a scientist in A[i]\n",
    "                    workload[A[i][index] - 1] += 1             # increase the workload of that scientist by 1\n",
    "                    if i == N - 1 and t == K - 1: Update()     # if sufficient scientists are chosen, then Update\n",
    "                    else:\n",
    "                        if t < K - 1: Try(i, t + 1)            # find scientists for the article i until enough K are chosen\n",
    "                        else: Try(i + 1, 0)                    # then move to the next article\n",
    "                    workload[A[i][index] - 1] -= 1             # After completing Try with that scientist, abandons him\n",
    "                    solution[i][t] = -1                        # in order to try another candidate\n",
    "\n",
    "    def Update():\n",
    "        global objective_value, optimal_solution\n",
    "        if max(workload) < objective_value:\n",
    "            objective_value = max(workload)\n",
    "            optimal_solution = [[A[i][j] for j in solution[i]] for i in range(N)]\n",
    "        \n",
    "    Try(0, 0)"
   ]
  },
  {
   "cell_type": "markdown",
   "metadata": {
    "id": "OGtOcukvWuKN"
   },
   "source": [
    "# Another approach"
   ]
  },
  {
   "cell_type": "markdown",
   "metadata": {
    "id": "Mnbim5KNWuKN"
   },
   "source": [
    "Ideal: \n",
    "We aim to minimize the_max_the_article_taken_among_scientists\n",
    "So, I decided to reduce the max of the article till I can’t reduce it any more.\n",
    "It’s not mean that I can reduce the max to any value arbitrarily\n",
    "I decided to reduce the max to the predecessor(the number that has the value just only less than the max number. Ex:...)\n",
    "If after reduction, we can’t not reach the predecessor, so we find the solution…\n",
    "Else we continue reduce them :)))\n",
    "\n",
    "Another case: If we don’t have predecessor(ex: a sequence numbers have the same value) \n",
    "So, we reduce ‘slowly’: each value reduce only 1\n",
    "If after reduce, which value doesn’t change is our solution\n",
    "\n",
    "Cách này thủ công vl nhưng mà nó ra được kết quả tối ưu. Nên tôi nghĩ là từ những constraint tôi đưa #check = False, mọi người có thể dựa vào nó để mà Backtracking\n",
    "Constrain :\n",
    "K = the minimum scientist must take a article:\n",
    "The number of articles can’t not reduce over K\n",
    "After reduce there are the value can’t not reduce to the predecessor, stable(in case no predecessor) so solution is the max_value_after_reduce"
   ]
  },
  {
   "cell_type": "code",
   "execution_count": 6,
   "metadata": {
    "id": "51U0t1WyWuKO"
   },
   "outputs": [],
   "source": [
    "'''\n",
    "an arrange function that we can 'easily' reduce the number of article\n",
    "among 'the_scientist_take_the_max_article'\n",
    "'''     \n",
    "def arrange(L):\n",
    "    L = L[L[:,0].argsort()]\n",
    "    L = L.T\n",
    "    L = L[L[:,0].argsort()]\n",
    "    L = L.T\n",
    "    return L\n",
    "\n",
    "#find the predecessor of max(article taken by the scientist)\n",
    "def predecessor(L):\n",
    "    i = 0\n",
    "    while max(L) - L[len(L)-1-i] == 0 and i!=len(L) :\n",
    "        i += 1\n",
    "    return [L[len(L)-1-i],i]\n",
    "\n",
    "'''\n",
    "    Stop condition for this algorithm:\n",
    "    - if all the number of scientists take an article = K(the minimum scientist need to take each article)\n",
    "    - if we can't reduce the_max_number of article taken by a scientist\n",
    "    any more OR the_max_number after reduce is not equal to the\n",
    "    predecessor(of max).\n",
    "    #Note\n",
    "        #trong qua trinh tru thi se co hang bang K.\n",
    "        #nhung nhung hang o duoi thi co hang > K\n",
    "        #tao dieu kien dung(tai mot hang) khi ma ta\n",
    "        #tru den gia tri toi thieu(o day la K)\n",
    "'''\n",
    "def stopCDT(L,K):\n",
    "    return max(np.where(L[:,0] == K)[0])\n",
    "'''\n",
    "#boi vi cai phan cong tru nay toi thay no ton nhieu dien tich nen dinh dat\n",
    "#no vao trong mot cai ham. Tuy nhien toi so no khong tra ve cac tham so\n",
    "def congtru(L,N,M,K,i,j):\n",
    "    global t ,st\n",
    "    t = 0\n",
    "    st = stopCDT(L, K)\n",
    "    if L[N-i,M-j] == 1:   \n",
    "        L[N-i,M-j] = 0\n",
    "        L[0,M-j] -= 1\n",
    "        L[N-i,0] -= 1\n",
    "        t += 1 #check if we can reduce the_max_article_taken by a scientist \n",
    "                #equal to predecessor\n",
    "                #if not, break and then solution = max(after reduce)\n",
    "        k = st #update stop\n",
    "        while L[0,k] == k: \n",
    "            k+=1\n",
    "            st = k \n",
    "'''\n",
    "def solver(L,N,M,K):\n",
    "    L = arrange(L)\n",
    "    global check\n",
    "    p = predecessor(L[0][1:])\n",
    "    t = 0  \n",
    "    i = 0\n",
    "    st = stopCDT(L, K) \n",
    "    if L[N,0] == K:\n",
    "        check = False    \n",
    "    else:\n",
    "        if p[0] != max(L[0]): #this sequence has predecessor\n",
    "            t1 = 0\n",
    "            for j in range(p[1]): #interate till find the predecessor\n",
    "                while (L[0,M-j] != p[0]): #check when to stop reduce\n",
    "                    if N-i == st:\n",
    "                        break    \n",
    "                    if (L[N-i,0]!= K) :    \n",
    "                        if L[N-i,M-j] == 1:   \n",
    "                                L[N-i,M-j] = 0\n",
    "                                L[0,M-j] -= 1\n",
    "                                L[N-i,0] -= 1\n",
    "                                t += 1 #check if we can reduce the_max_article_taken by a scientist \n",
    "                                       #equal to predecessor\n",
    "                                       #if not, break and then solution = max(after reduce)\n",
    "                                k = st #update stop\n",
    "                                while L[0,k] == K: \n",
    "                                    k+=1\n",
    "                                st = k            \n",
    "                    i += 1\n",
    "                if t1 <= t:\n",
    "                    t1 = t\n",
    "                i = 0\n",
    "                t = 0\n",
    "            if t1 < max(L[0]) - predecessor(L[0])[0]:\n",
    "                return L\n",
    "                check = False\n",
    "        else:   # this sequence has no predecessor\n",
    "            t1 = float('inf')\n",
    "            for j in range(p[1]):\n",
    "                while N-i != st:\n",
    "                    if L[N-i,0] != 3:\n",
    "                        if L[N-i,M-j] == 1:\n",
    "                            L[N-i,M-j] = 0\n",
    "                            L[0,M-j] -= 1\n",
    "                            L[N-i,0] -= 1\n",
    "                            t += 1\n",
    "                            k = st #update stop\n",
    "                            while L[0,k] == K: \n",
    "                                k+=1\n",
    "                            st = k  \n",
    "                        break\n",
    "                    i += 1\n",
    "                if t1 > t:\n",
    "                    t1 = t\n",
    "                t = 0\n",
    "                i = 0\n",
    "            if t1 == 0:\n",
    "                return L\n",
    "                check = False\n",
    "    return L\n",
    "\n",
    "def printmt(L,N,M):\n",
    "    a = []\n",
    "    for i in range(1,N+1):\n",
    "        for j in range(1,M+1):\n",
    "            if L[i,j] != 0:\n",
    "                a.append(j)\n",
    "        print(a)\n",
    "        a = []\n",
    "\n",
    "check = True\n",
    "\n",
    "def main_f():\n",
    "    N, M, K, A, L = get_data(FILENAME) \n",
    "    while check:\n",
    "        L = solver(L,N,M,K)\n",
    "    print(L)\n",
    "    printmt(L,N,M)\n",
    "    print('solution is: ', max(L[0]))"
   ]
  },
  {
   "cell_type": "markdown",
   "metadata": {
    "id": "GN5-IcO_WuKQ"
   },
   "source": [
    "## Execute the solver"
   ]
  },
  {
   "cell_type": "code",
   "execution_count": 8,
   "metadata": {
    "id": "fFfIoKj6WuKR",
    "outputId": "91d2ca2d-e940-4242-981d-b0bd44eb9337",
    "scrolled": false
   },
   "outputs": [
    {
     "name": "stdout",
     "output_type": "stream",
     "text": [
      "5\n",
      "1 2 4 \n",
      "1 2 3 \n",
      "1 2 6 \n",
      "1 2 4 \n",
      "3 6 7 \n",
      "3 5 6 \n",
      "1 2 6 \n",
      "4 5 7 \n",
      "3 4 5 \n",
      "3 4 5 "
     ]
    }
   ],
   "source": [
    "N, M, K, A, L = input_from(FILENAME)\n",
    "objective_value, optimal_solution = float('inf'), []\n",
    "\n",
    "backtracking()\n",
    "\n",
    "output()"
   ]
  },
  {
   "cell_type": "code",
   "execution_count": null,
   "metadata": {
    "id": "1B2pZ6OnWuKT"
   },
   "outputs": [],
   "source": []
  }
 ],
 "metadata": {
  "colab": {
   "name": "Mini project Optimization number 20.ipynb",
   "provenance": []
  },
  "kernelspec": {
   "display_name": "Python 3",
   "language": "python",
   "name": "python3"
  },
  "language_info": {
   "codemirror_mode": {
    "name": "ipython",
    "version": 3
   },
   "file_extension": ".py",
   "mimetype": "text/x-python",
   "name": "python",
   "nbconvert_exporter": "python",
   "pygments_lexer": "ipython3",
   "version": "3.8.5"
  }
 },
 "nbformat": 4,
 "nbformat_minor": 1
}
