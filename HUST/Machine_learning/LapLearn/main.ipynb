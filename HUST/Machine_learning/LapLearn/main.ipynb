{
 "cells": [
  {
   "cell_type": "code",
   "execution_count": 1,
   "metadata": {
    "collapsed": true
   },
   "outputs": [],
   "source": [
    "from random import randrange\n",
    "from sklearn.model_selection import train_test_split, KFold\n",
    "from metrics.metrics import *\n",
    "from neighbors.kneighbors import *\n",
    "from linear_model.linear_model import *"
   ]
  },
  {
   "cell_type": "code",
   "execution_count": 3,
   "outputs": [
    {
     "name": "stdout",
     "output_type": "stream",
     "text": [
      "3\n"
     ]
    }
   ],
   "source": [
    "df = pd.read_csv(\"datasets/melb_data.csv\")\n",
    "features = ['Rooms', 'Bathroom', 'Landsize', 'Lattitude', 'Longtitude']\n",
    "target = \"Price\""
   ],
   "metadata": {
    "collapsed": false,
    "pycharm": {
     "name": "#%%\n"
    }
   }
  },
  {
   "cell_type": "code",
   "execution_count": 2,
   "outputs": [],
   "source": [
    "df = pd.read_csv(\"datasets/healthcare-dataset-stroke-data.csv\", index_col=\"id\")\n",
    "features = ['gender','age','hypertension','heart_disease','ever_married','work_type','Residence_type','avg_glucose_level','bmi','smoking_status']\n",
    "target = 'stroke'"
   ],
   "metadata": {
    "collapsed": false,
    "pycharm": {
     "name": "#%%\n"
    }
   }
  },
  {
   "cell_type": "code",
   "execution_count": 14,
   "outputs": [],
   "source": [
    "df = pd.read_csv(\"datasets/iris.csv\")\n",
    "features = ['A', 'B', 'C', 'D']\n",
    "target = 'Type'"
   ],
   "metadata": {
    "collapsed": false,
    "pycharm": {
     "name": "#%%\n"
    }
   }
  },
  {
   "cell_type": "code",
   "execution_count": 2,
   "outputs": [],
   "source": [
    "df = pd.read_csv(\"datasets/melb_data.csv\")\n",
    "features = ['Rooms', 'Bathroom', 'Landsize', 'Lattitude', 'Longtitude']\n",
    "target = \"Price\""
   ],
   "metadata": {
    "collapsed": false,
    "pycharm": {
     "name": "#%%\n"
    }
   }
  },
  {
   "cell_type": "code",
   "execution_count": 15,
   "outputs": [],
   "source": [
    "# Split dataset into train_set and test_set\n",
    "train_set, test_set = train_test_split(df, random_state = 1)"
   ],
   "metadata": {
    "collapsed": false,
    "pycharm": {
     "name": "#%%\n"
    }
   }
  },
  {
   "cell_type": "code",
   "execution_count": 16,
   "outputs": [],
   "source": [
    "y_true = test_set[target]\n",
    "# print(\"Y_TRUE =\\n\", y_true.head(10))"
   ],
   "metadata": {
    "collapsed": false,
    "pycharm": {
     "name": "#%%\n"
    }
   }
  },
  {
   "cell_type": "code",
   "execution_count": 4,
   "outputs": [
    {
     "name": "stdout",
     "output_type": "stream",
     "text": [
      "PREDICTING WITH LINEAR REGRESSION MODEL\n"
     ]
    }
   ],
   "source": [
    "print(\"LINEAR REGRESSION MODEL SELECTED\")\n",
    "model = LinearRegression()"
   ],
   "metadata": {
    "collapsed": false,
    "pycharm": {
     "name": "#%%\n"
    }
   }
  },
  {
   "cell_type": "code",
   "execution_count": 17,
   "outputs": [
    {
     "name": "stdout",
     "output_type": "stream",
     "text": [
      "LOGISTIC REGRESSION MODEL SELECTED\n"
     ]
    }
   ],
   "source": [
    "print(\"LOGISTIC REGRESSION MODEL SELECTED\")\n",
    "model = LogisticRegression()"
   ],
   "metadata": {
    "collapsed": false,
    "pycharm": {
     "name": "#%%\n"
    }
   }
  },
  {
   "cell_type": "code",
   "execution_count": 11,
   "outputs": [
    {
     "name": "stdout",
     "output_type": "stream",
     "text": [
      "PREDICTING WITH KNN MODEL\n"
     ]
    }
   ],
   "source": [
    "print(\"KNN MODEL SELECTED\")\n",
    "model = KNeighborsRegressor(5)"
   ],
   "metadata": {
    "collapsed": false,
    "pycharm": {
     "name": "#%%\n"
    }
   }
  },
  {
   "cell_type": "code",
   "execution_count": 18,
   "outputs": [
    {
     "name": "stderr",
     "output_type": "stream",
     "text": [
      "/home/ubuntu/.local/lib/python3.8/site-packages/numpy/lib/function_base.py:2197: RuntimeWarning: divide by zero encountered in log2\n",
      "  outputs = ufunc(*inputs)\n",
      "/home/ubuntu/WorkingSpace/public/HUST/Machine_learning/LapLearn/linear_model/linear_model.py:46: RuntimeWarning: invalid value encountered in double_scalars\n",
      "  while len(cost_hist) < 20 or abs(cost_hist[-1] - cost_hist[-20]) > 5e-2:\n"
     ]
    },
    {
     "data": {
      "text/plain": "<Figure size 432x288 with 1 Axes>",
      "image/png": "[encoded data removed]"
     },
     "metadata": {
      "needs_background": "light"
     },
     "output_type": "display_data"
    },
    {
     "name": "stdout",
     "output_type": "stream",
     "text": [
      "> COMPUTING theta AFTER 84 ITERATIONS\n",
      "Y_PRED =\n",
      " 14      Iris-virginica\n",
      "98      Iris-virginica\n",
      "75      Iris-virginica\n",
      "16      Iris-virginica\n",
      "131     Iris-virginica\n",
      "56     Iris-versicolor\n",
      "141     Iris-virginica\n",
      "44      Iris-virginica\n",
      "29      Iris-virginica\n",
      "120     Iris-virginica\n",
      "94     Iris-versicolor\n",
      "5       Iris-virginica\n",
      "102     Iris-virginica\n",
      "51      Iris-virginica\n",
      "78      Iris-virginica\n",
      "42      Iris-virginica\n",
      "92      Iris-virginica\n",
      "66      Iris-virginica\n",
      "31      Iris-virginica\n",
      "35      Iris-virginica\n",
      "90      Iris-virginica\n",
      "84      Iris-virginica\n",
      "77      Iris-virginica\n",
      "40      Iris-virginica\n",
      "125     Iris-virginica\n",
      "99     Iris-versicolor\n",
      "33      Iris-virginica\n",
      "19      Iris-virginica\n",
      "73      Iris-virginica\n",
      "146    Iris-versicolor\n",
      "91      Iris-virginica\n",
      "135     Iris-virginica\n",
      "69      Iris-virginica\n",
      "128     Iris-virginica\n",
      "114     Iris-virginica\n",
      "48      Iris-virginica\n",
      "53      Iris-virginica\n",
      "28      Iris-virginica\n",
      "dtype: object\n"
     ]
    }
   ],
   "source": [
    "model.fit(train_set, features, target)\n",
    "y_pred = model.predict(test_set[features])"
   ],
   "metadata": {
    "collapsed": false,
    "pycharm": {
     "name": "#%%\n"
    }
   }
  },
  {
   "cell_type": "code",
   "execution_count": 11,
   "outputs": [
    {
     "name": "stdout",
     "output_type": "stream",
     "text": [
      "id\n",
      "60899    0\n",
      "47776    0\n",
      "56075    0\n",
      "59894    0\n",
      "71057    0\n",
      "12204    0\n",
      "23221    0\n",
      "52688    0\n",
      "56734    0\n",
      "50826    0\n",
      "Name: stroke, dtype: int64\n",
      "id\n",
      "60899    0\n",
      "47776    0\n",
      "56075    0\n",
      "59894    0\n",
      "71057    0\n",
      "        ..\n",
      "11605    0\n",
      "46130    0\n",
      "2244     0\n",
      "841      0\n",
      "31608    0\n",
      "Length: 99, dtype: int64\n"
     ]
    }
   ],
   "source": [
    "print(y_true.head(10))\n",
    "print(y_pred)"
   ],
   "metadata": {
    "collapsed": false,
    "pycharm": {
     "name": "#%%\n"
    }
   }
  },
  {
   "cell_type": "code",
   "execution_count": 11,
   "outputs": [
    {
     "name": "stdout",
     "output_type": "stream",
     "text": [
      "0.0\n"
     ]
    }
   ],
   "source": [
    "print(mean_absolute_error(y_true, y_pred))"
   ],
   "metadata": {
    "collapsed": false,
    "pycharm": {
     "name": "#%%\n"
    }
   }
  },
  {
   "cell_type": "code",
   "execution_count": 19,
   "outputs": [
    {
     "name": "stdout",
     "output_type": "stream",
     "text": [
      "0.2631578947368421\n"
     ]
    }
   ],
   "source": [
    "print(accuracy_score(y_true, y_pred))"
   ],
   "metadata": {
    "collapsed": false,
    "pycharm": {
     "name": "#%%\n"
    }
   }
  },
  {
   "cell_type": "code",
   "execution_count": null,
   "outputs": [],
   "source": [
    "# RESULT: MELBOURNE DATA\n",
    "# Y_INDEX =     Y_TRUE          GRAD(alpha = 0.3)       NORM_EQ             KNN(k = 5)\n",
    "#  321          1640000         1.595685e+06            1.595685e+06        1318160\n",
    "# 4003          675000          1.258827e+06            1.258827e+06        913696\n",
    "# 13348         2800000         1.328519e+06            1.328519e+06        2061178\n",
    "# 2697          615000          7.707764e+05            7.707764e+05        726652\n",
    "# 12600         2700000         1.442426e+06            1.442426e+06        1967970\n",
    "# 479           411000          7.119605e+05            7.119605e+05        621454\n",
    "# 8339          630000          1.307020e+06            1.307020e+06        718966\n",
    "# 11128         1440000         1.566784e+06            1.566784e+06        1181499\n",
    "# 5518          887000          7.875797e+05            7.875797e+05        923563\n",
    "# 12093         1640000         1.408225e+06            1.408225e+06        1333999\n",
    "#\n",
    "# MAE           0               1457.7122125593455      1457.7121782159224  896.4727540500736\n",
    "\n",
    "\n",
    "\n",
    "\n",
    "\n"
   ],
   "metadata": {
    "collapsed": false,
    "pycharm": {
     "name": "#%%\n"
    }
   }
  },
  {
   "cell_type": "code",
   "execution_count": null,
   "outputs": [],
   "source": [
    "# def get_as(nei_num, train_set, features, target):\n",
    "#     kf = KFold(5)\n",
    "#     accuracy_sum = 0\n",
    "#     for train_index, val_index in kf.split(train_set):\n",
    "#         print(train_set[train_index])\n",
    "#         model = KNeighborsClassifier(nei_num)\n",
    "#         model.fit(train_set[train_index], features, target)\n",
    "#         y_true = train_set[val_index, target].replace(model._look_up)\n",
    "#         y_pred = model.predict(train_set[val_index, features])\n",
    "#         accuracy_sum += accuracy_score(y_true, y_pred)\n",
    "#     return accuracy_sum/5\n",
    "\n",
    "# ass = {nei_num: get_as(nei_num, train_set, features, target) for nei_num in np.arange(3, 21, 2)}\n",
    "#\n",
    "# best_k = max(ass, key=ass.get)"
   ],
   "metadata": {
    "collapsed": false,
    "pycharm": {
     "name": "#%%\n"
    }
   }
  }
 ],
 "metadata": {
  "kernelspec": {
   "display_name": "Python 3",
   "language": "python",
   "name": "python3"
  },
  "language_info": {
   "codemirror_mode": {
    "name": "ipython",
    "version": 2
   },
   "file_extension": ".py",
   "mimetype": "text/x-python",
   "name": "python",
   "nbconvert_exporter": "python",
   "pygments_lexer": "ipython2",
   "version": "2.7.6"
  }
 },
 "nbformat": 4,
 "nbformat_minor": 0
}