{
  "nbformat": 4,
  "nbformat_minor": 0,
  "metadata": {
    "colab": {
      "name": "Draft.ipynb",
      "provenance": [],
      "collapsed_sections": [
        "C5JSx5iLllRG",
        "hCkHK_ElmOCy",
        "Sa0LFdxs_WuH",
        "RZQWrYFh-aIc",
        "6G_gL0vdmDp2",
        "4jcYgCNa-Sb3"
      ]
    },
    "kernelspec": {
      "name": "python3",
      "display_name": "Python 3"
    }
  },
  "cells": [
    {
      "cell_type": "markdown",
      "metadata": {
        "id": "C5JSx5iLllRG"
      },
      "source": [
        "# Optimizations (Draft)"
      ]
    },
    {
      "cell_type": "markdown",
      "metadata": {
        "id": "HvN9l8IamJSY"
      },
      "source": [
        "## OR-tools"
      ]
    },
    {
      "cell_type": "markdown",
      "metadata": {
        "id": "XLKxxwApLtMw"
      },
      "source": [
        "https://developers.google.com/optimization/introduction/python"
      ]
    },
    {
      "cell_type": "code",
      "metadata": {
        "id": "Ve21LKhEL-nX",
        "colab": {
          "base_uri": "https://localhost:8080/",
          "height": 323
        },
        "outputId": "42bdcf23-8d32-4219-ee12-9d1f74d115db"
      },
      "source": [
        "!pip install ortools"
      ],
      "execution_count": null,
      "outputs": [
        {
          "output_type": "stream",
          "text": [
            "Collecting ortools\n",
            "\u001b[?25l  Downloading https://files.pythonhosted.org/packages/be/06/70475cc058328217739dff257a85fe2e90ecdbc1068d8fe52ad6f30fc53b/ortools-8.0.8283-cp36-cp36m-manylinux1_x86_64.whl (13.7MB)\n",
            "\u001b[K     |████████████████████████████████| 13.7MB 328kB/s \n",
            "\u001b[?25hCollecting protobuf>=3.13.0\n",
            "\u001b[?25l  Downloading https://files.pythonhosted.org/packages/30/79/510974552cebff2ba04038544799450defe75e96ea5f1675dbf72cc8744f/protobuf-3.13.0-cp36-cp36m-manylinux1_x86_64.whl (1.3MB)\n",
            "\u001b[K     |████████████████████████████████| 1.3MB 48.0MB/s \n",
            "\u001b[?25hRequirement already satisfied: six>=1.10 in /usr/local/lib/python3.6/dist-packages (from ortools) (1.15.0)\n",
            "Requirement already satisfied: setuptools in /usr/local/lib/python3.6/dist-packages (from protobuf>=3.13.0->ortools) (50.3.2)\n",
            "Installing collected packages: protobuf, ortools\n",
            "  Found existing installation: protobuf 3.12.4\n",
            "    Uninstalling protobuf-3.12.4:\n",
            "      Successfully uninstalled protobuf-3.12.4\n",
            "Successfully installed ortools-8.0.8283 protobuf-3.13.0\n"
          ],
          "name": "stdout"
        },
        {
          "output_type": "display_data",
          "data": {
            "application/vnd.colab-display-data+json": {
              "pip_warning": {
                "packages": [
                  "google"
                ]
              }
            }
          },
          "metadata": {
            "tags": []
          }
        }
      ]
    },
    {
      "cell_type": "markdown",
      "metadata": {
        "id": "63jxcopVNDf4"
      },
      "source": [
        "Maximize $3x+y$\n",
        "\n",
        "Subjected to:\n",
        "\n",
        "$0 \\le x \\le 1$\n",
        "\n",
        "$0 \\le y \\le 2$\n",
        "\n",
        "$x+y \\le 2$"
      ]
    },
    {
      "cell_type": "code",
      "metadata": {
        "id": "Gd0GZLVzK5jk"
      },
      "source": [
        "# Step 1: Import the required libraries.\n",
        "from __future__ import print_function\n",
        "from ortools.linear_solver import pywraplp\n",
        "\n",
        "# Step 2: Declare the solver.\n",
        "# Create the linear solver with the GLOP backend.\n",
        "solver = pywraplp.Solver.CreateSolver('GLOP')\n",
        "\n",
        "# Step 3: Create the variables.\n",
        "x = solver.NumVar(0, 1, 'x')\n",
        "y = solver.NumVar(0, 2, 'y')\n",
        "\n",
        "print('Number f variables = ', solver.NumVariables())\n",
        "\n",
        "# Define the constraints.\n",
        "# The first two constraints are already set. The following code defines the remaining constraint\n",
        "# Create a linear constraint, 0 <= x + y <= 2.\n",
        "ct = solver.Constraint(0, 2, 'ct')\n",
        "ct.SetCoefficient(x, 1)\n",
        "ct.SetCoefficient(y, 1)\n",
        "\n",
        "print('Number of constraints =', solver.NumConstraints())\n",
        "\n",
        "# Step 4: Define the objective function.\n",
        "objective = solver.Objective()\n",
        "objective.SetCoefficient(x, 3)\n",
        "objective.SetCoefficient(y, 1)\n",
        "objective.SetMaximization()\n",
        "\n",
        "# Step 5: Invoke the solver and display the results.\n",
        "solver.Solve()\n",
        "print('Objective value =', objective.Value())\n",
        "print('x =', x.solution_value())\n",
        "print('y =', y.solution_value())\n",
        "\n",
        "\n"
      ],
      "execution_count": null,
      "outputs": []
    },
    {
      "cell_type": "markdown",
      "metadata": {
        "id": "V73ZhIzclsLj"
      },
      "source": [
        "## My Simplex Method implementation"
      ]
    },
    {
      "cell_type": "code",
      "metadata": {
        "id": "m1I1Pl9oQ-Vx"
      },
      "source": [
        "import numpy as np\n",
        "\n",
        "class SimplexSolver():\n",
        "    \"\"\"A solver of standard form with simplex method.\"\"\"\n",
        "    def __init__(self):\n",
        "        self.m = int(input(\"Number of constraints: \"))\n",
        "        self.n = self.m + int(input(\"Number of variables: \"))\n",
        "        self.B = [i for i in range(self.n - self.m, self.n)]\n",
        "        self.N = [i for i in range(self.n - self.m)]\n",
        "        self.c = np.array([[float(i)] for i in input(\"Coefficient of objective: \").split()] + [[0]]*self.m)\n",
        "        print(\"Coefficient of constraint:\")\n",
        "        container = []\n",
        "        for _ in range(self.m):\n",
        "            container.append([float(i) for i in input().split()])\n",
        "        \n",
        "        self.A = np.hstack((np.array([row[:-1] for row in container]), np.identity(self.m)))\n",
        "        self.b = np.array([[row[-1]] for row in container])\n",
        "        \n",
        "        self.p, self.Q, self.z, self.r = [], [], [], []\n",
        "        self._update_tablaeu()\n",
        "        self._solve()\n",
        "\n",
        "    def objective_value(self):\n",
        "        return self.z[0, 0]\n",
        "    \n",
        "    def optimal_solution(self):\n",
        "        if self.z != float('inf'):\n",
        "            result = [0]*(self.n - self.m)\n",
        "            for j in range(self.m):\n",
        "                if self.B[j] in range(self.n - self.m):\n",
        "                    result[self.B[j]] = self.p[j, 0]\n",
        "            return result\n",
        "        else: return None\n",
        "\n",
        "    def _update_tablaeu(self):\n",
        "        self.p = np.linalg.inv(self._part(self.A, self.B)) @ self.b\n",
        "        self.Q = - np.linalg.inv(self._part(self.A, self.B)) @ self._part(self.A, self.N)\n",
        "        self.z = (self._part(self.c, self.B, False)).T @ np.linalg.inv(self._part(self.A, self.B)) @ self.b\n",
        "        self.r = self._part(self.c, self.N, False) - ((self._part(self.c, self.B, False)).T @ np.linalg.inv(self._part(self.A, self.B)) @ self._part(self.A, self.N)).T\n",
        "    \n",
        "    def _part(self, A, B, column=True):\n",
        "            return np.hstack([A[:, i:i+1] for i in B]) if column else np.vstack([A[i:i+1, :] for i in B])\n",
        "\n",
        "    def _entering_position(self):\n",
        "        \"\"\"Return the INDEX in N of the basic-entering variable, which has positive coefficient.\"\"\"\n",
        "        for j in range(self.n - self.m):\n",
        "            if self.r[j, 0] > 0:\n",
        "                return j\n",
        "        return None\n",
        "\n",
        "    def _leaving_position(self, beta):\n",
        "        \"\"\"Return the INDEX in B of the basic-leaving variable, or None if there is no row with a negative coefficient of entering variable (unbounded)\"\"\"\n",
        "        lower_bound = sorted([(- self.p[i, 0]/self.Q[i, beta], i) for i in range(self.m) if self.Q[i, beta] < 0])\n",
        "        return lower_bound[0][1]\n",
        "\n",
        "    def _solve(self): # must handle the no BFS case\n",
        "        beta = self._entering_position() \n",
        "        while beta != None:\n",
        "            alpha = self._leaving_position(beta)\n",
        "            self._status()                      # REMOVE this line in execution\n",
        "            if alpha == None: \n",
        "                self.z = float('nf')\n",
        "                return\n",
        "            else:\n",
        "                self.B[alpha], self.N[beta] = self.N[beta], self.B[alpha]\n",
        "                self._update_tablaeu()\n",
        "                beta = self._entering_position()\n",
        "\n",
        "\n",
        "    def _status(self):\n",
        "        print(self.B, self.N)\n",
        "        print(self.p)\n",
        "        print(self.Q)\n",
        "        print(self.z)\n",
        "        print(self.r)\n",
        "\n",
        "solver = SimplexSolver()\n",
        "print(solver.objective_value())\n",
        "print(solver.optimal_solution())\n"
      ],
      "execution_count": null,
      "outputs": []
    },
    {
      "cell_type": "markdown",
      "metadata": {
        "id": "dI_teHWvnFCx"
      },
      "source": [
        "## Mixed integer programming\n",
        "\n",
        "Maximize $x + 10y$ \n",
        "\n",
        "subject to:\n",
        "\n",
        "$x + 7y \\le 17.5$\n",
        "\n",
        "$x \\le 3.5$\n",
        "\n",
        "$x \\ge 0$\n",
        "\n",
        "$y \\ge 0$\n",
        "\n",
        "$x, y$ are integers"
      ]
    },
    {
      "cell_type": "code",
      "metadata": {
        "id": "efAXxBdqnkWX",
        "colab": {
          "base_uri": "https://localhost:8080/",
          "height": 69
        },
        "outputId": "74f547a0-565f-4760-dc1c-84f45ec38ff5"
      },
      "source": [
        "# Import the linear solver wrapper\n",
        "from ortools.linear_solver import pywraplp\n",
        "\n",
        "# Declare the MIP solver\n",
        "solver = pywraplp.Solver.CreateSolver('SCIP')\n",
        "\n",
        "INF = solver.infinity()\n",
        "\n",
        "x = solver.IntVar(0.0, INF, 'x')\n",
        "y = solver.IntVar(0.0, INF, 'y')\n",
        "\n",
        "# Define the constraints\n",
        "solver.Add(x + 7*y <= 17.5)\n",
        "solver.Add(x <= 3.5)\n",
        "\n",
        "# Define the objective\n",
        "solver.Maximize(x + 10*y)\n",
        "\n",
        "# Call the MIP solver\n",
        "status = solver.Solve()\n",
        "\n",
        "if status == pywraplp.Solver.OPTIMAL:\n",
        "    print('Objective value =', solver.Objective().Value())\n",
        "    print('x =', x.solution_value())\n",
        "    print('y =', y.solution_value())\n",
        "else:\n",
        "    print('The problem does not have an optimal solution.')"
      ],
      "execution_count": null,
      "outputs": [
        {
          "output_type": "stream",
          "text": [
            "Objective value = 23.0\n",
            "x = 3.0\n",
            "y = 2.0\n"
          ],
          "name": "stdout"
        }
      ]
    },
    {
      "cell_type": "markdown",
      "metadata": {
        "id": "ZMy4Pr3itmz5"
      },
      "source": [
        "BCA problem"
      ]
    },
    {
      "cell_type": "code",
      "metadata": {
        "id": "nEMCzXPWtqSL",
        "colab": {
          "base_uri": "https://localhost:8080/",
          "height": 52
        },
        "outputId": "1b986d20-fe29-47a7-94ac-cf887dc8f5ae"
      },
      "source": [
        "# BCA problem\n",
        "\n",
        "\n",
        "from ortools.linear_solver import pywraplp\n",
        "import numpy as np\n",
        "\n",
        "solver = pywraplp.Solver.CreateSolver('SCIP')\n",
        "INF = solver.infinity()\n",
        "\n",
        "T, N = 3, 13\n",
        "credits = np.array([3,3,4,3,4,3,3,3,4,3,3,4,4])\n",
        "preference = np.array([[1,0,1,1,1,0,0,0,1,0,1,0,0],[1,1,0,1,0,1,1,1,1,0,0,0,0],[0,1,1,1,0,0,0,1,0,1,0,1,1]])\n",
        "conflict = np.array([[0,2],[0,4],[0,8],[1,4],[1,10],[3,7],[3,9],[5,11],[5,12],[6,8],[6,12]])\n",
        "\n",
        "X = np.array([[None]*N for _ in range(T)])\n",
        "Y = solver.IntVar(-INF, INF, 'Y')\n",
        "for i in range(T):\n",
        "    for j in range(N):\n",
        "        X[i, j] = solver.IntVar(0.0, float(preference[i, j]), 'X[{}, {}]'.format(i, j))\n",
        "\n",
        "for i in range(T):\n",
        "    solver.Add(Y >= sum(X[i, j]*credits[j] for j in range(N)))\n",
        "\n",
        "for j in range(N):\n",
        "    solver.Add(sum(X[:, j]) <= 1)\n",
        "\n",
        "for j in range(N):\n",
        "    solver.Add(sum(X[:, j]) >= 1)\n",
        "\n",
        "for i in range(T):\n",
        "    for j1, j2 in conflict:\n",
        "        solver.Add(X[i, j1] + X[i, j2] <= 1)\n",
        "\n",
        "solver.Minimize(Y)\n",
        "\n",
        "status = solver.Solve()\n",
        "\n",
        "if status == pywraplp.Solver.OPTIMAL:\n",
        "    print('Objective value =', solver.Objective().Value())\n",
        "    print([[j for j in range(N) if X[i, j].solution_value() == 1] for i in range(T)])\n",
        "else:\n",
        "    print('The problem does not have an optimal solution.')\n"
      ],
      "execution_count": null,
      "outputs": [
        {
          "output_type": "stream",
          "text": [
            "Objective value = 14.999999999999998\n",
            "[[3, 4, 8, 10], [0, 1, 5, 6, 7], [2, 9, 11, 12]]\n"
          ],
          "name": "stdout"
        }
      ]
    },
    {
      "cell_type": "code",
      "metadata": {
        "id": "pcZipE63t4GW"
      },
      "source": [
        "# MINI project\n",
        "import numpy as np\n",
        "from ortools.linear_solver import pywraplp\n",
        "\n",
        "\n",
        "n, m, k = 10, 7, 3\n",
        "prefer = np.array([[1, 2, 4, 6, 7], [1, 3, 7, 2, 4, 5], [2, 6, 7, 1], [4, 5, 2, 1, 7], [3, 6, 7, 1, 2], [4, 1, 5, 3, 6], [1, 2, 6], [2, 4, 7, 5], [5, 3, 1, 4], [5, 4, 2, 1, 3]])\n",
        "\n",
        "solver = pywraplp.Solver.CreateSolver('SCIP')\n",
        "INF = solver\n",
        "\n"
      ],
      "execution_count": null,
      "outputs": []
    },
    {
      "cell_type": "code",
      "metadata": {
        "id": "zVcCGvlgQkLI"
      },
      "source": [
        "def sudoku():\n",
        "    A = np.array([[None] * 9 for _ in range(9)])\n",
        "\n",
        "    def markR(v, r):\n",
        "        return v in A[r, :]\n",
        "\n",
        "    def markC(v, c):\n",
        "        return v in A[:, c]\n",
        "\n",
        "    def markS(v, i, j):\n",
        "        return v in A[i // 3 * 3: i // 3 * 3 + 3, j // 3 * 3: j // 3 * 3 + 3]\n",
        "\n",
        "    def Try(r, c):\n",
        "        for v in range(1, 10):\n",
        "            if not (markR(v, r) or markC(v, c) or markS(v, r, c)):\n",
        "                A[r, c] = v\n",
        "                if r == c == 8:\n",
        "                    exit(A)\n",
        "                elif c == 8:\n",
        "                    Try(r + 1, 0)\n",
        "                else:\n",
        "                    Try(r, c + 1)\n",
        "                A[r, c] = None\n",
        "\n",
        "    Try(0, 0)\n",
        "\n"
      ],
      "execution_count": null,
      "outputs": []
    },
    {
      "cell_type": "code",
      "metadata": {
        "id": "Cjxbn67aQr0L"
      },
      "source": [
        "# TSP problem\n",
        "\n",
        "import numpy as np\n",
        "import time\n",
        "\n",
        "#c = np.array([[0,1,1,6],[1,0,7,1],[1,7,0,1],[6,1,1,0]])\n",
        "c = np.array([[0,1,1,6,7],[1,0,7,1,2],[1,7,0,1,4],[6,1,1,0,9],[3,5,2,3,0]])\n",
        "N,N = c.shape\n",
        "cmin = 1e9\n",
        "\n",
        "def input(filename):\n",
        "\tglobal N,c\n",
        "\twith open(filename) as f:\n",
        "\t\tfor line in f:\n",
        "\t\t\tN = int(line)# read the number of points\n",
        "\t\t\tprint('N = ',N)\n",
        "\t\t\tbreak\n",
        "\t\t\t\n",
        "\t\tc = np.array([[int(num) for num in line.split()] for line in f])# read the whole distance matrix\n",
        "\t\tprint('c = ',c)\n",
        "\n",
        "def Computecmin():\n",
        "\tglobal cmin\n",
        "\tfor i in range(N):\n",
        "\t\tfor j in range(N):\n",
        "\t\t\tif i != j and cmin > c[i,j]:\n",
        "\t\t\t\tcmin = c[i,j]\n",
        "\t\n",
        "\n",
        "def Solution():\n",
        "\tglobal f\n",
        "\tglobal min_f, start_time\t\n",
        "\tif f + c[X[N-1],X[0]] < min_f:\n",
        "\t\tmin_f = f + c[X[N-1],X[0]]\n",
        "\t\tx_best[:] = X[:]\n",
        "\t\tprint('update best ',min_f,' time = ', time.time() - start_time,' (s)')\n",
        "\t\n",
        "def SortedCandidates(cur):\n",
        "\tcand = []\n",
        "\tfor v in range(N):\n",
        "\t\tif mark[v] == False:\n",
        "\t\t\tcand.append(v)\n",
        "\tcand.sort(key = lambda x: c[cur,x])\n",
        "\treturn cand\n",
        "\t\t\n",
        "def Try(k):\n",
        "\tglobal f\t\n",
        "\tcand = SortedCandidates(X[k-1])\n",
        "\tfor v in cand:\n",
        "\t\tX[k] = v\n",
        "\t\tmark[v] = True\n",
        "\t\tf = f + c[X[k-1],X[k]]\n",
        "\t\tif k == N-1:\n",
        "\t\t\tSolution()\n",
        "\t\telse:\n",
        "\t\t\tg = f + cmin*(N-k)\n",
        "\t\t\tif g < min_f:\n",
        "\t\t\t\tTry(k+1)\n",
        "\t\t\t\t\n",
        "\t\tf = f - c[X[k-1],X[k]]\n",
        "\t\tmark[v] = False\n",
        "input('dataTSP/TSP-15.inp')\t\n",
        "Computecmin()\t\t\n",
        "X = np.zeros(N,dtype='int')\n",
        "f = 0 #accumulated total travel distance of the route\n",
        "min_f = 1000000 #best distance\n",
        "x_best = np.zeros(N,dtype='int')\n",
        "\n",
        "mark = np.zeros(N,dtype='bool')\n",
        "\n",
        "start_time = time.time()\n",
        "X[0] = 0\n",
        "mark[0] = True\n",
        "Try(1)\t\t\t\n",
        "print(x_best,' distance = ',min_f)\n",
        "print('time = ',time.time() - start_time,'(s)')"
      ],
      "execution_count": null,
      "outputs": []
    },
    {
      "cell_type": "code",
      "metadata": {
        "id": "kmnzajdKS8nN",
        "colab": {
          "base_uri": "https://localhost:8080/"
        },
        "outputId": "b7d0d47d-2aeb-4b93-c9a9-6fa3e542e412"
      },
      "source": [
        "# My TSP implementation\n",
        "import numpy as np\n",
        "\n",
        "# edge_min: shortest distance between 2 connected cities\n",
        "# cur_distance: distance moved in the considered case\n",
        "# min_distance: shortest path recorded\n",
        "\n",
        "\n",
        "def compute_min_edge():\n",
        "    min_edge = float('inf')\n",
        "    for i in range(N):\n",
        "        for j in range(N):\n",
        "            if graph[i, j]!= 0 and graph[i, j] < min_edge:      # graph[i, j] == 0 means there is no connection between 2 cities\n",
        "                min_edge = graph[i, j]\n",
        "    return min_edge\n",
        "\n",
        "def remaining_cities(k):\n",
        "    container = [city for city in range(N) if not traveled[city]]\n",
        "    container.sort(key = lambda city: graph[cur_path[k - 1], city])\n",
        "    return container\n",
        "\n",
        "def update_best():\n",
        "    global min_distance\n",
        "    if cur_distance + graph[cur_path[-1], cur_path[0]] < min_distance:      # do NOT acumulate cur_distance with graph[cur_path[-1], cur_path[0]]\n",
        "        min_distance = cur_distance + graph[cur_path[-1],cur_path[0]]\n",
        "        best_path[:] = cur_path[:]\n",
        "\n",
        "def Try(k):\n",
        "    global cur_distance\n",
        "    for city in remaining_cities(k):\n",
        "        if not traveled[city]:\n",
        "            cur_path[k] = city\n",
        "            traveled[city] = True\n",
        "            cur_distance += graph[cur_path[k - 1], city]\n",
        "            if k == N - 1:\n",
        "                update_best()\n",
        "            else:\n",
        "                if cur_distance + min_edge*(N - k) < min_distance:\n",
        "                    Try(k + 1)\n",
        "            cur_distance -= graph[cur_path[k - 1], city]\n",
        "            traveled[city] = False\n",
        "\n",
        "def my_input():\n",
        "    return 10, np.array([[0, 68, 35, 1, 70, 25, 79, 59, 63, 65],\n",
        "                         [6, 0, 82, 28, 62, 92, 96, 43, 28, 37],\n",
        "                         [92, 5, 0, 54, 93, 83, 22, 17, 19, 96],\n",
        "                         [48, 27, 72, 0, 70, 13, 68, 100, 36, 95],\n",
        "                         [4, 12, 23, 34, 0, 65, 42, 12, 54, 69],\n",
        "                         [48, 45, 63, 58, 38, 0, 24, 42, 30, 79],\n",
        "                         [17, 36, 91, 43, 89, 7, 0, 43, 65, 49],\n",
        "                         [47, 6, 91, 30, 71, 51, 7, 0, 94, 49],\n",
        "                         [30, 24, 85, 55, 57, 41, 67, 77, 0, 9],\n",
        "                         [45, 40, 27, 24, 38, 39, 19, 83, 30, 0]])\n",
        "\n",
        "\n",
        "\n",
        "N, graph = my_input()\n",
        "min_distance = float('inf')             \n",
        "min_edge = compute_min_edge()           # compute the shortest among distances between 2 cities\n",
        "best_path = [None] * N\n",
        "cur_path = [0] * N\n",
        "cur_distance = 0\n",
        "traveled = [False] * N\n",
        "traveled[0] = True\n",
        "Try(1)\n",
        "print(best_path, min_distance)\n",
        "\n",
        "\n"
      ],
      "execution_count": null,
      "outputs": [
        {
          "output_type": "stream",
          "text": [
            "[0, 3, 8, 9, 2, 7, 6, 5, 4, 1] 160\n"
          ],
          "name": "stdout"
        }
      ]
    },
    {
      "cell_type": "markdown",
      "metadata": {
        "id": "Hh_fa34sflNt"
      },
      "source": [
        "## Constraint Optimization\n",
        "\n",
        "Three variables,$x$, $y$, and $z$, each of which can take on the values: $0$, $1$, or $2$.\n",
        "\n",
        "One constraint: $x ≠ y$"
      ]
    },
    {
      "cell_type": "markdown",
      "metadata": {
        "id": "wTXQ2bAjjDng"
      },
      "source": [
        "![image.png](data:image/png;base64,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)"
      ]
    },
    {
      "cell_type": "code",
      "metadata": {
        "id": "SO8aDz61gKmV",
        "colab": {
          "base_uri": "https://localhost:8080/"
        },
        "outputId": "896d1b67-1d77-4b98-cbb5-5159eaf600f2"
      },
      "source": [
        "from __future__ import absolute_import\n",
        "from __future__ import division\n",
        "from __future__ import print_function\n",
        "\n",
        "from ortools.sat.python import cp_model\n",
        "\n",
        "\n",
        "class VarArraySolutionPrinter(cp_model.CpSolverSolutionCallback):\n",
        "    \"\"\"Print intermediate solutions.\"\"\"\n",
        "\n",
        "    def __init__(self, variables):\n",
        "        cp_model.CpSolverSolutionCallback.__init__(self)\n",
        "        self.__variables = variables\n",
        "        self.__solution_count = 0\n",
        "\n",
        "    def on_solution_callback(self):\n",
        "        self.__solution_count += 1\n",
        "        for v in self.__variables:\n",
        "            print('%s=%i' % (v, self.Value(v)), end=' ')\n",
        "        print()\n",
        "\n",
        "    def solution_count(self):\n",
        "        return self.__solution_count\n",
        "\n",
        "\n",
        "def SearchForAllSolutionsSampleSat():\n",
        "    \"\"\"Showcases calling the solver to search for all solutions.\"\"\"\n",
        "    # Creates the model.\n",
        "    model = cp_model.CpModel()\n",
        "\n",
        "    # Creates the variables.\n",
        "    num_vals = 3\n",
        "    x = model.NewIntVar(0, num_vals - 1, 'x')\n",
        "    y = model.NewIntVar(0, num_vals - 1, 'y')\n",
        "    z = model.NewIntVar(0, num_vals - 1, 'z')\n",
        "\n",
        "    # Create the constraints.\n",
        "    model.Add(x != y)\n",
        "\n",
        "    # Create a solver and solve.\n",
        "    solver = cp_model.CpSolver()\n",
        "    solution_printer = VarArraySolutionPrinter([x, y, z])\n",
        "    status = solver.SearchForAllSolutions(model, solution_printer)\n",
        "\n",
        "    print('Status = %s' % solver.StatusName(status))\n",
        "    print('Number of solutions found: %i' % solution_printer.solution_count())\n",
        "\n",
        "\n",
        "SearchForAllSolutionsSampleSat()"
      ],
      "execution_count": null,
      "outputs": [
        {
          "output_type": "stream",
          "text": [
            "1 0 0\n"
          ],
          "name": "stdout"
        }
      ]
    },
    {
      "cell_type": "markdown",
      "metadata": {
        "id": "hCkHK_ElmOCy"
      },
      "source": [
        "# Numpy (Draft)"
      ]
    },
    {
      "cell_type": "markdown",
      "metadata": {
        "id": "yTE-tbZ5TUJl"
      },
      "source": [
        "```\n",
        ">>> np.arange(6)\n",
        "[0 1 2 3 4 5]\n",
        "```\n",
        "\n",
        "```\n",
        ">>> np.arrange(6).reshape(2, 3)\n",
        "[[0 1 2]\n",
        " [3 4 5]]\n",
        "```\n",
        "\n",
        "```\n",
        "\n",
        "\n"
      ]
    },
    {
      "cell_type": "code",
      "metadata": {
        "id": "4j1WGiu5ToLN"
      },
      "source": [
        "import numpy as np\n",
        "\n",
        "a = np.arange(6).reshape(2, 3)\n",
        "\n",
        "print(a.ndim)"
      ],
      "execution_count": null,
      "outputs": []
    },
    {
      "cell_type": "markdown",
      "metadata": {
        "id": "Sa0LFdxs_WuH"
      },
      "source": [
        "# Data Structure and Algorithms (Draft)"
      ]
    },
    {
      "cell_type": "code",
      "metadata": {
        "id": "n_8cOHqAYli7"
      },
      "source": [
        "  class Empty(Exception):\n",
        "      pass\n",
        "\n",
        "\"\"\"S.push(e)\n",
        "S.pop()\n",
        "S.top()\n",
        "S.is_empty()\n",
        "len(S)\n",
        "\"\"\"\n",
        "\n",
        "class ArrayStack():\n",
        "\n",
        "    def __init__(self):\n",
        "        self._data = []\n",
        "\n",
        "    def __len__(self):\n",
        "        return len(self._data)\n",
        "\n",
        "    def is_empty(self):\n",
        "        return len(self) == 0\n",
        "\n",
        "    def push(self, e):\n",
        "        self._data.append(e)\n",
        "\n",
        "    def pop(self):\n",
        "        if self.is_empty():\n",
        "            raise Empty\n",
        "        return self._data.pop()\n",
        "\n",
        "    def top(self):\n",
        "        if self.is_empty():\n",
        "            raise Empty\n",
        "        return self._data[-1]\n",
        "\n",
        "\"\"\"\n",
        "Q.enqueue(e)\n",
        "Q.dequeue()\n",
        "Q.first()\n",
        "Q.is_empty()\n",
        "len(Q)\n",
        "\"\"\"\n",
        "     \n",
        "class ArrayQueue():\n",
        "\n",
        "    DEFAULT_CAPACITY = 40\n",
        "\n",
        "    def __init__(self):\n",
        "        self._data = [None] * ArrayQueue.DEFAULT_CAPACITY\n",
        "        self._n = 0\n",
        "        self._f = 0\n",
        "\n",
        "    def __len__(self):\n",
        "        return self._n\n",
        "\n",
        "    def is_empty(self):\n",
        "        return len(self) == 0\n",
        "\n",
        "    def first(self):\n",
        "        if self.is_empty():\n",
        "            raise Empty\n",
        "        return self._data[self._f]\n",
        "\n",
        "    def enqueue(self, e):\n",
        "        if self._n == len(self._data):\n",
        "            self._resize(len(self._data)*2)\n",
        "        self._data[(self._f + self._n) % len(self._data)] = e\n",
        "        self._n += 1\n",
        "\n",
        "    def dequeue(self):\n",
        "        if self.is_empty():\n",
        "            raise Empty\n",
        "        e = self._data[self._f]\n",
        "        self._data[self._f] = None\n",
        "        self._f = (self._f + 1) % len(self._data)\n",
        "        self._n -= 1\n",
        "        if 0 < self._n < len(self._data) // 4:\n",
        "            self._resize(len(self._data) // 2)\n",
        "        return e\n",
        "        \n",
        "    def _resize(self, cap):\n",
        "        old = self._data\n",
        "        self._data = [None]*cap\n",
        "        for k in range(self._n):\n",
        "            self._data[k] = old[(self._f + k) % len(old)]\n",
        "        self._f = 0\n",
        "\n",
        "\"\"\"\n",
        "D.add_first(e)\n",
        "D.add_last(e)\n",
        "D.delete_first()\n",
        "D.delete_last()\n",
        "D.first()\n",
        "D.last()\n",
        "D.is_empty()\n",
        "len(D)\n",
        "\"\"\"\n",
        "\n",
        "class ArrayDeque:\n",
        "    \n",
        "    DEFAULT_CAPACITY = 40\n",
        "\n",
        "    def __init__(self):\n",
        "        self._data = [None] * Deque.DEFAULT_CAPACITY\n",
        "        self._n = 0\n",
        "        self._f = 0\n",
        "\n",
        "    def __len__(self):\n",
        "        return self._n\n",
        "\n",
        "    def is_empty(self):\n",
        "        return len(self) == 0\n",
        "\n",
        "    def first(self):\n",
        "        if self.is_empty():\n",
        "            raise Empty\n",
        "        return self._data[self._f]\n",
        "\n",
        "    def last(self):\n",
        "        if self.is_empty():\n",
        "            raise Empty\n",
        "        return self_data[(self._f + self._n - 1) % len(self._data)]\n",
        "\n",
        "    def add_first(self, e):\n",
        "        if self._n == len(self._data):\n",
        "            self._resize(len(self._data)*2)\n",
        "        self._f = (self._f - 1) % len(self._data)\n",
        "        self._data[self._f] = e\n",
        "        self._n += 1\n",
        "\n",
        "    def add_last(self, e):\n",
        "        if self._n == len(self._data):\n",
        "            self._resize(len(self._data)*2)\n",
        "        self._data[(self._f + self._n) % len(self._data)] = e\n",
        "        self._n += 1\n",
        "\n",
        "    def delete_first(self):\n",
        "        if self.is_empty():\n",
        "            raise Empty\n",
        "        e = self._data[self._f]\n",
        "        self._data[self._f] = None\n",
        "        self._f = (self._f + 1) % len(self._data)\n",
        "        self._n -= 1\n",
        "        if 0 < self._n < len(self._data) // 4:\n",
        "            self._resize(len(self._data) // 2)\n",
        "        return e\n",
        "\n",
        "    def delete_last(self):\n",
        "        if self.is_empty():\n",
        "            raise Empty\n",
        "        e = self._data[(self._f + self._n - 1) % len(self._data)]\n",
        "        self._data[(self._f + self._n - 1) % len(self._data)] = None\n",
        "        self._n -= 1\n",
        "        if 0 < self._n < len(self._data)// 4:\n",
        "            self._resize(len(self._data)//2)\n",
        "        return e\n",
        "\n",
        "    def _resize(self, cap):\n",
        "        old = self._data\n",
        "        self._data = [None]*cap\n",
        "        for k in range(self._n):\n",
        "            self._data[k] = old[(self._f + k) % len(old)]\n",
        "        self._f = 0\n",
        "        \n",
        "\n",
        "\n",
        "\n"
      ],
      "execution_count": null,
      "outputs": []
    },
    {
      "cell_type": "markdown",
      "metadata": {
        "id": "RZQWrYFh-aIc"
      },
      "source": [
        "## Tree"
      ]
    },
    {
      "cell_type": "code",
      "metadata": {
        "id": "C085yCmafDDr"
      },
      "source": [
        "class Empty(Exception):\n",
        "    pass\n",
        "\n",
        "class Tree:\n",
        "    \n",
        "    class Position:\n",
        "\n",
        "        def element(self):\n",
        "            raise NotImplementedError\n",
        "\n",
        "        def __eq__(self, other):\n",
        "            \"\"\"Return True if other Position represents the same location\"\"\"\n",
        "            raise NotImplementedError\n",
        "\n",
        "        def __ne__(self, other):\n",
        "            return not (self == other)\n",
        "\n",
        "\n",
        "    def root(self):\n",
        "        raise NotImplementedError\n",
        "\n",
        "    def __len__(self):\n",
        "        raise NotImplementedError\n",
        "\n",
        "    def is_empty(self):\n",
        "        return len(self) == 0\n",
        "\n",
        "    def is_root(self, p):\n",
        "        return self.root() == p\n",
        "\n",
        "    def parent(self, p):\n",
        "        raise NotImplementedError\n",
        "\n",
        "    def children(self, p):\n",
        "        raise NotImplementedError\n",
        "\n",
        "    def num_children(self, p):\n",
        "        raise NotImplementedError\n",
        "\n",
        "    def is_leaf(self, p):\n",
        "        return self.num_children(p) == 0\n",
        "\n",
        "    def depth(self, p):\n",
        "        if self.is_root(p):\n",
        "            return 0\n",
        "        else:\n",
        "            return 1 + self.depth(self.parent(p))\n",
        "\n",
        "    def _height(self, p):\n",
        "        if self.is_leaf(p):\n",
        "            return 0\n",
        "        else:\n",
        "            return 1 + max(self._height(c) for c in self.children(p))\n",
        "\n",
        "    def height(self, p=None):\n",
        "        if p is None:\n",
        "            p = self.root()\n",
        "        return self._height(p)\n",
        "\n",
        "    def preorder(self, p):\n",
        "        yield p\n",
        "        for c in self.children(p):\n",
        "            self.preorder(c)\n",
        "\n",
        "    def postorder(self, p):\n",
        "        for c in self.children(p):\n",
        "            self.postorder(p)\n",
        "        yield p\n",
        "\n",
        "    def breathfirst(self, p):\n",
        "        fringe = LinkedQueue()\n",
        "        fringe.enqueue(p)\n",
        "        while not Q.is_empty():\n",
        "            p = Q.dequeue()\n",
        "            yield p\n",
        "            for c in self.children(p):\n",
        "                Q.enqueue(c)\n",
        "\n",
        "    def eulertour(self, p):\n",
        "        yield p\n",
        "        for c in self.children(p):\n",
        "            self.eulertour(c)\n",
        "        yield p\n",
        "\n",
        "\n",
        "\n",
        "class BinaryTree(Tree):\n",
        "\n",
        "    def left(self, p):\n",
        "        \"\"\"Return None if p does not have a left child.\"\"\"\n",
        "        raise NotImplementedError\n",
        "\n",
        "    def right(self, p):\n",
        "        \"\"\"Return None if p does not have a right chilf.\"\"\"\n",
        "        raise NotImplementedError\n",
        "\n",
        "    def children(self, p):\n",
        "        if self.left(p) is not None:\n",
        "            yield self.left(p)\n",
        "        if self.right(p) is not None:\n",
        "            yield self.right(p)\n",
        "\n",
        "    def sibling(self, p):\n",
        "        parent = self.parent(p)\n",
        "        if parent is None:\n",
        "            return None\n",
        "        else:\n",
        "            if p == self.left(parent):\n",
        "                return self.right(parent)\n",
        "            else:\n",
        "                return self.left(parent)\n",
        "\n",
        "\n",
        "class LinkedBinaryTree(BinaryTree):\n",
        "\n",
        "    class _Node:\n",
        "        __slot__ = '_element', '_parent', '_left', '_right'\n",
        "\n",
        "        def __init__(self, element, parent=None, left=None, right=None):\n",
        "            self._element = element\n",
        "            self._parent  = parent\n",
        "            self._left    = left\n",
        "            self._right   = right\n",
        "\n",
        "    class Position(BinaryTree.Position):\n",
        "        \n",
        "        def __init__(self, container, node):\n",
        "            self._container = container\n",
        "            self._node = node\n",
        "\n",
        "        def element(self):\n",
        "            return self.node._element\n",
        "\n",
        "        def __eq__(self, other):\n",
        "            return type(other) is type(self) and self._node is other._node\n",
        "\n",
        "    # ----------------------------------------------------------------------------------\n",
        "\n",
        "    def _make_position(self, node):\n",
        "        \"\"\"Return a Position instance for the given node, or None if no node.\"\"\"\n",
        "        return self.Position(self, node) if node is not None else None\n",
        "\n",
        "    def _get_node(self, p):\n",
        "        if not isinstance(p, self.Position):\n",
        "            raise TypeError('p must be proper Position type')\n",
        "        if p._container is not self:\n",
        "            raise ValueError('p does not belong to this container')\n",
        "        if p._node._parent is p._node:               # convention for deprecated node\n",
        "            raise ValueError('p is no longer valid')\n",
        "        return p._node\n",
        "\n",
        "    # ----------------------------------------------------------------------------------\n",
        "\n",
        "    def __init__(self):\n",
        "        self._root = None\n",
        "        self._size = 0\n",
        "\n",
        "    def root(self):\n",
        "        return self._make_position(self._root)\n",
        "\n",
        "    def __len__(self):\n",
        "        return self._size\n",
        "\n",
        "    def parent(self, p):\n",
        "        return self._make_position(self._get_node(p)._parent)\n",
        "\n",
        "    def num_children(self, p):\n",
        "        node = self._get_node(p)\n",
        "        count = 0\n",
        "        if node._left is not None:\n",
        "            count += 1\n",
        "        if node._right is not None:\n",
        "            count += 1\n",
        "        return count\n",
        "\n",
        "    def left(self, p):\n",
        "        \"\"\"Return None if p does not have a left child.\"\"\"\n",
        "        return self._make_position(self._get_node(p)._left)\n",
        "\n",
        "    def right(self, p):\n",
        "        \"\"\"Return None if p does not have a right chilf.\"\"\"\n",
        "        return self._make_position(self._get_node(p)._right)\n",
        "\n",
        "    # -------------------------------------------------------------------------\n",
        "\n",
        "    def add_root(self, e):\n",
        "        if self._root is not None:\n",
        "            raise ValueError('Root exists')\n",
        "        self._root = self._Node(e)\n",
        "        self._size = 1\n",
        "        return self._make_position(self._root)\n",
        "\n",
        "    def add_left(self, p, e):\n",
        "        node = self._get_node(p)\n",
        "        if node._left is not None:\n",
        "            raise ValueError('Left child exists')\n",
        "        node._left = self._Node(e, node)\n",
        "        self._size += 1\n",
        "        return self._make_position(node._left)\n",
        "\n",
        "    def add_right(self, p, e):\n",
        "        node = self._get_node(p)\n",
        "        if node._right is not None:\n",
        "            raise ValueError('Right child exists')\n",
        "        node._right = self._Node(e, node)\n",
        "        self._size += 1\n",
        "        return self._make_position(node._right)\n",
        "\n",
        "    def replace(self, p, e):\n",
        "        node = self._get_node(p)\n",
        "        old = node._element\n",
        "        node._element = e\n",
        "        return old\n",
        "\n",
        "    def _delete(self, p):\n",
        "        node = self._get_node_(p)\n",
        "        if self.num_children(p) == 2:\n",
        "            raise ValueError('p has 2 children')\n",
        "        child = node._left if node._left else node._right\n",
        "        if child is not None:\n",
        "            child._parent = node._parent\n",
        "        if node is self._root:\n",
        "            self._root = child\n",
        "        else:\n",
        "            if node is node._parent._left:\n",
        "                node._parent.left = child\n",
        "            else:\n",
        "                node._parent._right = child\n",
        "        self._size -= 1\n",
        "        node._parent = node                     # convention for deprecated node\n",
        "        return node._element                    \n",
        "\n",
        "    def _attach(self, p, T1, T2):\n",
        "        node = self._get_node(p)\n",
        "        if not self.is_leaf(p):\n",
        "            raise ValueError('p must be leaf')\n",
        "        if not type(self) is type(t1) is type(t2):\n",
        "            raise TypeError('Tree types must match')\n",
        "        self._size += len(T1) + len(T2)\n",
        "        if not is_empty(T1):\n",
        "            T1._root._parent = node\n",
        "            node._left = T1._root\n",
        "            t1._root = None\n",
        "            t1._size = 0\n",
        "        if not is_empty(T2):\n",
        "            T2._root._parent = node\n",
        "            node._right = T2._root\n",
        "            T2._root = None\n",
        "            T2._size = 0\n",
        "\n",
        "    def inorder(self, p):\n",
        "        if self.left(p) is not None:\n",
        "            self.inorder(self.left(p))\n",
        "        yield p\n",
        "        if self.right(p) is not None:\n",
        "            self.inorder(self.right(p))\n",
        "\n",
        "\n",
        "    \n"
      ],
      "execution_count": null,
      "outputs": []
    },
    {
      "cell_type": "markdown",
      "metadata": {
        "id": "kZuo9cPuT9tK"
      },
      "source": [
        "## Dynamic programming"
      ]
    },
    {
      "cell_type": "code",
      "metadata": {
        "id": "CCWT7E-1Rc7Q",
        "colab": {
          "base_uri": "https://localhost:8080/"
        },
        "outputId": "f9ad2b1d-2057-47c5-b36e-ba70ca93e6b7"
      },
      "source": [
        "def fib_1(n):\n",
        "    tab = [None] * (n + 1)\n",
        "    tab[0], tab[1] = 0, 1\n",
        "    for i in range(2, n + 1):\n",
        "        tab[i] = tab[i - 1] + tab[i - 2]\n",
        "    return tab[n]\n",
        "\n",
        "\n",
        "def fib_2(n):\n",
        "    tab = [0, 1, None]\n",
        "    x, y, z = 0, 1, 2\n",
        "    for i in range(2, n + 1):\n",
        "        tab[z] = tab[y] + tab[x]\n",
        "        x, y, z = y, z, x\n",
        "    return tab[y]\n",
        "\n",
        "\n",
        "def making_change(M, arr):\n",
        "    tab = [i for i in range(M + 1)]\n",
        "    for val in arr[1:]:\n",
        "        for i in range(1, M + 1):\n",
        "            if i >= val:\n",
        "                tab[i] = min(tab[i], tab[i - val] + 1)\n",
        "    return tab[-1]\n",
        "\n",
        "\n",
        "def knapsack(MAX_W, weights, values):\n",
        "    n = len(weights)\n",
        "    MAX_LOAD = [[(0 if i < weights[0] else values[0]) for i in range(MAX_W + 1)], [None] * (MAX_W + 1)]\n",
        "    cur, nex = 0, 1\n",
        "    for j in range(1, n):\n",
        "        for i in range(MAX_W + 1):\n",
        "            if i < weights[j]:\n",
        "                MAX_LOAD[nex][i] = MAX_LOAD[cur][i]\n",
        "            else:\n",
        "                MAX_LOAD[nex][i] = max(MAX_LOAD[cur][i], MAX_LOAD[cur][i - weights[j]] + values[j])\n",
        "        cur, nex = nex, cur\n",
        "    return MAX_LOAD[cur][-1]\n",
        "\n",
        "knapsack(10, [6, 5, 4, 2, 2], [6, 3, 5, 4, 6])\n"
      ],
      "execution_count": null,
      "outputs": [
        {
          "output_type": "execute_result",
          "data": {
            "text/plain": [
              "16"
            ]
          },
          "metadata": {
            "tags": []
          },
          "execution_count": 4
        }
      ]
    },
    {
      "cell_type": "markdown",
      "metadata": {
        "id": "Zcc-QQczoNSU"
      },
      "source": [
        ""
      ]
    },
    {
      "cell_type": "markdown",
      "metadata": {
        "id": "5YgNQfCyoRo6"
      },
      "source": [
        "# Discrete mathematics"
      ]
    },
    {
      "cell_type": "code",
      "metadata": {
        "id": "gilLTua1oVbq",
        "colab": {
          "base_uri": "https://localhost:8080/"
        },
        "outputId": "decbc77b-2af9-49da-9082-c69204e47563"
      },
      "source": [
        "def backtracking_subset(a, m):\n",
        "    n = len(a)\n",
        "    sub_indexes = [-1] * (m + 1)\n",
        "\n",
        "    def Try(k):\n",
        "        for i in range(sub_indexes[k - 1] + 1, n - m + k):\n",
        "            sub_indexes[k] = i\n",
        "            if k == m:\n",
        "                print([a[index] for index in sub_indexes[1:]])\n",
        "            else:\n",
        "                Try(k + 1)\n",
        "    Try(1)\n",
        "\n",
        "def backtracking_permutation(a):\n",
        "    n = len(a)\n",
        "    per = [None] * n\n",
        "    \n",
        "    def Try(k):\n",
        "        for i in a:\n",
        "            if i not in per:\n",
        "                per[k] = i\n",
        "                if k == n - 1:\n",
        "                    print(per)\n",
        "                else:\n",
        "                    Try(k + 1)\n",
        "                per[k] = None\n",
        "    Try(0)\n",
        "    \n",
        "\n",
        "def pstv_itg_root(n, k):    \n",
        "    solution = [1] * k\n",
        "    \n",
        "    def Try(t):\n",
        "        for i in range(1, n - sum(solution[:t])):\n",
        "            solution[t] = i\n",
        "            if t == k - 2:\n",
        "                solution[-1] = n - sum(solution[:-1])\n",
        "                print(solution)\n",
        "            else:\n",
        "                Try(t + 1)\n",
        "    Try(0)\n",
        "    \n",
        "\n",
        "def knapsack_backtracking(w_max, weights, values):\n",
        "    n = len(weights)\n",
        "    total_weight = total_value = max_value = 0\n",
        "    best_choice = [False] * n\n",
        "    picked = [False] * n\n",
        "\n",
        "    def Try(k):\n",
        "        global total_weight, total_value, max_value\n",
        "        if total_weight + \n",
        "        for value in (True, False):\n",
        "            picked[k] = value\n",
        "            if total_weight \n",
        "            if total_weight + weights[k] <= w_max:\n",
        "                picked[k] = True\n",
        "                total_weight += weights[k]\n",
        "                total_value += values[k]\n",
        "                Try(k + 1)\n",
        "                picked[k] = False\n",
        "                total_weight -= weights[k]\n",
        "                total_value -= values[k]\n",
        "            else:\n",
        "                if total_value > max_value:\n",
        "                    max_value = total_value\n",
        "                    best_choice[:] = picked[:]\n",
        "            print(picked, total_value, total_weight)\n",
        "                \n",
        "    Try(0)\n",
        "    return best_choice, max_value\n",
        "\n",
        "print(knapsack_backtracking(10, [6, 5, 4, 2, 2], [6, 3, 5, 4, 6]))\n",
        "\n",
        "\n",
        "\n"
      ],
      "execution_count": null,
      "outputs": [
        {
          "output_type": "stream",
          "text": [
            "[False, False, False, False, False] 6 6\n",
            "[False, False, False, False, False] 6 6\n",
            "([False, False, False, False, False], 0)\n"
          ],
          "name": "stdout"
        }
      ]
    },
    {
      "cell_type": "markdown",
      "metadata": {
        "id": "4jcYgCNa-Sb3"
      },
      "source": [
        "# Others' solutions"
      ]
    },
    {
      "cell_type": "markdown",
      "metadata": {
        "id": "4_hC0MWK8qjj"
      },
      "source": [
        "## [Human readable duration format](https://www.codewars.com/kata/52742f58faf5485cae000b9a/python)\n",
        "\n",
        "```\n",
        "1 minute and 2 seconds\n",
        "1 hour, 1 minute and 2 seconds\n",
        "```"
      ]
    },
    {
      "cell_type": "code",
      "metadata": {
        "id": "ecTBt5GEZylv"
      },
      "source": [
        "times = [(\"year\", 365 * 24 * 60 * 60), \n",
        "         (\"day\", 24 * 60 * 60),\n",
        "         (\"hour\", 60 * 60),\n",
        "         (\"minute\", 60),\n",
        "         (\"second\", 1)]\n",
        "\n",
        "def format_duration(seconds):\n",
        "\n",
        "    if not seconds:\n",
        "        return \"now\"\n",
        "\n",
        "    chunks = []\n",
        "    for name, secs in times:\n",
        "        qty = seconds // secs\n",
        "        if qty:\n",
        "            if qty > 1:\n",
        "                name += \"s\"\n",
        "            chunks.append(str(qty) + \" \" + name)\n",
        "\n",
        "        seconds = seconds % secs\n",
        "\n",
        "    return ', '.join(chunks[:-1]) + ' and ' + chunks[-1] if len(chunks) > 1 else chunks[0]"
      ],
      "execution_count": null,
      "outputs": []
    },
    {
      "cell_type": "code",
      "metadata": {
        "id": "QJavJOl88tz_"
      },
      "source": [
        "def format_duration(seconds):\n",
        "    if seconds == 0: return \"now\"\n",
        "    units = ( (31536000, \"year\"  ), \n",
        "              (   86400, \"day\"   ),\n",
        "              (    3600, \"hour\"  ),\n",
        "              (      60, \"minute\"),\n",
        "              (       1, \"second\") )\n",
        "    ts, t = [], seconds\n",
        "    for unit in units:\n",
        "        u, t = divmod(t, unit[0])\n",
        "        ts += [\"{} {}{}\".format(u, unit[1], \"s\" if u>1 else \"\")] if u != 0 else []\n",
        "    return \", \".join([str(d)for d in ts[:-1]]) + (\" and \" if len(ts)>1 else \"\") + ts[-1]"
      ],
      "execution_count": null,
      "outputs": []
    },
    {
      "cell_type": "markdown",
      "metadata": {
        "id": "6G_gL0vdmDp2"
      },
      "source": [
        "# Exercises"
      ]
    },
    {
      "cell_type": "code",
      "metadata": {
        "id": "hEXv5F4nkl8Q"
      },
      "source": [
        "def key_sort(A):\n",
        "    return A[1]\n",
        "\n",
        "\n",
        "def natural_join(A, B):\n",
        "    A.sort(key=key_sort)\n",
        "    B.sort()\n",
        "    c = []\n",
        "    i = j = 0\n",
        "    while i < len(A) and j < len(B):\n",
        "        if A[i][1] == B[j][0]:\n",
        "            c.append((A[i][0], A[i][1], B[j][1]))\n",
        "            i += 1\n",
        "            j += 1\n",
        "        elif A[i][1] < B[j][0]:\n",
        "            i += 1\n",
        "        else:\n",
        "            j += 1\n",
        "        if i == len(A) or (j == len(B)):\n",
        "            break\n",
        "    return c\n",
        "\n",
        "def mysum(A, r_start, r_stop, c_start, c_stop):\n",
        "    if r_start == r_stop or c_start == c_stop:\n",
        "        return 0\n",
        "    else:\n",
        "        return A[r_start][c_start] + mysum(A, r_start + 1, r_stop, c_start + 1, c_stop) + mysum(A, r_start + 1, r_stop, c_start, c_start + 1) + mysum(A, r_start, r_start + 1, c_start + 1, c_stop)\n",
        "\n",
        "A = [[1, 2, 3],\n",
        "     [4, 5, 6]]\n",
        "print(mysum(A, 0, 2, 0, 3))"
      ],
      "execution_count": null,
      "outputs": []
    },
    {
      "cell_type": "code",
      "metadata": {
        "id": "Nez6gkwdA7KA"
      },
      "source": [
        "s = ['a', 'b', 'c']\n",
        "[[x for (pos,x) in zip(range(len(s)), s) if (2**pos) & b] for b in range(2**len(s))]"
      ],
      "execution_count": null,
      "outputs": []
    },
    {
      "cell_type": "code",
      "metadata": {
        "id": "oFO2e483QlPH"
      },
      "source": [
        "# Xet cac day con cua S lap thanh mot cap so cong. In ra max cua cac tong cua tung day con do.\n",
        "# VD: [-2, 1, -3, 4, -1, 2, 1, -5, 4] -> 8   (day so cong co tong lon nhat la: 4, 4)\n",
        "\n",
        "\n",
        "def max_sum_addition(S, i):\n",
        "    # find the maximum sum among sums of sequences of addtion started at S[i]\n",
        "\n",
        "    def addition_step(start, stop):\n",
        "        # return the next expected gap\n",
        "        next_step = start\n",
        "        while next_step < stop:\n",
        "            yield next_step\n",
        "            next_step += start\n",
        "        yield start - 1\n",
        "\n",
        "    # find the gap\n",
        "    for j in range(i + 1, len(S)):\n",
        "        S[j] -= S[i]\n",
        "    \n",
        "    #print(S)\n",
        "    \n",
        "    list_of_sums = [S[i]]\n",
        "\n",
        "    for j in range(i + 1, len(S)):      # j is the currently considered arithmetical ratio\n",
        "        gen_step = addition_step(S[j], S[-1] + 1)\n",
        "        temp_sum = S[i]\n",
        "        expected_step = next(gen_step)\n",
        "        for k in range(j, len(S)):\n",
        "            #print(S[i], expected_step, S[k])\n",
        "            if S[k] == expected_step:\n",
        "                temp_sum += S[i] + S[k]\n",
        "                expected_step = next(gen_step)\n",
        "        list_of_sums.append(temp_sum)\n",
        "\n",
        "    #print(\".\", list_of_sums)\n",
        "        \n",
        "    for j in range(i + 1, len(S)):\n",
        "        S[j] += S[i]\n",
        "\n",
        "    return max(list_of_sums)\n",
        "\n",
        "S = [1,2,3,4]\n",
        "S.sort()\n",
        "#print(S)\n",
        "max_sum = max_sum_addition(S, 0)\n",
        "for i in range(1, len(S)):\n",
        "    candidate = max_sum_addition(S, i)\n",
        "    if candidate > max_sum:\n",
        "        max_sum = candidate\n",
        "print(max_sum)\n"
      ],
      "execution_count": null,
      "outputs": []
    },
    {
      "cell_type": "code",
      "metadata": {
        "id": "QPclNsOyMGhf"
      },
      "source": [
        "def max_subarray(a):\n",
        "    n = len(a)\n",
        "    b = [float('-inf'), *a, float('inf')]\n",
        "    L = [1] * (n + 2)\n",
        "    T = [None] * (n + 2)\n",
        "    for i in range(n, -1, -1):\n",
        "        j_max = n + 1\n",
        "        for j in range(i + 1, n + 2):\n",
        "            #print(i, j, n + 1)\n",
        "            if b[i] < b[j] and L[j] > L[j_max]:\n",
        "                j_max = j\n",
        "        L[i] = L[j_max] + 1\n",
        "        T[i] = j_max\n",
        "    return b, L, T\n",
        "\n",
        "b, L, T = max_subarray([5, 2, 3, 4, 9, 10, 5, 6, 7, 8])\n",
        "print(b)\n",
        "print(L)\n",
        "print(T)"
      ],
      "execution_count": null,
      "outputs": []
    },
    {
      "cell_type": "code",
      "metadata": {
        "id": "YWdWYzGHXo_E"
      },
      "source": [
        "def matrix_mul_2(sizes):\n",
        "    n = len(sizes) - 1                      # number of matrixs\n",
        "    M = [[-1]*n for _ in range(n)]          # -1 denotes the value is not computed\n",
        "    \n",
        "    def recur_mul(i, j, sizes, M):\n",
        "        if M[i][j] == -1:\n",
        "            if i == j:\n",
        "                M[i][j] = 0\n",
        "            else:\n",
        "                M[i][j] = min([recur_mul(i, k, sizes, M) + recur_mul(k + 1, j, sizes, M) + sizes[i]*sizes[k + 1]*sizes[j + 1] for k in range(i, j)])\n",
        "        return M[i][j]\n",
        "\n",
        "    return recur_mul(0, n - 1, sizes, M)\n",
        "\n",
        "print(matrix_mul_2([10, 30, 5, 60]))"
      ],
      "execution_count": null,
      "outputs": []
    },
    {
      "cell_type": "code",
      "metadata": {
        "id": "sY04-CqTmtfE",
        "colab": {
          "base_uri": "https://localhost:8080/",
          "height": 119
        },
        "outputId": "54707785-24e3-4bcb-cf49-2f49bf16f88d"
      },
      "source": [
        "def Generating(n):\n",
        "    arr = ['0'] * n\n",
        "    while True:\n",
        "        i = n - 1\n",
        "        print(''.join(arr))\n",
        "        while arr[i] == '1':\n",
        "            arr[i] = '0'\n",
        "            i -= 1\n",
        "            if i == -1:\n",
        "                return\n",
        "        arr[i] = '1'\n",
        "\n",
        "\n",
        "def Backtracking(n):\n",
        "    a = [None] * n\n",
        "    \n",
        "    def Try(k):\n",
        "        for bit in range(2):\n",
        "            a[k] = bit\n",
        "            if k == n - 1: print(a)\n",
        "            else: Try(k + 1)\n",
        "    Try(0)\n",
        "\n",
        "\"\"\"\n",
        "boolean solve(Node n) {\n",
        "    put node n on the stack;\n",
        "    while the stack is not empty {\n",
        "        if the node at the top of the stack is a leaf {\n",
        "            if it is a goal node, return true\n",
        "            else pop it off the stack\n",
        "        }\n",
        "        else {\n",
        "            if the node at the top of the stack has untried children\n",
        "                push the next untried child onto the stack\n",
        "            else pop the node off the stack\n",
        "\n",
        "    }\n",
        "    return false\n",
        "}\n",
        "\n",
        "nonrecur_algo(n):\n",
        "    create a stack, put node 0 in the stack\n",
        "    while stack is not empty:\n",
        "        if stack[-1] is leaf:\n",
        "            print result\n",
        "            pop that stack[-1]\n",
        "        else:\n",
        "            if stack[-1] has untried children:\n",
        "                push the the next child to the stack\n",
        "            else:\n",
        "                pop that stack[-1]\n",
        "\"\"\"\n",
        "def Backtracking_nonrecur(n):\n",
        "    value_addresses = [None] * n\n",
        "    values = ['0', '1']\n",
        "    k, j = 0, 0\n",
        "    while k > -1:\n",
        "        value_addresses[k] = j\n",
        "        print(value_addresses, k, j)\n",
        "        if k == n - 1:\n",
        "            print([values[i] for i in value_addresses])\n",
        "            k -= 1\n",
        "            j = value_addresses[k] + 1\n",
        "        else:\n",
        "            if j < len(values) - 1:\n",
        "                k += 1\n",
        "                j = 0\n",
        "            else:\n",
        "                k -= 1\n",
        "                j = value_addresses[k] + 1\n",
        "            \n",
        "Backtracking_nonrecur(3)"
      ],
      "execution_count": null,
      "outputs": [
        {
          "output_type": "stream",
          "text": [
            "[0, None, None] 0 0\n",
            "[0, 0, None] 1 0\n",
            "[0, 0, 0] 2 0\n",
            "['0', '0', '0']\n",
            "[0, 1, 0] 1 1\n",
            "[1, 1, 0] 0 1\n"
          ],
          "name": "stdout"
        }
      ]
    },
    {
      "cell_type": "code",
      "metadata": {
        "id": "JjTEabLYnJ_3"
      },
      "source": [
        ""
      ],
      "execution_count": null,
      "outputs": []
    },
    {
      "cell_type": "markdown",
      "metadata": {
        "id": "rY1YlSq_M5tj"
      },
      "source": [
        "# Summary"
      ]
    },
    {
      "cell_type": "markdown",
      "metadata": {
        "id": "xMYJkRhKSd1w"
      },
      "source": [
        "# Generating "
      ]
    },
    {
      "cell_type": "markdown",
      "metadata": {
        "id": "6-qDePL7M-7q"
      },
      "source": [
        "## Backtracking"
      ]
    },
    {
      "cell_type": "code",
      "metadata": {
        "id": "5wTT1qu7M-AT"
      },
      "source": [
        "# backtracking: tsp, subset, permutation, positive integer root, knapsack, Bin backing problem"
      ],
      "execution_count": null,
      "outputs": []
    },
    {
      "cell_type": "markdown",
      "metadata": {
        "id": "UFok3NB1NBuS"
      },
      "source": [
        "## Branch and bound"
      ]
    },
    {
      "cell_type": "code",
      "metadata": {
        "id": "4PxQRbGnNFiv"
      },
      "source": [
        "# branch and bound: tsp, knapsack, Bin backing problem\n",
        "# link Mrs Phuong: https://drive.google.com/file/d/1-ghy1y4Li9Pd-yYIZbGkFgvCv5boOB7c/view?usp=sharing\n"
      ],
      "execution_count": null,
      "outputs": []
    },
    {
      "cell_type": "markdown",
      "metadata": {
        "id": "qlsE1-ISNGA3"
      },
      "source": [
        "## Dynamic programming"
      ]
    },
    {
      "cell_type": "markdown",
      "metadata": {
        "id": "JXhZpry2VU94"
      },
      "source": [
        "## Making change problem\n"
      ]
    },
    {
      "cell_type": "markdown",
      "metadata": {
        "id": "E77upodwaAwL"
      },
      "source": [
        "We have two choices :\n",
        "1. Don’t use a coin from $d[i]$, then $t[i, j] = t[i − 1, j]$\n",
        "\n",
        "2. Use at least one coin from $d[i]$, then $t[i, j] = t[i, j − d[i]] + 1$\n",
        "\n",
        "So, we have $t[i, j] = min(t[i − 1, j],t[i, j − di] + 1)$"
      ]
    },
    {
      "cell_type": "code",
      "metadata": {
        "id": "mt2mRR-xOhV_",
        "colab": {
          "base_uri": "https://localhost:8080/"
        },
        "outputId": "b6225060-c90f-4c68-ebf5-4f8a18b4c464"
      },
      "source": [
        "# dynamic: fib, knapsack, max sub arr, matrix mul, Longest common subsequence, The All-Pairs Shortest-Path Problem, \n",
        "# link Mr Michel: https://drive.google.com/file/d/1ETfNzGRAnBm1H9kRNm-QJbANflWZ0TjH/view?usp=sharing\n",
        "\n",
        "def DP_making_change(amount, denominations):\n",
        "    coins = [j for j in range(amount + 1)]              # assume that the initial value of denominations is 1\n",
        "    for value in denominations[1:]:\n",
        "        for j in range(amount + 1):\n",
        "            if j >= value:\n",
        "                coins[j] = min(coins[j], coins[j - value] + 1)\n",
        "    return coins[-1]\n",
        "\n",
        "print(DP_making_change(5, [2, 1]))\n"
      ],
      "execution_count": 5,
      "outputs": [
        {
          "output_type": "stream",
          "text": [
            "5\n"
          ],
          "name": "stdout"
        }
      ]
    },
    {
      "cell_type": "markdown",
      "metadata": {
        "id": "48fBDEfVak7a"
      },
      "source": [
        "### Knapsack 0-1 problem\n",
        "\n"
      ]
    },
    {
      "cell_type": "code",
      "metadata": {
        "colab": {
          "base_uri": "https://localhost:8080/"
        },
        "id": "nYhvnDa3YIUN",
        "outputId": "681b8e74-cc6e-4494-86fe-89f1d697e914"
      },
      "source": [
        "def DP_knapsack_01(capacity, weights, values):\n",
        "    cur_table = [0 if cap < weights[0] else values[0] for cap in range(capacity + 1)]\n",
        "    next_table = [None] * (capacity + 1)\n",
        "    for item in range(1, len(weights)):\n",
        "        for cap in range(capacity + 1):\n",
        "            next_table[cap] = cur_table[cap] if cap < weights[item] else max(cur_table[cap], cur_table[cap - weights[item]] + values[item])\n",
        "        cur_table, next_table = next_table, cur_table\n",
        "    return cur_table[-1]\n",
        "\n",
        "print(DP_knapsack_01(10, [6, 5, 4, 2, 2], [6, 3, 5, 4, 6]))"
      ],
      "execution_count": 4,
      "outputs": [
        {
          "output_type": "stream",
          "text": [
            "16\n"
          ],
          "name": "stdout"
        }
      ]
    },
    {
      "cell_type": "markdown",
      "metadata": {
        "id": "8bNmykjCVgG7"
      },
      "source": [
        "### Knapsack problem with infinite number of each item."
      ]
    },
    {
      "cell_type": "code",
      "metadata": {
        "colab": {
          "base_uri": "https://localhost:8080/"
        },
        "id": "6eJx6_PpUBTv",
        "outputId": "02ad0c03-0ba1-4cbc-d42a-d1d78c7f71f0"
      },
      "source": [
        "def DP_knapsack_01(capacity, weights, values):\n",
        "    table = [0 if cap < weights[0] else values[0] for cap in range(capacity + 1)]\n",
        "    for item in range(1, len(weights)):\n",
        "        for cap in range(capacity + 1):\n",
        "            if cap >= weights[item]:\n",
        "                table[cap] = max(table[cap], table[cap - weights[item]] + values[item])\n",
        "    return table[-1]\n",
        "\n",
        "print(DP_knapsack_01(10, [6, 5, 4, 2, 2], [6, 3, 5, 4, 6]))"
      ],
      "execution_count": 6,
      "outputs": [
        {
          "output_type": "stream",
          "text": [
            "30\n"
          ],
          "name": "stdout"
        }
      ]
    },
    {
      "cell_type": "code",
      "metadata": {
        "id": "qLCg01dAWSGh"
      },
      "source": [
        ""
      ],
      "execution_count": null,
      "outputs": []
    }
  ]
}